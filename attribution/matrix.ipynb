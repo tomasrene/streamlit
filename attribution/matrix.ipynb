{
 "cells": [
  {
   "cell_type": "code",
   "execution_count": 1,
   "metadata": {},
   "outputs": [],
   "source": [
    "import pandas as pd\n",
    "import numpy as np"
   ]
  },
  {
   "cell_type": "code",
   "execution_count": 6,
   "metadata": {},
   "outputs": [],
   "source": [
    "from utils import markov\n",
    "from utils import shapley\n",
    "from utils import heuristic"
   ]
  },
  {
   "cell_type": "code",
   "execution_count": 7,
   "metadata": {},
   "outputs": [],
   "source": [
    "from utils.timer import Timer"
   ]
  },
  {
   "cell_type": "markdown",
   "metadata": {},
   "source": [
    "## PRUEBA"
   ]
  },
  {
   "cell_type": "code",
   "execution_count": 2,
   "metadata": {},
   "outputs": [],
   "source": [
    "data = [\n",
    "    ['U1','C1',0],\n",
    "    ['U2','C1',0],\n",
    "    ['U3','C1',0],\n",
    "    ['U4','C1',0],\n",
    "    ['U5','C1',0],\n",
    "    ['U6','C1',0],\n",
    "    ['U7','C1',0],\n",
    "    ['U8','C1',0],\n",
    "    ['U9','C1',0],\n",
    "    ['U10','C1',0],\n",
    "\n",
    "    ['U6','C2',0],\n",
    "    ['U7','C2',0],\n",
    "    ['U8','C2',0],\n",
    "    ['U9','C2',0],\n",
    "    ['U10','C2',0],\n",
    "\n",
    "    ['U11','C2',0],\n",
    "    ['U12','C2',0],\n",
    "    ['U13','C2',0],\n",
    "    ['U14','C2',0],\n",
    "    ['U15','C2',0],\n",
    "    ['U16','C2',0],\n",
    "    ['U17','C2',0],\n",
    "    ['U18','C2',0],\n",
    "    ['U19','C2',0],\n",
    "    ['U20','C2',0],\n",
    "\n",
    "    ['U6','C3',1],\n",
    "    ['U7','C3',1],\n",
    "    ['U8','C3',1],\n",
    "    ['U9','C3',1],\n",
    "    ['U10','C3',1],\n",
    "\n",
    "    ['U11','C3',1],\n",
    "    ['U12','C3',0],\n",
    "    ['U13','C3',0],\n",
    "    ['U14','C3',0],\n",
    "    ['U15','C3',0],\n",
    "    ['U16','C3',0],\n",
    "    ['U17','C3',0],\n",
    "    ['U18','C3',0],\n",
    "    ['U19','C3',0],\n",
    "    ['U20','C3',0],\n",
    "    ]"
   ]
  },
  {
   "cell_type": "code",
   "execution_count": 15,
   "metadata": {},
   "outputs": [],
   "source": [
    "import csv\n",
    "with open('data_basic.csv', 'w') as f:\n",
    "      \n",
    "    write = csv.writer(f)\n",
    "    write.writerows(data)"
   ]
  },
  {
   "cell_type": "code",
   "execution_count": 16,
   "metadata": {},
   "outputs": [
    {
     "data": {
      "text/html": "<div>\n<style scoped>\n    .dataframe tbody tr th:only-of-type {\n        vertical-align: middle;\n    }\n\n    .dataframe tbody tr th {\n        vertical-align: top;\n    }\n\n    .dataframe thead th {\n        text-align: right;\n    }\n</style>\n<table border=\"1\" class=\"dataframe\">\n  <thead>\n    <tr style=\"text-align: right;\">\n      <th></th>\n      <th>['U1', 'C1', 0]</th>\n      <th>['U2', 'C1', 0]</th>\n      <th>['U3', 'C1', 0]</th>\n      <th>['U4', 'C1', 0]</th>\n      <th>['U5', 'C1', 0]</th>\n      <th>['U6', 'C1', 0]</th>\n      <th>['U7', 'C1', 0]</th>\n      <th>['U8', 'C1', 0]</th>\n      <th>['U9', 'C1', 0]</th>\n      <th>['U10', 'C1', 0]</th>\n      <th>...</th>\n      <th>['U11', 'C3', 1]</th>\n      <th>['U12', 'C3', 0]</th>\n      <th>['U13', 'C3', 0]</th>\n      <th>['U14', 'C3', 0]</th>\n      <th>['U15', 'C3', 0]</th>\n      <th>['U16', 'C3', 0]</th>\n      <th>['U17', 'C3', 0]</th>\n      <th>['U18', 'C3', 0]</th>\n      <th>['U19', 'C3', 0]</th>\n      <th>['U20', 'C3', 0]</th>\n    </tr>\n  </thead>\n  <tbody>\n  </tbody>\n</table>\n<p>0 rows × 40 columns</p>\n</div>",
      "text/plain": "Empty DataFrame\nColumns: [['U1', 'C1', 0], ['U2', 'C1', 0], ['U3', 'C1', 0], ['U4', 'C1', 0], ['U5', 'C1', 0], ['U6', 'C1', 0], ['U7', 'C1', 0], ['U8', 'C1', 0], ['U9', 'C1', 0], ['U10', 'C1', 0], ['U6', 'C2', 0], ['U7', 'C2', 0], ['U8', 'C2', 0], ['U9', 'C2', 0], ['U10', 'C2', 0], ['U11', 'C2', 0], ['U12', 'C2', 0], ['U13', 'C2', 0], ['U14', 'C2', 0], ['U15', 'C2', 0], ['U16', 'C2', 0], ['U17', 'C2', 0], ['U18', 'C2', 0], ['U19', 'C2', 0], ['U20', 'C2', 0], ['U6', 'C3', 1], ['U7', 'C3', 1], ['U8', 'C3', 1], ['U9', 'C3', 1], ['U10', 'C3', 1], ['U11', 'C3', 1], ['U12', 'C3', 0], ['U13', 'C3', 0], ['U14', 'C3', 0], ['U15', 'C3', 0], ['U16', 'C3', 0], ['U17', 'C3', 0], ['U18', 'C3', 0], ['U19', 'C3', 0], ['U20', 'C3', 0]]\nIndex: []\n\n[0 rows x 40 columns]"
     },
     "execution_count": 16,
     "metadata": {},
     "output_type": "execute_result"
    }
   ],
   "source": [
    "import pandas as pd\n",
    "pd.read_csv(\"data_basic.csv\")"
   ]
  },
  {
   "cell_type": "code",
   "execution_count": 7,
   "metadata": {},
   "outputs": [
    {
     "data": {
      "text/html": "<div>\n<style scoped>\n    .dataframe tbody tr th:only-of-type {\n        vertical-align: middle;\n    }\n\n    .dataframe tbody tr th {\n        vertical-align: top;\n    }\n\n    .dataframe thead th {\n        text-align: right;\n    }\n</style>\n<table border=\"1\" class=\"dataframe\">\n  <thead>\n    <tr style=\"text-align: right;\">\n      <th></th>\n      <th>markov</th>\n    </tr>\n  </thead>\n  <tbody>\n    <tr>\n      <th>C1</th>\n      <td>0.8571</td>\n    </tr>\n    <tr>\n      <th>C2</th>\n      <td>2.5714</td>\n    </tr>\n    <tr>\n      <th>C3</th>\n      <td>2.5714</td>\n    </tr>\n  </tbody>\n</table>\n</div>",
      "text/plain": "    markov\nC1  0.8571\nC2  2.5714\nC3  2.5714"
     },
     "execution_count": 7,
     "metadata": {},
     "output_type": "execute_result"
    }
   ],
   "source": [
    "markov.markov_chain(data)"
   ]
  },
  {
   "cell_type": "code",
   "execution_count": 4,
   "metadata": {},
   "outputs": [
    {
     "data": {
      "text/html": "<div>\n<style scoped>\n    .dataframe tbody tr th:only-of-type {\n        vertical-align: middle;\n    }\n\n    .dataframe tbody tr th {\n        vertical-align: top;\n    }\n\n    .dataframe thead th {\n        text-align: right;\n    }\n</style>\n<table border=\"1\" class=\"dataframe\">\n  <thead>\n    <tr style=\"text-align: right;\">\n      <th></th>\n      <th>shapley</th>\n    </tr>\n  </thead>\n  <tbody>\n    <tr>\n      <th>C1</th>\n      <td>1.6</td>\n    </tr>\n    <tr>\n      <th>C2</th>\n      <td>2.2</td>\n    </tr>\n    <tr>\n      <th>C3</th>\n      <td>2.2</td>\n    </tr>\n  </tbody>\n</table>\n</div>",
      "text/plain": "    shapley\nC1      1.6\nC2      2.2\nC3      2.2"
     },
     "execution_count": 4,
     "metadata": {},
     "output_type": "execute_result"
    }
   ],
   "source": [
    "shapley.shapley_value(data)"
   ]
  },
  {
   "cell_type": "code",
   "execution_count": 5,
   "metadata": {},
   "outputs": [
    {
     "data": {
      "text/plain": "(       first\n canal       \n C1         5\n C2         1,\n        last\n canal      \n C3        6,\n          linear\n canal          \n C1     1.666667\n C2     2.166667\n C3     2.166667)"
     },
     "execution_count": 5,
     "metadata": {},
     "output_type": "execute_result"
    }
   ],
   "source": [
    "heuristic.heuristic_models(data)"
   ]
  },
  {
   "cell_type": "markdown",
   "metadata": {},
   "source": [
    "## MEJORA DE TIEMPOS"
   ]
  },
  {
   "cell_type": "code",
   "execution_count": null,
   "metadata": {},
   "outputs": [],
   "source": [
    "from utils import markov"
   ]
  },
  {
   "cell_type": "code",
   "execution_count": 150,
   "metadata": {},
   "outputs": [
    {
     "data": {
      "text/html": "<div>\n<style scoped>\n    .dataframe tbody tr th:only-of-type {\n        vertical-align: middle;\n    }\n\n    .dataframe tbody tr th {\n        vertical-align: top;\n    }\n\n    .dataframe thead th {\n        text-align: right;\n    }\n</style>\n<table border=\"1\" class=\"dataframe\">\n  <thead>\n    <tr style=\"text-align: right;\">\n      <th></th>\n      <th>user</th>\n      <th>channel</th>\n      <th>conversion</th>\n    </tr>\n  </thead>\n  <tbody>\n    <tr>\n      <th>0</th>\n      <td>U1</td>\n      <td>C1</td>\n      <td>0</td>\n    </tr>\n    <tr>\n      <th>1</th>\n      <td>U2</td>\n      <td>C1</td>\n      <td>0</td>\n    </tr>\n    <tr>\n      <th>2</th>\n      <td>U3</td>\n      <td>C1</td>\n      <td>0</td>\n    </tr>\n    <tr>\n      <th>3</th>\n      <td>U4</td>\n      <td>C1</td>\n      <td>0</td>\n    </tr>\n    <tr>\n      <th>4</th>\n      <td>U5</td>\n      <td>C1</td>\n      <td>0</td>\n    </tr>\n  </tbody>\n</table>\n</div>",
      "text/plain": "  user channel  conversion\n0   U1      C1           0\n1   U2      C1           0\n2   U3      C1           0\n3   U4      C1           0\n4   U5      C1           0"
     },
     "execution_count": 150,
     "metadata": {},
     "output_type": "execute_result"
    }
   ],
   "source": [
    "data = pd.read_csv(\"data_basic.csv\",names=['user','channel','conversion'])\n",
    "data.head(5)"
   ]
  },
  {
   "cell_type": "code",
   "execution_count": 151,
   "metadata": {},
   "outputs": [],
   "source": [
    "caminos = markov.obtener_caminos_markov(data)"
   ]
  },
  {
   "cell_type": "code",
   "execution_count": 152,
   "metadata": {},
   "outputs": [],
   "source": [
    "matriz_transicion = markov.calcular_matriz_transicion(caminos)"
   ]
  },
  {
   "cell_type": "code",
   "execution_count": 153,
   "metadata": {},
   "outputs": [
    {
     "data": {
      "text/html": "<div>\n<style scoped>\n    .dataframe tbody tr th:only-of-type {\n        vertical-align: middle;\n    }\n\n    .dataframe tbody tr th {\n        vertical-align: top;\n    }\n\n    .dataframe thead th {\n        text-align: right;\n    }\n</style>\n<table border=\"1\" class=\"dataframe\">\n  <thead>\n    <tr style=\"text-align: right;\">\n      <th>end</th>\n      <th>(start)</th>\n      <th>(conversion)</th>\n      <th>(null)</th>\n      <th>C1</th>\n      <th>C2</th>\n      <th>C3</th>\n    </tr>\n    <tr>\n      <th>start</th>\n      <th></th>\n      <th></th>\n      <th></th>\n      <th></th>\n      <th></th>\n      <th></th>\n    </tr>\n  </thead>\n  <tbody>\n    <tr>\n      <th>(start)</th>\n      <td>0.0</td>\n      <td>0.0</td>\n      <td>0.0</td>\n      <td>0.5</td>\n      <td>0.5</td>\n      <td>0.0</td>\n    </tr>\n    <tr>\n      <th>C1</th>\n      <td>0.0</td>\n      <td>0.0</td>\n      <td>0.5</td>\n      <td>0.0</td>\n      <td>0.5</td>\n      <td>0.0</td>\n    </tr>\n    <tr>\n      <th>C2</th>\n      <td>0.0</td>\n      <td>0.0</td>\n      <td>0.0</td>\n      <td>0.0</td>\n      <td>0.0</td>\n      <td>1.0</td>\n    </tr>\n    <tr>\n      <th>C3</th>\n      <td>0.0</td>\n      <td>0.4</td>\n      <td>0.6</td>\n      <td>0.0</td>\n      <td>0.0</td>\n      <td>0.0</td>\n    </tr>\n  </tbody>\n</table>\n</div>",
      "text/plain": "end      (start)  (conversion)  (null)   C1   C2   C3\nstart                                                \n(start)      0.0           0.0     0.0  0.5  0.5  0.0\nC1           0.0           0.0     0.5  0.0  0.5  0.0\nC2           0.0           0.0     0.0  0.0  0.0  1.0\nC3           0.0           0.4     0.6  0.0  0.0  0.0"
     },
     "execution_count": 153,
     "metadata": {},
     "output_type": "execute_result"
    }
   ],
   "source": [
    "matriz_transicion"
   ]
  },
  {
   "cell_type": "code",
   "execution_count": 154,
   "metadata": {},
   "outputs": [],
   "source": [
    "matriz_transicion = matriz_transicion.append(pd.DataFrame(np.zeros((2,6)),columns=matriz_transicion.columns,index=['(conversion)','(null)']))"
   ]
  },
  {
   "cell_type": "code",
   "execution_count": 158,
   "metadata": {},
   "outputs": [],
   "source": [
    "matriz_transicion = matriz_transicion[['(start)','C1','C2','C3','(conversion)','(null)']]"
   ]
  },
  {
   "cell_type": "code",
   "execution_count": 159,
   "metadata": {},
   "outputs": [
    {
     "data": {
      "text/html": "<div>\n<style scoped>\n    .dataframe tbody tr th:only-of-type {\n        vertical-align: middle;\n    }\n\n    .dataframe tbody tr th {\n        vertical-align: top;\n    }\n\n    .dataframe thead th {\n        text-align: right;\n    }\n</style>\n<table border=\"1\" class=\"dataframe\">\n  <thead>\n    <tr style=\"text-align: right;\">\n      <th>end</th>\n      <th>(start)</th>\n      <th>C1</th>\n      <th>C2</th>\n      <th>C3</th>\n      <th>(conversion)</th>\n      <th>(null)</th>\n    </tr>\n  </thead>\n  <tbody>\n    <tr>\n      <th>(start)</th>\n      <td>0.0</td>\n      <td>0.5</td>\n      <td>0.5</td>\n      <td>0.0</td>\n      <td>0.0</td>\n      <td>0.0</td>\n    </tr>\n    <tr>\n      <th>C1</th>\n      <td>0.0</td>\n      <td>0.0</td>\n      <td>0.5</td>\n      <td>0.0</td>\n      <td>0.0</td>\n      <td>0.5</td>\n    </tr>\n    <tr>\n      <th>C2</th>\n      <td>0.0</td>\n      <td>0.0</td>\n      <td>0.0</td>\n      <td>1.0</td>\n      <td>0.0</td>\n      <td>0.0</td>\n    </tr>\n    <tr>\n      <th>C3</th>\n      <td>0.0</td>\n      <td>0.0</td>\n      <td>0.0</td>\n      <td>0.0</td>\n      <td>0.4</td>\n      <td>0.6</td>\n    </tr>\n    <tr>\n      <th>(conversion)</th>\n      <td>0.0</td>\n      <td>0.0</td>\n      <td>0.0</td>\n      <td>0.0</td>\n      <td>0.0</td>\n      <td>0.0</td>\n    </tr>\n    <tr>\n      <th>(null)</th>\n      <td>0.0</td>\n      <td>0.0</td>\n      <td>0.0</td>\n      <td>0.0</td>\n      <td>0.0</td>\n      <td>0.0</td>\n    </tr>\n  </tbody>\n</table>\n</div>",
      "text/plain": "end           (start)   C1   C2   C3  (conversion)  (null)\n(start)           0.0  0.5  0.5  0.0           0.0     0.0\nC1                0.0  0.0  0.5  0.0           0.0     0.5\nC2                0.0  0.0  0.0  1.0           0.0     0.0\nC3                0.0  0.0  0.0  0.0           0.4     0.6\n(conversion)      0.0  0.0  0.0  0.0           0.0     0.0\n(null)            0.0  0.0  0.0  0.0           0.0     0.0"
     },
     "execution_count": 159,
     "metadata": {},
     "output_type": "execute_result"
    }
   ],
   "source": [
    "matriz_transicion"
   ]
  },
  {
   "cell_type": "code",
   "execution_count": 273,
   "metadata": {},
   "outputs": [],
   "source": [
    "p_con = np.array([\n",
    "    [0,0.5,0.5,0,0,0],\n",
    "    [0,0,0.5,0,0,0.5],\n",
    "    [0,0,0,1,0,0],\n",
    "    [0,0,0,0,0.4,0.6],\n",
    "    [0,0,0,0,1,0],\n",
    "    [0,0,0,0,0,1]\n",
    "])"
   ]
  },
  {
   "cell_type": "code",
   "execution_count": 283,
   "metadata": {},
   "outputs": [
    {
     "data": {
      "text/plain": "array([[0. , 0.5, 0.5, 0. ],\n       [0. , 0. , 0.5, 0. ],\n       [0. , 0. , 0. , 1. ],\n       [0. , 0. , 0. , 0. ]])"
     },
     "execution_count": 283,
     "metadata": {},
     "output_type": "execute_result"
    }
   ],
   "source": [
    "p_con[:-2,:-2]"
   ]
  },
  {
   "cell_type": "code",
   "execution_count": 274,
   "metadata": {},
   "outputs": [],
   "source": [
    "p_sin = np.array([\n",
    "    [0,0.5,0,0,0.5],\n",
    "    [0,0,1,0,0],\n",
    "    [0,0,0,0.4,0.6],\n",
    "    [0,0,0,1,0],\n",
    "    [0,0,0,0,1]\n",
    "])"
   ]
  },
  {
   "cell_type": "code",
   "execution_count": 305,
   "metadata": {},
   "outputs": [],
   "source": [
    "p_sin_inicial = np.array([0.5,0.5,0])"
   ]
  },
  {
   "cell_type": "code",
   "execution_count": 301,
   "metadata": {},
   "outputs": [],
   "source": [
    "def calcular_p_stable(p,ver=False):\n",
    "    q = p[:-2,:-2]\n",
    "    if ver: print(f'matriz q:\\n{q}\\n')\n",
    "    r = p[:-2,-2:]\n",
    "    if ver: print(f'matriz r:\\n{r}\\n')\n",
    "    i = np.eye(len(q))\n",
    "    fm = np.linalg.inv(i-q)\n",
    "    if ver: print(f'matriz fm:\\n{fm}\\n')\n",
    "    p_stable = np.dot(fm,r)\n",
    "    if ver: print(f'matriz p_stable:\\n{p_stable}\\n')\n",
    "\n",
    "    return p_stable"
   ]
  },
  {
   "cell_type": "code",
   "execution_count": 302,
   "metadata": {},
   "outputs": [],
   "source": [
    "p_stable_sin = calcular_p_stable(p_sin)\n",
    "p_stable_con = calcular_p_stable(p_con)"
   ]
  },
  {
   "cell_type": "code",
   "execution_count": 303,
   "metadata": {},
   "outputs": [
    {
     "data": {
      "text/plain": "array([[0.2, 0.8],\n       [0.4, 0.6],\n       [0.4, 0.6]])"
     },
     "execution_count": 303,
     "metadata": {},
     "output_type": "execute_result"
    }
   ],
   "source": [
    "p_stable_sin"
   ]
  },
  {
   "cell_type": "code",
   "execution_count": 304,
   "metadata": {},
   "outputs": [
    {
     "data": {
      "text/plain": "array([[0.3, 0.7],\n       [0.2, 0.8],\n       [0.4, 0.6],\n       [0.4, 0.6]])"
     },
     "execution_count": 304,
     "metadata": {},
     "output_type": "execute_result"
    }
   ],
   "source": [
    "p_stable_con"
   ]
  },
  {
   "cell_type": "code",
   "execution_count": 307,
   "metadata": {},
   "outputs": [],
   "source": [
    "x_table_sin = np.dot(p_sin_inicial,p_stable_sin)"
   ]
  },
  {
   "cell_type": "code",
   "execution_count": 309,
   "metadata": {},
   "outputs": [
    {
     "data": {
      "text/plain": "array([ True,  True])"
     },
     "execution_count": 309,
     "metadata": {},
     "output_type": "execute_result"
    }
   ],
   "source": [
    "x_table_sin == p_stable_con[0]"
   ]
  },
  {
   "cell_type": "code",
   "execution_count": 263,
   "metadata": {},
   "outputs": [],
   "source": [
    "def generar_datos(s=3,m=2):\n",
    "    q_r = np.random.dirichlet(np.ones(s+m),s)\n",
    "    z = np.zeros((m,s))\n",
    "    i = np.eye(m)\n",
    "    p = np.append(q_r,np.append(z,i,axis=1),axis=0)\n",
    "    return p"
   ]
  },
  {
   "cell_type": "code",
   "execution_count": 77,
   "metadata": {},
   "outputs": [],
   "source": [
    "def inv_dot(matriz,vector):\n",
    "    inv_diff = np.linalg.inv(np.identity(len(matriz)) - np.asarray(matriz))\n",
    "    dot_prod = np.dot(inv_diff,np.asarray(vector))\n",
    "    \n",
    "    return dot_prod"
   ]
  },
  {
   "cell_type": "code",
   "execution_count": 78,
   "metadata": {},
   "outputs": [],
   "source": [
    "def solve(matriz,vector):\n",
    "    solved = np.linalg.solve(matriz,vector)\n",
    "    \n",
    "    return solved"
   ]
  },
  {
   "cell_type": "code",
   "execution_count": 79,
   "metadata": {},
   "outputs": [
    {
     "name": "stdout",
     "output_type": "stream",
     "text": [
      "Metodo 1\n",
      "Elapsed time: 0.0008 seconds\n",
      "Metodo 2\n",
      "Elapsed time: 0.0002 seconds\n",
      "\n",
      "[[6.38144649e+15 6.20598366e+15]\n",
      " [6.38144649e+15 6.20598366e+15]\n",
      " [6.38144649e+15 6.20598366e+15]\n",
      " [6.38144649e+15 6.20598366e+15]\n",
      " [6.38144649e+15 6.20598366e+15]\n",
      " [6.38144649e+15 6.20598366e+15]\n",
      " [6.38144649e+15 6.20598366e+15]\n",
      " [6.38144649e+15 6.20598366e+15]\n",
      " [6.38144649e+15 6.20598366e+15]\n",
      " [6.38144649e+15 6.20598366e+15]]\n",
      "\n",
      "[[-1.36618279 -2.12447656]\n",
      " [-8.69461101 -6.61446077]\n",
      " [ 0.93433023 -0.08513084]\n",
      " [ 6.16707065  4.42811963]\n",
      " [ 1.9852023   0.67733131]\n",
      " [-5.79599399 -2.7431356 ]\n",
      " [-0.24180605  1.62336161]\n",
      " [ 5.01393193  4.63820726]\n",
      " [-1.79840788  0.30110071]\n",
      " [ 3.07866221  1.25870541]]\n"
     ]
    }
   ],
   "source": [
    "matriz,vector = generar_datos(10)\n",
    "\n",
    "with Timer():\n",
    "    print(\"Metodo 1\")\n",
    "    metodo1 = inv_dot(matriz,vector)\n",
    "with Timer():\n",
    "    print(\"Metodo 2\")\n",
    "    metodo2 = solve(matriz,vector)\n",
    "print()\n",
    "print(metodo1)\n",
    "print()\n",
    "print(metodo2)"
   ]
  },
  {
   "cell_type": "code",
   "execution_count": 23,
   "metadata": {},
   "outputs": [
    {
     "name": "stdout",
     "output_type": "stream",
     "text": [
      "(1000, 1000)\n",
      "Elapsed time: 0.1185 seconds\n",
      "(2000, 2000)\n",
      "Elapsed time: 0.9523 seconds\n",
      "(5000, 5000)\n",
      "Elapsed time: 8.7129 seconds\n",
      "(10000, 10000)\n",
      "Elapsed time: 71.9020 seconds\n",
      "(20000, 20000)\n"
     ]
    }
   ],
   "source": [
    "for n in [1000,2000,5000,10000]:\n",
    "    matriz = generar_matriz(n)\n",
    "    with Timer():\n",
    "        print(matriz.shape)\n",
    "        resolver_matriz(matriz)"
   ]
  },
  {
   "cell_type": "code",
   "execution_count": null,
   "metadata": {},
   "outputs": [],
   "source": [
    "# armar matriz de convergencia (columnas finales)\n",
    "removal_to_conv = data[['(null)','(conversion)']]\n",
    "\n",
    "# armar matriz de canales (filas de canales)\n",
    "removal_to_non_conv = data.drop(['(conversion)','(null)'],axis=1)\n",
    "\n",
    "# calcular la inversa de (I - canales)\n",
    "removal_inv_diff = np.linalg.inv(np.identity(len(removal_to_non_conv.columns)) - np.asarray(removal_to_non_conv))\n",
    "\n",
    "# calcular producto matricial de la inversa y la de convergencia\n",
    "removal_dot_prod = np.dot(removal_inv_diff, np.asarray(removal_to_conv))"
   ]
  }
 ],
 "metadata": {
  "kernelspec": {
   "display_name": "Python 3.7.6 64-bit ('base': conda)",
   "name": "python376jvsc74a57bd0f02e1b834785f9539729706e574985acc6d9187587d455f7e5c50a30b32b5169"
  },
  "language_info": {
   "codemirror_mode": {
    "name": "ipython",
    "version": 3
   },
   "file_extension": ".py",
   "mimetype": "text/x-python",
   "name": "python",
   "nbconvert_exporter": "python",
   "pygments_lexer": "ipython3",
   "version": "3.7.6"
  }
 },
 "nbformat": 4,
 "nbformat_minor": 4
}