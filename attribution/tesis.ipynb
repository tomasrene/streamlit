{
 "cells": [
  {
   "cell_type": "code",
   "execution_count": 256,
   "metadata": {},
   "outputs": [],
   "source": [
    "import pandas as pd\n",
    "import numpy as np\n",
    "from itertools import permutations\n",
    "from itertools import combinations\n",
    "from collections import Counter"
   ]
  },
  {
   "cell_type": "code",
   "execution_count": 257,
   "metadata": {},
   "outputs": [],
   "source": [
    "tesis = pd.read_csv(\"./data_tesis.csv\", low_memory=False)"
   ]
  },
  {
   "cell_type": "code",
   "execution_count": 258,
   "metadata": {},
   "outputs": [],
   "source": [
    "marketing = pd.read_csv(\"./marketing.csv\")\n",
    "marketing = marketing.loc[:,[\"user_id\",\"marketing_channel\",\"converted\"]]\n",
    "marketing['converted'] = marketing['converted']*1\n",
    "marketing = marketing.dropna()\n",
    "marketing = marketing.sort_values(by=['user_id','marketing_channel'])"
   ]
  },
  {
   "cell_type": "markdown",
   "metadata": {},
   "source": [
    "# GENERAL"
   ]
  },
  {
   "cell_type": "code",
   "execution_count": 259,
   "metadata": {},
   "outputs": [],
   "source": [
    "def formatear(data):\n",
    "    '''\n",
    "    Toma el dataset (lista o dataframe), valida los tipos de datos y transforma el tipo y nombre de las columnas\n",
    "    para optimizar el procesamiento\n",
    "    '''\n",
    "    \n",
    "    # definir el nombre de las columnas\n",
    "    columnas = ['usuario','canal','conversion']\n",
    "    \n",
    "    # formatear los datos segun el tipo\n",
    "    if isinstance(data,list):\n",
    "        data = pd.DataFrame(data,columns=columnas)\n",
    "    if isinstance(data,pd.DataFrame):\n",
    "        data.columns = columnas\n",
    "    else:\n",
    "        print(\"Error en el formato\")\n",
    "        \n",
    "    # pasar usuario a numerico\n",
    "    data['usuario'] = pd.factorize(data['usuario'])[0]\n",
    "    \n",
    "    return data\n"
   ]
  },
  {
   "cell_type": "markdown",
   "metadata": {},
   "source": [
    "# MARKOV"
   ]
  },
  {
   "cell_type": "code",
   "execution_count": 260,
   "metadata": {},
   "outputs": [],
   "source": [
    "def markov_chain(data, attributes = True):\n",
    "    '''\n",
    "    DESCRIPCION\n",
    "    Toma un dataframe con recorridos de usuarios que pueden terminar o no en conversion.\n",
    "    A partir de eso, calcula un modelo de markov de orden 1 para distribuir las conversiones entre los canales.\n",
    "    \n",
    "    PARAMETROS\n",
    "    - attributes: True para retornar los valores absolutos de las conversiones\n",
    "    \n",
    "    RETURN\n",
    "    - removal_effect: Un diccionario con los canales como keys y los valores como value segun los parametros.\n",
    "    \n",
    "    REQUERIMIENTOS\n",
    "    - Tipo list o dataframe\n",
    "    - Ordenado cronologicamente\n",
    "    - 3 columnas en orden: usuario, canal y conversion (booleano)\n",
    "\n",
    "    '''\n",
    "    # validar input\n",
    "    data = formatear(data)\n",
    "\n",
    "    # obtener caminos formateados para Markov\n",
    "    caminos = obtener_caminos_markov(data)\n",
    "    \n",
    "    # obtener matriz de transicion de probabilidades\n",
    "    matriz = calcular_matriz_transicion(caminos)\n",
    "    \n",
    "    # obtener el diciconario del removal effect de cada canal\n",
    "    removal_effect = calcular_removal_effect(matriz)\n",
    "        \n",
    "    # atribuir segun los parametros de la funcion\n",
    "    if attributes:\n",
    "        removal_effect.update((x, y*np.sum(data['conversion'].tolist())) for x, y in removal_effect.items())\n",
    "    \n",
    "    # redondear valores\n",
    "    removal_effect = {k:round(v,4) for k,v in removal_effect.items()}\n",
    "    \n",
    "    # pasar a data frame\n",
    "    atribucion = pd.DataFrame.from_dict(removal_effect,orient='index',columns=[\"markov\"])\n",
    "    \n",
    "    return atribucion"
   ]
  },
  {
   "cell_type": "code",
   "execution_count": 261,
   "metadata": {},
   "outputs": [],
   "source": [
    "def obtener_caminos_markov(data):\n",
    "    '''\n",
    "    Toma un dataframe de sesiones, agrupa por usuario y aplica una funcion\n",
    "    para obtener los caminos de cada uno hasta la conversion incluyendo los que no convierten\n",
    "    y sin eliminar canales repetidos.\n",
    "    '''    \n",
    "    def funcion_list_markov(data):\n",
    "        '''\n",
    "        Toma un data frame por usuario, crea contenedores y va iterando almacenando los canales \n",
    "        que llevan a la conversion, agregando al final los canales que llevan a la no conversion\n",
    "        '''\n",
    "        # crear contenedores\n",
    "        final = []\n",
    "        caminos = []\n",
    "\n",
    "        # iterar sobre las sesiones\n",
    "        for i in data.itertuples():\n",
    "            caminos.append(i.canal)\n",
    "\n",
    "            # si hay conversion, agregar los canales anteriores\n",
    "            if i.conversion == 1:\n",
    "                final.append([\">\".join(caminos),1])\n",
    "                # resetear\n",
    "                caminos = []\n",
    "        # agregar canales sobrantes si los hay\n",
    "        if len(caminos)>0:\n",
    "            final.append([\">\".join(caminos),0])\n",
    "\n",
    "        return final\n",
    "    \n",
    "    # aplicar la funcion a cada usuario\n",
    "    caminos = data.groupby('usuario',observed=True).apply(funcion_list_markov).explode().tolist()\n",
    "    \n",
    "    return caminos"
   ]
  },
  {
   "cell_type": "code",
   "execution_count": 262,
   "metadata": {},
   "outputs": [],
   "source": [
    "def calcular_matriz_transicion(data):\n",
    "    '''\n",
    "    Toma un dataset de caminos y lo convierte en una matriz de transiciones entre canales para calcular Markov.\n",
    "    Incluye como canal (start) al inicio de cada recorrido y (null) o (conversion) segun el resultado.    \n",
    "    '''\n",
    "    \n",
    "    # agregar estados iniciales y finales\n",
    "    recorridos = [\"(start)>\"+i[0]+\">(conversion)\" if i[1] == 1 else \"(start)>\"+i[0]+\">(null)\" for i in data]\n",
    "    \n",
    "    # armar las transiciones con pares de canales\n",
    "    transiciones = list(map(lambda x:list(zip(x[:],x[1:])),[i.split(\">\") for i in recorridos]))\n",
    "    \n",
    "    # darle formato de inicio y fin\n",
    "    transiciones_formato = pd.DataFrame([j for i in transiciones for j in i],columns=['start','end'])\n",
    "    \n",
    "    # armar la matriz normalizada con las transiciones\n",
    "    matriz = pd.crosstab(index=transiciones_formato['start'],columns=transiciones_formato['end'], normalize = 'index', dropna = False)\n",
    "    \n",
    "    # chequear si falta alguna columna y agregarla\n",
    "    for columna in ['(conversion)','(null)']:\n",
    "        if columna not in matriz.columns:\n",
    "            matriz.insert(0,columna,np.zeros(matriz.shape[0]))\n",
    "    \n",
    "    # agregar start como posible final\n",
    "    matriz.insert(0,'(start)',np.zeros(matriz.shape[0]))\n",
    "    \n",
    "    return matriz"
   ]
  },
  {
   "cell_type": "code",
   "execution_count": 263,
   "metadata": {},
   "outputs": [],
   "source": [
    "def calcular_markov(data):\n",
    "    '''\n",
    "    Toma una matriz de transiciones entre los canales (con null, start y conversion) y devuelve la tasa de\n",
    "    conversion partienda del estado start.\n",
    "    '''\n",
    "    # armar matriz de convergencia (columnas finales)\n",
    "    removal_to_conv = data[['(null)','(conversion)']]\n",
    "    \n",
    "    # armar matriz de canales (filas de canales)\n",
    "    removal_to_non_conv = data.drop(['(conversion)','(null)'],axis=1)\n",
    "    \n",
    "    # calcular la inversa de (I - canales)\n",
    "    removal_inv_diff = np.linalg.inv(np.identity(len(removal_to_non_conv.columns)) - np.asarray(removal_to_non_conv))\n",
    "    \n",
    "    # calcular producto matricial de la inversa y la de convergencia\n",
    "    removal_dot_prod = np.dot(removal_inv_diff, np.asarray(removal_to_conv))\n",
    "        \n",
    "    # devolver la probabilidad de conversion del inicio en start\n",
    "    cvr = pd.DataFrame(removal_dot_prod,index=removal_to_conv.index)[[1]].loc['(start)'].values[0]\n",
    "    \n",
    "    return cvr"
   ]
  },
  {
   "cell_type": "code",
   "execution_count": 264,
   "metadata": {},
   "outputs": [],
   "source": [
    "def calcular_removal_effect(data):\n",
    "    '''\n",
    "    Toma una matriz de transiciones entre los canales (con null, start y conversion) y calcula el removal effect\n",
    "    de cada uno de los canales.\n",
    "    \n",
    "    Para eso, itera sobre los canales (sin start, conversion y null) y calcula la tasa de conversion general. \n",
    "    Luego, borra la fila del canal, asigna sus probabilidades de transicion a null y recalcula la\n",
    "    tasa de conversion.\n",
    "    \n",
    "    Devuelve la proporcion normalizada en que disminuye la tasa de conversion original.\n",
    "    \n",
    "    '''\n",
    "    # calcular conversion general y guardar\n",
    "    cr_general = calcular_markov(data)\n",
    "    \n",
    "    # crear un diccionario para almacenar removal effect de cada canal\n",
    "    removal_effect = {}\n",
    "    \n",
    "    # iterar sobre canales validos\n",
    "    for channel in data.columns:\n",
    "        if channel not in ['(start)','(conversion)','(null)']:\n",
    "            \n",
    "            # borrar linea y columna del canal\n",
    "            matriz_canal = data.drop(channel, axis=1).drop(channel, axis=0)\n",
    "            \n",
    "            # reasignar probabilidad a nulo\n",
    "            for column in matriz_canal.columns:\n",
    "                if column not in ['(conversion)','(null)']:\n",
    "                    faltante = float(1) - np.sum(list(matriz_canal.loc[column]))\n",
    "                    if faltante != 0:\n",
    "                        matriz_canal.loc[column]['(null)'] = faltante\n",
    "            \n",
    "            # calcular la conversion\n",
    "            cr_canal = calcular_markov(matriz_canal)\n",
    "           \n",
    "            # calcular la variacion de la conversion\n",
    "            removal_effect_canal = 1 - cr_canal / cr_general\n",
    "            \n",
    "            # guardar en diccionario\n",
    "            removal_effect[channel] = removal_effect_canal\n",
    "    \n",
    "    # calcular valor total\n",
    "    suma = np.sum(list(removal_effect.values()))\n",
    "    \n",
    "    # normalizar\n",
    "    removal_effect_normalizado = {key: (value / suma) for key, value in removal_effect.items()}\n",
    "\n",
    "    # devolver diccionario\n",
    "    return removal_effect_normalizado"
   ]
  },
  {
   "cell_type": "markdown",
   "metadata": {},
   "source": [
    "# SHAPLEY"
   ]
  },
  {
   "cell_type": "code",
   "execution_count": 265,
   "metadata": {},
   "outputs": [],
   "source": [
    "def shapley_value(data):\n",
    "    '''\n",
    "    DESCRIPCION\n",
    "    Toma un dataframe con recorridos de usuarios que pueden terminar o no en conversion.\n",
    "    A partir de eso, calcula las conversiones de cada canal segun el valor de Shapley.\n",
    "\n",
    "    PARAMETROS\n",
    "    - attributes: True para retornar los valores absolutos de las conversiones\n",
    "    \n",
    "    RETURN\n",
    "    Devuelve un dataframe con los canales como indice y una columna con las conversiones de cada uno.\n",
    "    \n",
    "    REQUIRIMIENTOS\n",
    "    - Tipo list o dataframe\n",
    "    - Ordenado cronologicamente\n",
    "    - 3 columnas en orden: usuario, canal y conversion (booleano)\n",
    "    '''\n",
    "    \n",
    "    # chequear formato\n",
    "    data = formatear(data)\n",
    "    \n",
    "    # calcular conversiones_totales\n",
    "    conversiones_totales = sum(data.conversion)\n",
    "\n",
    "    # obtener coaliciones posibles y gran coalicion de los n canales unicos\n",
    "    coaliciones, gran_coalicion = obtener_coaliciones(data)\n",
    "    \n",
    "    # obtener caminos\n",
    "    caminos = obtener_caminos_shapley(data)\n",
    "    \n",
    "    # agregar resultado al data frame de coaliciones\n",
    "    coaliciones.update(caminos)\n",
    "    \n",
    "    # calcular el valor de shapley\n",
    "    shapley = calcular_shapley(coaliciones,gran_coalicion)\n",
    "\n",
    "    # dar formato\n",
    "    shapley = pd.DataFrame(shapley, index = gran_coalicion)\n",
    "    \n",
    "    # atribuir conversiones totales segun valor de shapley\n",
    "    atribucion = pd.DataFrame(round(shapley.sum()/sum(shapley.sum())*conversiones_totales,2),columns=['shapley'])\n",
    "    \n",
    "    return atribucion"
   ]
  },
  {
   "cell_type": "code",
   "execution_count": 266,
   "metadata": {},
   "outputs": [],
   "source": [
    "def obtener_coaliciones(data):\n",
    "    '''\n",
    "    Pasando un data frame de recorridos, devuelve las coaliciones posibles entre los canales unicos y\n",
    "    todas las permutaciones de la gran coalicion de los n canales unicos.\n",
    "    '''\n",
    "    # obtener canales unicos\n",
    "    canales_unicos = list(sorted(set(data.canal)))\n",
    "    \n",
    "    # obtener las combinaciones posibles a partir de los canales unicos\n",
    "    canales_combinados = ['>'.join(i) for i in combinar(canales_unicos)]\n",
    "    \n",
    "    # armar un diccionario con todas las coaliciones posibles\n",
    "    coaliciones = {camino:0 for camino in canales_combinados}\n",
    "    \n",
    "    # armar la gran coalicion y sus permutaciones\n",
    "    gran_coalicion = permutar([canales_unicos])    \n",
    "        \n",
    "    return coaliciones, gran_coalicion"
   ]
  },
  {
   "cell_type": "code",
   "execution_count": 267,
   "metadata": {},
   "outputs": [],
   "source": [
    "def obtener_caminos_shapley(data):\n",
    "    '''\n",
    "    Toma un dataframe de sesiones, agrupa por usuario y aplica una funcion\n",
    "    para obtener los caminos de canales unicos de cada uno hasta la conversion.\n",
    "    '''\n",
    "    # agrupar por usuario, aplicar funcion y desanidar las listas\n",
    "    caminos = data.groupby('usuario').apply(funcion_list_shapley).dropna().explode()\n",
    "\n",
    "    # agrupar y contar ocurrencias de cada camino\n",
    "    caminos = dict(Counter([i[0] for i in caminos.tolist()]))\n",
    "    \n",
    "    return caminos"
   ]
  },
  {
   "cell_type": "code",
   "execution_count": 268,
   "metadata": {},
   "outputs": [],
   "source": [
    "def funcion_list_shapley(data):\n",
    "    '''\n",
    "    Toma un data frame de caminos por cada usuario. Los procesa para devolver caminos con formato Shapley.\n",
    "    Si no hay conversion, retorna. Agrupa canales unicos, ordenados y por cada conversion.\n",
    "    '''\n",
    "    # retornar si no hay conversion\n",
    "    if data.conversion.sum() == 0:\n",
    "        return np.nan\n",
    "    \n",
    "    # crear contenedores\n",
    "    final = []\n",
    "    caminos = []\n",
    "    \n",
    "    # iterar sobre las sesiones\n",
    "    for i in data.itertuples():\n",
    "        caminos.append(i.canal)\n",
    "        \n",
    "        # si hay conversion, agregar los canales unicos anteriores y ordenados\n",
    "        if i.conversion == 1:\n",
    "            final.append(['>'.join(sorted(set(caminos)))])\n",
    "            \n",
    "            # resetear\n",
    "            caminos = []\n",
    "    \n",
    "    return final"
   ]
  },
  {
   "cell_type": "code",
   "execution_count": 269,
   "metadata": {},
   "outputs": [],
   "source": [
    "def funcion_caracteristica(data):\n",
    "    '''\n",
    "    Toma un data frame de coaliciones y conversiones y lo escala utilizando la funcion\n",
    "    caracteristica aplicada para Shapley value: el valor de una coalicion es la suma\n",
    "    del valor de sus subsets.\n",
    "    '''\n",
    "    \n",
    "    # guardar un original de base para los calculos\n",
    "    base = data.copy()\n",
    "    \n",
    "    # iterar para cada camino\n",
    "    for camino in data.keys():\n",
    "        \n",
    "        valor_camino = 0\n",
    "        \n",
    "        # iterar por cada canal\n",
    "        for canal in combinar(camino.split(\">\")):\n",
    "            \n",
    "            # acumular el valor original\n",
    "            valor_camino += base['>'.join(canal)]\n",
    "        \n",
    "        # reemplazar el valor en coaliciones\n",
    "        data[camino] = valor_camino   \n",
    "    \n",
    "    return data"
   ]
  },
  {
   "cell_type": "code",
   "execution_count": 270,
   "metadata": {},
   "outputs": [],
   "source": [
    "def calcular_shapley(coaliciones,gran_coalicion):\n",
    "    '''\n",
    "    Toma una lista de gran coaliciones y calcula el valor de Shapley para cada canal.\n",
    "    '''\n",
    "    def calcular(linea):\n",
    "        # establer placeholders\n",
    "        suma = 0\n",
    "        canales = []\n",
    "        devolver = {}\n",
    "\n",
    "        # para cada canal de la gran coalicion\n",
    "        for canal in list(linea):\n",
    "            # acumular canales\n",
    "            canales.append(canal)\n",
    "            # restar valor acumulado\n",
    "            valor = max(coaliciones['>'.join(sorted(canales))] - suma,0)\n",
    "            # registrar valor en diccionario final\n",
    "            devolver[canal] = valor\n",
    "            # incrementar la suma acumulada\n",
    "            suma += valor\n",
    "\n",
    "        return devolver\n",
    "    \n",
    "    # calcular para cada linea de la gran coalicion\n",
    "    shapley = list(map(calcular,gran_coalicion))\n",
    "    \n",
    "    return shapley"
   ]
  },
  {
   "cell_type": "code",
   "execution_count": 271,
   "metadata": {},
   "outputs": [],
   "source": [
    "def combinar(lista):\n",
    "    '''\n",
    "    Pasando una lista de elementos, devuelve una lista exhaustiva con la combinacion de todos los elementos\n",
    "    '''\n",
    "    # ordenar\n",
    "    lista = sorted(lista)\n",
    "    \n",
    "    # calcular el numero de elementos\n",
    "    numero_de_elementos = len(lista)\n",
    "    \n",
    "    # crear un rango de 1 a n\n",
    "    rango = range(1,numero_de_elementos+1)\n",
    "    \n",
    "    # hacer la combinatoria\n",
    "    combinacion = [list(combinations(lista,i)) for i in rango]\n",
    "    \n",
    "    # desanidar las listas\n",
    "    resultado = [tupla for sublist in combinacion for tupla in sublist]\n",
    "    \n",
    "    return resultado"
   ]
  },
  {
   "cell_type": "code",
   "execution_count": 272,
   "metadata": {},
   "outputs": [],
   "source": [
    "def permutar(lista, orden_original = True):\n",
    "    '''\n",
    "    Pasando una lista de tuplas, devuelve una lista de las tuplas permutadas\n",
    "    '''\n",
    "    # generar las permutaciones\n",
    "    permutaciones = [list(permutations(tupla)) for tupla in lista]\n",
    "    \n",
    "    # desanidar las listas\n",
    "    resultado = [tupla for sublist in permutaciones for tupla in sublist]\n",
    "    \n",
    "    return resultado"
   ]
  },
  {
   "cell_type": "markdown",
   "metadata": {},
   "source": [
    "# HEURISTICOS"
   ]
  },
  {
   "cell_type": "code",
   "execution_count": 273,
   "metadata": {},
   "outputs": [],
   "source": [
    "def heuristic(data):\n",
    "    '''\n",
    "    DESCRIPCION\n",
    "    Toma un dataframe con recorridos de usuarios que pueden terminar o no en conversion.\n",
    "    A partir de eso, calcula las conversiones de cada canal segun modelos heuristicos.\n",
    "\n",
    "    PARAMETROS\n",
    "    \n",
    "    \n",
    "    RETURN\n",
    "    - first_conversion: diccionario con las conversiones por canal segun first click\n",
    "    - last_conversion: diccionario con las conversiones por canal segun last click\n",
    "        \n",
    "    REQUIRIMIENTOS\n",
    "    - Tipo list o dataframe\n",
    "    - Ordenado cronologicamente\n",
    "    - 3 columnas en orden: usuario, canal y conversion (booleano)\n",
    "    \n",
    "    '''\n",
    "    # validar input\n",
    "    data = formatear(data)\n",
    "    \n",
    "    # obtener tuplas de caminos con conversion\n",
    "    caminos = obtener_caminos_shapley(data)\n",
    "    \n",
    "    # separar los canales de los caminos\n",
    "    data_total = [[k.split(\">\"),v] for k,v in caminos.items()]\n",
    "    \n",
    "    # guardar el canal que corresponda\n",
    "    data_first = [[i[0][0],i[1]] for i in data_total]\n",
    "    data_last = [[i[0][-1],i[1]] for i in data_total]\n",
    "    data_linear = [[canal,i[1]/len(i[0])] for i in data_total for canal in i[0]]\n",
    "       \n",
    "    # calcular las conversiones segun cada modelo\n",
    "    first = pd.DataFrame(data_first,columns=['canal','first']).groupby('canal').sum()\n",
    "    last = pd.DataFrame(data_last,columns=['canal','last']).groupby('canal').sum()\n",
    "    linear = pd.DataFrame(data_linear, columns=['canal','linear']).groupby('canal').sum()\n",
    "        \n",
    "    return first, last, linear"
   ]
  },
  {
   "cell_type": "markdown",
   "metadata": {},
   "source": [
    "# TESIS"
   ]
  },
  {
   "cell_type": "code",
   "execution_count": 274,
   "metadata": {},
   "outputs": [],
   "source": [
    "import time\n",
    "from tqdm import tqdm\n",
    "from sklearn import preprocessing\n",
    "from functools import reduce\n",
    "import matplotlib.pyplot as pl\n",
    "import seaborn as sns"
   ]
  },
  {
   "cell_type": "markdown",
   "metadata": {},
   "source": [
    "## EDA"
   ]
  },
  {
   "cell_type": "code",
   "execution_count": 275,
   "metadata": {},
   "outputs": [
    {
     "data": {
      "text/plain": [
       "'\\ncaminos_markov = pd.read_csv(\"caminos_markov.csv\")\\ncaminos_shapley = pd.read_csv(\"caminos_shapley.csv\")\\nusuarios_convertidores = (tesis.groupby(\\'usuario\\')[\\'conversion\\'].sum()!=0)[(tesis.groupby(\\'usuario\\')[\\'conversion\\'].sum()!=0)].index.values\\nconvertidores = tesis[tesis.usuario.isin(usuarios_convertidores)]\\nno_convertidores = tesis[~tesis.usuario.isin(usuarios_convertidores)]\\n'"
      ]
     },
     "execution_count": 275,
     "metadata": {},
     "output_type": "execute_result"
    }
   ],
   "source": [
    "'''\n",
    "caminos_markov = pd.read_csv(\"caminos_markov.csv\")\n",
    "caminos_shapley = pd.read_csv(\"caminos_shapley.csv\")\n",
    "usuarios_convertidores = (tesis.groupby('usuario')['conversion'].sum()!=0)[(tesis.groupby('usuario')['conversion'].sum()!=0)].index.values\n",
    "convertidores = tesis[tesis.usuario.isin(usuarios_convertidores)]\n",
    "no_convertidores = tesis[~tesis.usuario.isin(usuarios_convertidores)]\n",
    "'''"
   ]
  },
  {
   "cell_type": "code",
   "execution_count": 276,
   "metadata": {},
   "outputs": [
    {
     "data": {
      "text/plain": [
       "1592"
      ]
     },
     "execution_count": 276,
     "metadata": {},
     "output_type": "execute_result"
    }
   ],
   "source": [
    "# cantidad de caminos diferentes\n",
    "len(caminos_markov.camino.unique())"
   ]
  },
  {
   "cell_type": "code",
   "execution_count": 277,
   "metadata": {},
   "outputs": [
    {
     "data": {
      "text/plain": [
       "(20237, 0.028336509527883535)"
      ]
     },
     "execution_count": 277,
     "metadata": {},
     "output_type": "execute_result"
    }
   ],
   "source": [
    "# cantidad de touchpoints por usuario\n",
    "sum(tesis.groupby('usuario')['canal'].nunique()!=1),(sum(tesis.groupby('usuario')['canal'].nunique()!=1)/len(tesis.usuario.unique()))"
   ]
  },
  {
   "cell_type": "code",
   "execution_count": 278,
   "metadata": {},
   "outputs": [
    {
     "data": {
      "text/plain": [
       "<matplotlib.axes._subplots.AxesSubplot at 0x7fd890078ed0>"
      ]
     },
     "execution_count": 278,
     "metadata": {},
     "output_type": "execute_result"
    },
    {
     "data": {
      "image/png": "[encoded data removed]",
      "text/plain": [
       "<Figure size 432x288 with 1 Axes>"
      ]
     },
     "metadata": {
      "needs_background": "light"
     },
     "output_type": "display_data"
    }
   ],
   "source": [
    "tesis.groupby('usuario')['canal'].nunique()[tesis.groupby('usuario')['canal'].nunique()!=1].plot(kind='hist')"
   ]
  },
  {
   "cell_type": "code",
   "execution_count": 279,
   "metadata": {},
   "outputs": [
    {
     "data": {
      "text/plain": [
       "(620675, 86.91)"
      ]
     },
     "execution_count": 279,
     "metadata": {},
     "output_type": "execute_result"
    }
   ],
   "source": [
    "# cantidad de sesiones por usuario\n",
    "sum(tesis.groupby('usuario')['canal'].count()==1),round((sum(tesis.groupby('usuario')['canal'].count()==1)/len(tesis.usuario.unique())*100),2)"
   ]
  },
  {
   "cell_type": "code",
   "execution_count": 280,
   "metadata": {},
   "outputs": [
    {
     "data": {
      "text/html": [
       "<div>\n",
       "<style scoped>\n",
       "    .dataframe tbody tr th:only-of-type {\n",
       "        vertical-align: middle;\n",
       "    }\n",
       "\n",
       "    .dataframe tbody tr th {\n",
       "        vertical-align: top;\n",
       "    }\n",
       "\n",
       "    .dataframe thead th {\n",
       "        text-align: right;\n",
       "    }\n",
       "</style>\n",
       "<table border=\"1\" class=\"dataframe\">\n",
       "  <thead>\n",
       "    <tr style=\"text-align: right;\">\n",
       "      <th></th>\n",
       "      <th>conversion</th>\n",
       "    </tr>\n",
       "    <tr>\n",
       "      <th>usuario</th>\n",
       "      <th></th>\n",
       "    </tr>\n",
       "  </thead>\n",
       "  <tbody>\n",
       "    <tr>\n",
       "      <th>3244</th>\n",
       "      <td>33</td>\n",
       "    </tr>\n",
       "    <tr>\n",
       "      <th>9489</th>\n",
       "      <td>16</td>\n",
       "    </tr>\n",
       "    <tr>\n",
       "      <th>20397</th>\n",
       "      <td>16</td>\n",
       "    </tr>\n",
       "    <tr>\n",
       "      <th>7228</th>\n",
       "      <td>15</td>\n",
       "    </tr>\n",
       "    <tr>\n",
       "      <th>325866</th>\n",
       "      <td>15</td>\n",
       "    </tr>\n",
       "    <tr>\n",
       "      <th>335299</th>\n",
       "      <td>13</td>\n",
       "    </tr>\n",
       "    <tr>\n",
       "      <th>709</th>\n",
       "      <td>12</td>\n",
       "    </tr>\n",
       "    <tr>\n",
       "      <th>11823</th>\n",
       "      <td>12</td>\n",
       "    </tr>\n",
       "    <tr>\n",
       "      <th>2742</th>\n",
       "      <td>10</td>\n",
       "    </tr>\n",
       "    <tr>\n",
       "      <th>11094</th>\n",
       "      <td>10</td>\n",
       "    </tr>\n",
       "    <tr>\n",
       "      <th>99753</th>\n",
       "      <td>9</td>\n",
       "    </tr>\n",
       "    <tr>\n",
       "      <th>19921</th>\n",
       "      <td>9</td>\n",
       "    </tr>\n",
       "    <tr>\n",
       "      <th>68409</th>\n",
       "      <td>9</td>\n",
       "    </tr>\n",
       "    <tr>\n",
       "      <th>2386</th>\n",
       "      <td>8</td>\n",
       "    </tr>\n",
       "    <tr>\n",
       "      <th>1764</th>\n",
       "      <td>8</td>\n",
       "    </tr>\n",
       "    <tr>\n",
       "      <th>327721</th>\n",
       "      <td>8</td>\n",
       "    </tr>\n",
       "    <tr>\n",
       "      <th>31468</th>\n",
       "      <td>7</td>\n",
       "    </tr>\n",
       "    <tr>\n",
       "      <th>323358</th>\n",
       "      <td>7</td>\n",
       "    </tr>\n",
       "    <tr>\n",
       "      <th>6703</th>\n",
       "      <td>7</td>\n",
       "    </tr>\n",
       "    <tr>\n",
       "      <th>343945</th>\n",
       "      <td>7</td>\n",
       "    </tr>\n",
       "  </tbody>\n",
       "</table>\n",
       "</div>"
      ],
      "text/plain": [
       "         conversion\n",
       "usuario            \n",
       "3244             33\n",
       "9489             16\n",
       "20397            16\n",
       "7228             15\n",
       "325866           15\n",
       "335299           13\n",
       "709              12\n",
       "11823            12\n",
       "2742             10\n",
       "11094            10\n",
       "99753             9\n",
       "19921             9\n",
       "68409             9\n",
       "2386              8\n",
       "1764              8\n",
       "327721            8\n",
       "31468             7\n",
       "323358            7\n",
       "6703              7\n",
       "343945            7"
      ]
     },
     "execution_count": 280,
     "metadata": {},
     "output_type": "execute_result"
    }
   ],
   "source": [
    "# cantidad de conversiones por usuario\n",
    "pd.DataFrame(convertidores.groupby('usuario')['conversion'].sum().sort_values(ascending=False).head(20))"
   ]
  },
  {
   "cell_type": "code",
   "execution_count": 281,
   "metadata": {},
   "outputs": [
    {
     "data": {
      "text/plain": [
       "(1653, 0.16493713829574935)"
      ]
     },
     "execution_count": 281,
     "metadata": {},
     "output_type": "execute_result"
    }
   ],
   "source": [
    "# usuarios que convierten\n",
    "sum(convertidores.groupby('usuario')['canal'].nunique()!=1),sum(convertidores.groupby('usuario')['canal'].nunique()!=1)/len(convertidores.usuario.unique())"
   ]
  },
  {
   "cell_type": "code",
   "execution_count": 282,
   "metadata": {},
   "outputs": [
    {
     "data": {
      "text/plain": [
       "(6895, 0.6879864298543205)"
      ]
     },
     "execution_count": 282,
     "metadata": {},
     "output_type": "execute_result"
    }
   ],
   "source": [
    "# usuarios que convierten\n",
    "sum(convertidores.groupby('usuario')['canal'].count()!=1),sum(convertidores.groupby('usuario')['canal'].count()!=1)/len(convertidores.usuario.unique())"
   ]
  },
  {
   "cell_type": "markdown",
   "metadata": {},
   "source": [
    "## PASO A PASO"
   ]
  },
  {
   "cell_type": "code",
   "execution_count": 310,
   "metadata": {},
   "outputs": [
    {
     "data": {
      "text/html": [
       "<div>\n",
       "<style scoped>\n",
       "    .dataframe tbody tr th:only-of-type {\n",
       "        vertical-align: middle;\n",
       "    }\n",
       "\n",
       "    .dataframe tbody tr th {\n",
       "        vertical-align: top;\n",
       "    }\n",
       "\n",
       "    .dataframe thead th {\n",
       "        text-align: right;\n",
       "    }\n",
       "</style>\n",
       "<table border=\"1\" class=\"dataframe\">\n",
       "  <thead>\n",
       "    <tr style=\"text-align: right;\">\n",
       "      <th></th>\n",
       "      <th>camino</th>\n",
       "      <th>conversion</th>\n",
       "    </tr>\n",
       "  </thead>\n",
       "  <tbody>\n",
       "    <tr>\n",
       "      <th>0</th>\n",
       "      <td>Referral</td>\n",
       "      <td>4831</td>\n",
       "    </tr>\n",
       "    <tr>\n",
       "      <th>1</th>\n",
       "      <td>Organic Search</td>\n",
       "      <td>3002</td>\n",
       "    </tr>\n",
       "    <tr>\n",
       "      <th>2</th>\n",
       "      <td>Direct</td>\n",
       "      <td>2061</td>\n",
       "    </tr>\n",
       "    <tr>\n",
       "      <th>3</th>\n",
       "      <td>Paid Search</td>\n",
       "      <td>421</td>\n",
       "    </tr>\n",
       "    <tr>\n",
       "      <th>4</th>\n",
       "      <td>Direct&gt;Referral</td>\n",
       "      <td>396</td>\n",
       "    </tr>\n",
       "    <tr>\n",
       "      <th>5</th>\n",
       "      <td>Organic Search&gt;Paid Search</td>\n",
       "      <td>135</td>\n",
       "    </tr>\n",
       "    <tr>\n",
       "      <th>6</th>\n",
       "      <td>Display</td>\n",
       "      <td>134</td>\n",
       "    </tr>\n",
       "    <tr>\n",
       "      <th>7</th>\n",
       "      <td>Organic Search&gt;Referral</td>\n",
       "      <td>109</td>\n",
       "    </tr>\n",
       "    <tr>\n",
       "      <th>8</th>\n",
       "      <td>Social</td>\n",
       "      <td>96</td>\n",
       "    </tr>\n",
       "    <tr>\n",
       "      <th>9</th>\n",
       "      <td>Direct&gt;Organic Search</td>\n",
       "      <td>94</td>\n",
       "    </tr>\n",
       "    <tr>\n",
       "      <th>10</th>\n",
       "      <td>Display&gt;Referral</td>\n",
       "      <td>70</td>\n",
       "    </tr>\n",
       "    <tr>\n",
       "      <th>11</th>\n",
       "      <td>Display&gt;Organic Search</td>\n",
       "      <td>42</td>\n",
       "    </tr>\n",
       "    <tr>\n",
       "      <th>12</th>\n",
       "      <td>Direct&gt;Paid Search</td>\n",
       "      <td>18</td>\n",
       "    </tr>\n",
       "    <tr>\n",
       "      <th>13</th>\n",
       "      <td>Referral&gt;Social</td>\n",
       "      <td>17</td>\n",
       "    </tr>\n",
       "    <tr>\n",
       "      <th>14</th>\n",
       "      <td>Paid Search&gt;Referral</td>\n",
       "      <td>15</td>\n",
       "    </tr>\n",
       "    <tr>\n",
       "      <th>15</th>\n",
       "      <td>Organic Search&gt;Paid Search&gt;Referral</td>\n",
       "      <td>13</td>\n",
       "    </tr>\n",
       "    <tr>\n",
       "      <th>16</th>\n",
       "      <td>Direct&gt;Organic Search&gt;Referral</td>\n",
       "      <td>11</td>\n",
       "    </tr>\n",
       "    <tr>\n",
       "      <th>17</th>\n",
       "      <td>Organic Search&gt;Social</td>\n",
       "      <td>10</td>\n",
       "    </tr>\n",
       "    <tr>\n",
       "      <th>18</th>\n",
       "      <td>Display&gt;Paid Search</td>\n",
       "      <td>9</td>\n",
       "    </tr>\n",
       "    <tr>\n",
       "      <th>19</th>\n",
       "      <td>Affiliates</td>\n",
       "      <td>9</td>\n",
       "    </tr>\n",
       "  </tbody>\n",
       "</table>\n",
       "</div>"
      ],
      "text/plain": [
       "                                 camino  conversion\n",
       "0                              Referral        4831\n",
       "1                        Organic Search        3002\n",
       "2                                Direct        2061\n",
       "3                           Paid Search         421\n",
       "4                       Direct>Referral         396\n",
       "5            Organic Search>Paid Search         135\n",
       "6                               Display         134\n",
       "7               Organic Search>Referral         109\n",
       "8                                Social          96\n",
       "9                 Direct>Organic Search          94\n",
       "10                     Display>Referral          70\n",
       "11               Display>Organic Search          42\n",
       "12                   Direct>Paid Search          18\n",
       "13                      Referral>Social          17\n",
       "14                 Paid Search>Referral          15\n",
       "15  Organic Search>Paid Search>Referral          13\n",
       "16       Direct>Organic Search>Referral          11\n",
       "17                Organic Search>Social          10\n",
       "18                  Display>Paid Search           9\n",
       "19                           Affiliates           9"
      ]
     },
     "execution_count": 310,
     "metadata": {},
     "output_type": "execute_result"
    }
   ],
   "source": [
    "# Top 20 de caminos que convirtieron\n",
    "caminos_shapley.sort_values(by='conversion',ascending=False).head(20).reset_index().drop(columns=['index'])"
   ]
  },
  {
   "cell_type": "code",
   "execution_count": 313,
   "metadata": {},
   "outputs": [],
   "source": [
    "# chequear formato\n",
    "data = formatear(tesis)\n",
    "\n",
    "# calcular conversiones_totales\n",
    "conversiones_totales = sum(data.conversion)\n",
    "\n",
    "# obtener coaliciones posibles y gran coalicion de los n canales unicos\n",
    "coaliciones, gran_coalicion = obtener_coaliciones(data)\n",
    "\n",
    "# obtener caminos\n",
    "caminos = obtener_caminos_shapley(data)\n",
    "\n",
    "# agregar resultado al data frame de coaliciones\n",
    "coaliciones.update(caminos)\n",
    "\n",
    "# calcular el valor de shapley\n",
    "shapley = calcular_shapley(coaliciones,gran_coalicion)\n",
    "\n",
    "# dar formato\n",
    "shapley = pd.DataFrame(shapley, index = gran_coalicion)\n"
   ]
  },
  {
   "cell_type": "code",
   "execution_count": 319,
   "metadata": {},
   "outputs": [],
   "source": [
    "# atribuir conversiones totales segun valor de shapley\n",
    "atribucion = pd.DataFrame(round(shapley.sum()/sum(shapley.sum())*conversiones_totales,2),columns=['shapley'])\n"
   ]
  },
  {
   "cell_type": "code",
   "execution_count": 320,
   "metadata": {},
   "outputs": [
    {
     "data": {
      "text/html": [
       "<div>\n",
       "<style scoped>\n",
       "    .dataframe tbody tr th:only-of-type {\n",
       "        vertical-align: middle;\n",
       "    }\n",
       "\n",
       "    .dataframe tbody tr th {\n",
       "        vertical-align: top;\n",
       "    }\n",
       "\n",
       "    .dataframe thead th {\n",
       "        text-align: right;\n",
       "    }\n",
       "</style>\n",
       "<table border=\"1\" class=\"dataframe\">\n",
       "  <thead>\n",
       "    <tr style=\"text-align: right;\">\n",
       "      <th></th>\n",
       "      <th>shapley</th>\n",
       "    </tr>\n",
       "  </thead>\n",
       "  <tbody>\n",
       "    <tr>\n",
       "      <th>(Other)</th>\n",
       "      <td>1.09</td>\n",
       "    </tr>\n",
       "    <tr>\n",
       "      <th>Affiliates</th>\n",
       "      <td>9.85</td>\n",
       "    </tr>\n",
       "    <tr>\n",
       "      <th>Direct</th>\n",
       "      <td>2255.68</td>\n",
       "    </tr>\n",
       "    <tr>\n",
       "      <th>Display</th>\n",
       "      <td>146.66</td>\n",
       "    </tr>\n",
       "    <tr>\n",
       "      <th>Organic Search</th>\n",
       "      <td>3285.56</td>\n",
       "    </tr>\n",
       "    <tr>\n",
       "      <th>Paid Search</th>\n",
       "      <td>460.77</td>\n",
       "    </tr>\n",
       "    <tr>\n",
       "      <th>Referral</th>\n",
       "      <td>5287.32</td>\n",
       "    </tr>\n",
       "    <tr>\n",
       "      <th>Social</th>\n",
       "      <td>105.07</td>\n",
       "    </tr>\n",
       "  </tbody>\n",
       "</table>\n",
       "</div>"
      ],
      "text/plain": [
       "                shapley\n",
       "(Other)            1.09\n",
       "Affiliates         9.85\n",
       "Direct          2255.68\n",
       "Display          146.66\n",
       "Organic Search  3285.56\n",
       "Paid Search      460.77\n",
       "Referral        5287.32\n",
       "Social           105.07"
      ]
     },
     "execution_count": 320,
     "metadata": {},
     "output_type": "execute_result"
    }
   ],
   "source": [
    "atribucion"
   ]
  },
  {
   "cell_type": "code",
   "execution_count": 334,
   "metadata": {},
   "outputs": [],
   "source": [
    "data = [[i.camino,i.conversion] for i in caminos_markov.itertuples()]"
   ]
  },
  {
   "cell_type": "code",
   "execution_count": 335,
   "metadata": {},
   "outputs": [],
   "source": [
    "# agregar estados iniciales y finales\n",
    "recorridos = [\"(start)>\"+i[0]+\">(conversion)\" if i[1] == 1 else \"(start)>\"+i[0]+\">(null)\" for i in data]\n",
    "\n",
    "# armar las transiciones con pares de canales\n",
    "transiciones = list(map(lambda x:list(zip(x[:],x[1:])),[i.split(\">\") for i in recorridos]))\n",
    "\n",
    "# darle formato de inicio y fin\n",
    "transiciones_formato = pd.DataFrame([j for i in transiciones for j in i],columns=['start','end'])"
   ]
  },
  {
   "cell_type": "code",
   "execution_count": 339,
   "metadata": {},
   "outputs": [
    {
     "data": {
      "text/html": [
       "<div>\n",
       "<style scoped>\n",
       "    .dataframe tbody tr th:only-of-type {\n",
       "        vertical-align: middle;\n",
       "    }\n",
       "\n",
       "    .dataframe tbody tr th {\n",
       "        vertical-align: top;\n",
       "    }\n",
       "\n",
       "    .dataframe thead th {\n",
       "        text-align: right;\n",
       "    }\n",
       "</style>\n",
       "<table border=\"1\" class=\"dataframe\">\n",
       "  <thead>\n",
       "    <tr style=\"text-align: right;\">\n",
       "      <th></th>\n",
       "      <th>camino</th>\n",
       "    </tr>\n",
       "  </thead>\n",
       "  <tbody>\n",
       "    <tr>\n",
       "      <th>0</th>\n",
       "      <td>(start)&gt;(Other)&gt;Organic Search&gt;Organic Search&gt;...</td>\n",
       "    </tr>\n",
       "    <tr>\n",
       "      <th>1</th>\n",
       "      <td>(start)&gt;(Other)&gt;(null)</td>\n",
       "    </tr>\n",
       "    <tr>\n",
       "      <th>2</th>\n",
       "      <td>(start)&gt;(Other)&gt;(Other)&gt;Organic Search&gt;(null)</td>\n",
       "    </tr>\n",
       "    <tr>\n",
       "      <th>3</th>\n",
       "      <td>(start)&gt;(Other)&gt;Paid Search&gt;Organic Search&gt;(null)</td>\n",
       "    </tr>\n",
       "    <tr>\n",
       "      <th>4</th>\n",
       "      <td>(start)&gt;(Other)&gt;(Other)&gt;Referral&gt;Referral&gt;Orga...</td>\n",
       "    </tr>\n",
       "    <tr>\n",
       "      <th>5</th>\n",
       "      <td>(start)&gt;(Other)&gt;(Other)&gt;(Other)&gt;Direct&gt;(null)</td>\n",
       "    </tr>\n",
       "    <tr>\n",
       "      <th>6</th>\n",
       "      <td>(start)&gt;(Other)&gt;Direct&gt;(null)</td>\n",
       "    </tr>\n",
       "    <tr>\n",
       "      <th>7</th>\n",
       "      <td>(start)&gt;(Other)&gt;Paid Search&gt;(null)</td>\n",
       "    </tr>\n",
       "    <tr>\n",
       "      <th>8</th>\n",
       "      <td>(start)&gt;(Other)&gt;(Other)&gt;(Other)&gt;Display&gt;Displa...</td>\n",
       "    </tr>\n",
       "    <tr>\n",
       "      <th>9</th>\n",
       "      <td>(start)&gt;(Other)&gt;Organic Search&gt;Organic Search&gt;...</td>\n",
       "    </tr>\n",
       "  </tbody>\n",
       "</table>\n",
       "</div>"
      ],
      "text/plain": [
       "                                              camino\n",
       "0  (start)>(Other)>Organic Search>Organic Search>...\n",
       "1                             (start)>(Other)>(null)\n",
       "2      (start)>(Other)>(Other)>Organic Search>(null)\n",
       "3  (start)>(Other)>Paid Search>Organic Search>(null)\n",
       "4  (start)>(Other)>(Other)>Referral>Referral>Orga...\n",
       "5      (start)>(Other)>(Other)>(Other)>Direct>(null)\n",
       "6                      (start)>(Other)>Direct>(null)\n",
       "7                 (start)>(Other)>Paid Search>(null)\n",
       "8  (start)>(Other)>(Other)>(Other)>Display>Displa...\n",
       "9  (start)>(Other)>Organic Search>Organic Search>..."
      ]
     },
     "execution_count": 339,
     "metadata": {},
     "output_type": "execute_result"
    }
   ],
   "source": [
    "pd.DataFrame(recorridos,columns=['camino']).head(10)"
   ]
  },
  {
   "cell_type": "code",
   "execution_count": 341,
   "metadata": {},
   "outputs": [
    {
     "data": {
      "text/html": [
       "<div>\n",
       "<style scoped>\n",
       "    .dataframe tbody tr th:only-of-type {\n",
       "        vertical-align: middle;\n",
       "    }\n",
       "\n",
       "    .dataframe tbody tr th {\n",
       "        vertical-align: top;\n",
       "    }\n",
       "\n",
       "    .dataframe thead th {\n",
       "        text-align: right;\n",
       "    }\n",
       "</style>\n",
       "<table border=\"1\" class=\"dataframe\">\n",
       "  <thead>\n",
       "    <tr style=\"text-align: right;\">\n",
       "      <th></th>\n",
       "      <th>start</th>\n",
       "      <th>end</th>\n",
       "    </tr>\n",
       "  </thead>\n",
       "  <tbody>\n",
       "    <tr>\n",
       "      <th>0</th>\n",
       "      <td>(start)</td>\n",
       "      <td>(Other)</td>\n",
       "    </tr>\n",
       "    <tr>\n",
       "      <th>1</th>\n",
       "      <td>(Other)</td>\n",
       "      <td>Organic Search</td>\n",
       "    </tr>\n",
       "    <tr>\n",
       "      <th>2</th>\n",
       "      <td>Organic Search</td>\n",
       "      <td>Organic Search</td>\n",
       "    </tr>\n",
       "    <tr>\n",
       "      <th>3</th>\n",
       "      <td>Organic Search</td>\n",
       "      <td>(null)</td>\n",
       "    </tr>\n",
       "    <tr>\n",
       "      <th>4</th>\n",
       "      <td>(start)</td>\n",
       "      <td>(Other)</td>\n",
       "    </tr>\n",
       "    <tr>\n",
       "      <th>5</th>\n",
       "      <td>(Other)</td>\n",
       "      <td>(null)</td>\n",
       "    </tr>\n",
       "    <tr>\n",
       "      <th>6</th>\n",
       "      <td>(start)</td>\n",
       "      <td>(Other)</td>\n",
       "    </tr>\n",
       "    <tr>\n",
       "      <th>7</th>\n",
       "      <td>(Other)</td>\n",
       "      <td>(Other)</td>\n",
       "    </tr>\n",
       "    <tr>\n",
       "      <th>8</th>\n",
       "      <td>(Other)</td>\n",
       "      <td>Organic Search</td>\n",
       "    </tr>\n",
       "    <tr>\n",
       "      <th>9</th>\n",
       "      <td>Organic Search</td>\n",
       "      <td>(null)</td>\n",
       "    </tr>\n",
       "  </tbody>\n",
       "</table>\n",
       "</div>"
      ],
      "text/plain": [
       "            start             end\n",
       "0         (start)         (Other)\n",
       "1         (Other)  Organic Search\n",
       "2  Organic Search  Organic Search\n",
       "3  Organic Search          (null)\n",
       "4         (start)         (Other)\n",
       "5         (Other)          (null)\n",
       "6         (start)         (Other)\n",
       "7         (Other)         (Other)\n",
       "8         (Other)  Organic Search\n",
       "9  Organic Search          (null)"
      ]
     },
     "execution_count": 341,
     "metadata": {},
     "output_type": "execute_result"
    }
   ],
   "source": [
    "transiciones_formato.head(10)"
   ]
  },
  {
   "cell_type": "code",
   "execution_count": 342,
   "metadata": {},
   "outputs": [],
   "source": [
    "# armar la matriz normalizada con las transiciones\n",
    "matriz = pd.crosstab(index=transiciones_formato['start'],columns=transiciones_formato['end'], normalize = 'index', dropna = False)\n",
    "\n",
    "# chequear si falta alguna columna y agregarla\n",
    "for columna in ['(conversion)','(null)']:\n",
    "    if columna not in matriz.columns:\n",
    "        matriz.insert(0,columna,np.zeros(matriz.shape[0]))\n",
    "\n",
    "# agregar start como posible final\n",
    "matriz.insert(0,'(start)',np.zeros(matriz.shape[0]))"
   ]
  },
  {
   "cell_type": "code",
   "execution_count": 343,
   "metadata": {},
   "outputs": [
    {
     "data": {
      "text/html": [
       "<div>\n",
       "<style scoped>\n",
       "    .dataframe tbody tr th:only-of-type {\n",
       "        vertical-align: middle;\n",
       "    }\n",
       "\n",
       "    .dataframe tbody tr th {\n",
       "        vertical-align: top;\n",
       "    }\n",
       "\n",
       "    .dataframe thead th {\n",
       "        text-align: right;\n",
       "    }\n",
       "</style>\n",
       "<table border=\"1\" class=\"dataframe\">\n",
       "  <thead>\n",
       "    <tr style=\"text-align: right;\">\n",
       "      <th>end</th>\n",
       "      <th>(start)</th>\n",
       "      <th>(Other)</th>\n",
       "      <th>(conversion)</th>\n",
       "      <th>(null)</th>\n",
       "      <th>Affiliates</th>\n",
       "      <th>Direct</th>\n",
       "      <th>Display</th>\n",
       "      <th>Organic Search</th>\n",
       "      <th>Paid Search</th>\n",
       "      <th>Referral</th>\n",
       "      <th>Social</th>\n",
       "    </tr>\n",
       "    <tr>\n",
       "      <th>start</th>\n",
       "      <th></th>\n",
       "      <th></th>\n",
       "      <th></th>\n",
       "      <th></th>\n",
       "      <th></th>\n",
       "      <th></th>\n",
       "      <th></th>\n",
       "      <th></th>\n",
       "      <th></th>\n",
       "      <th></th>\n",
       "      <th></th>\n",
       "    </tr>\n",
       "  </thead>\n",
       "  <tbody>\n",
       "    <tr>\n",
       "      <th>(Other)</th>\n",
       "      <td>0.0</td>\n",
       "      <td>0.250000</td>\n",
       "      <td>0.008333</td>\n",
       "      <td>0.166667</td>\n",
       "      <td>0.008333</td>\n",
       "      <td>0.108333</td>\n",
       "      <td>0.108333</td>\n",
       "      <td>0.183333</td>\n",
       "      <td>0.033333</td>\n",
       "      <td>0.125000</td>\n",
       "      <td>0.008333</td>\n",
       "    </tr>\n",
       "    <tr>\n",
       "      <th>(start)</th>\n",
       "      <td>0.0</td>\n",
       "      <td>0.000125</td>\n",
       "      <td>0.000000</td>\n",
       "      <td>0.000000</td>\n",
       "      <td>0.017286</td>\n",
       "      <td>0.153807</td>\n",
       "      <td>0.005193</td>\n",
       "      <td>0.415774</td>\n",
       "      <td>0.024461</td>\n",
       "      <td>0.089069</td>\n",
       "      <td>0.294286</td>\n",
       "    </tr>\n",
       "    <tr>\n",
       "      <th>Affiliates</th>\n",
       "      <td>0.0</td>\n",
       "      <td>0.000000</td>\n",
       "      <td>0.000549</td>\n",
       "      <td>0.771505</td>\n",
       "      <td>0.182893</td>\n",
       "      <td>0.000000</td>\n",
       "      <td>0.000000</td>\n",
       "      <td>0.043285</td>\n",
       "      <td>0.001768</td>\n",
       "      <td>0.000000</td>\n",
       "      <td>0.000000</td>\n",
       "    </tr>\n",
       "    <tr>\n",
       "      <th>Direct</th>\n",
       "      <td>0.0</td>\n",
       "      <td>0.000000</td>\n",
       "      <td>0.014410</td>\n",
       "      <td>0.709528</td>\n",
       "      <td>0.001657</td>\n",
       "      <td>0.225763</td>\n",
       "      <td>0.002363</td>\n",
       "      <td>0.017927</td>\n",
       "      <td>0.002860</td>\n",
       "      <td>0.021646</td>\n",
       "      <td>0.003845</td>\n",
       "    </tr>\n",
       "    <tr>\n",
       "      <th>Display</th>\n",
       "      <td>0.0</td>\n",
       "      <td>0.000000</td>\n",
       "      <td>0.022836</td>\n",
       "      <td>0.315394</td>\n",
       "      <td>0.000958</td>\n",
       "      <td>0.000000</td>\n",
       "      <td>0.335356</td>\n",
       "      <td>0.185564</td>\n",
       "      <td>0.054455</td>\n",
       "      <td>0.085436</td>\n",
       "      <td>0.000000</td>\n",
       "    </tr>\n",
       "    <tr>\n",
       "      <th>Organic Search</th>\n",
       "      <td>0.0</td>\n",
       "      <td>0.000000</td>\n",
       "      <td>0.009023</td>\n",
       "      <td>0.811281</td>\n",
       "      <td>0.000000</td>\n",
       "      <td>0.000000</td>\n",
       "      <td>0.000000</td>\n",
       "      <td>0.179696</td>\n",
       "      <td>0.000000</td>\n",
       "      <td>0.000000</td>\n",
       "      <td>0.000000</td>\n",
       "    </tr>\n",
       "    <tr>\n",
       "      <th>Paid Search</th>\n",
       "      <td>0.0</td>\n",
       "      <td>0.000000</td>\n",
       "      <td>0.018519</td>\n",
       "      <td>0.579365</td>\n",
       "      <td>0.000000</td>\n",
       "      <td>0.000000</td>\n",
       "      <td>0.000000</td>\n",
       "      <td>0.147319</td>\n",
       "      <td>0.254797</td>\n",
       "      <td>0.000000</td>\n",
       "      <td>0.000000</td>\n",
       "    </tr>\n",
       "    <tr>\n",
       "      <th>Referral</th>\n",
       "      <td>0.0</td>\n",
       "      <td>0.000000</td>\n",
       "      <td>0.050764</td>\n",
       "      <td>0.549114</td>\n",
       "      <td>0.006486</td>\n",
       "      <td>0.000000</td>\n",
       "      <td>0.000000</td>\n",
       "      <td>0.042237</td>\n",
       "      <td>0.003348</td>\n",
       "      <td>0.348051</td>\n",
       "      <td>0.000000</td>\n",
       "    </tr>\n",
       "    <tr>\n",
       "      <th>Social</th>\n",
       "      <td>0.0</td>\n",
       "      <td>0.000000</td>\n",
       "      <td>0.000460</td>\n",
       "      <td>0.930514</td>\n",
       "      <td>0.000155</td>\n",
       "      <td>0.000000</td>\n",
       "      <td>0.000323</td>\n",
       "      <td>0.004736</td>\n",
       "      <td>0.000575</td>\n",
       "      <td>0.002583</td>\n",
       "      <td>0.060654</td>\n",
       "    </tr>\n",
       "  </tbody>\n",
       "</table>\n",
       "</div>"
      ],
      "text/plain": [
       "end             (start)   (Other)  (conversion)    (null)  Affiliates  \\\n",
       "start                                                                   \n",
       "(Other)             0.0  0.250000      0.008333  0.166667    0.008333   \n",
       "(start)             0.0  0.000125      0.000000  0.000000    0.017286   \n",
       "Affiliates          0.0  0.000000      0.000549  0.771505    0.182893   \n",
       "Direct              0.0  0.000000      0.014410  0.709528    0.001657   \n",
       "Display             0.0  0.000000      0.022836  0.315394    0.000958   \n",
       "Organic Search      0.0  0.000000      0.009023  0.811281    0.000000   \n",
       "Paid Search         0.0  0.000000      0.018519  0.579365    0.000000   \n",
       "Referral            0.0  0.000000      0.050764  0.549114    0.006486   \n",
       "Social              0.0  0.000000      0.000460  0.930514    0.000155   \n",
       "\n",
       "end               Direct   Display  Organic Search  Paid Search  Referral  \\\n",
       "start                                                                       \n",
       "(Other)         0.108333  0.108333        0.183333     0.033333  0.125000   \n",
       "(start)         0.153807  0.005193        0.415774     0.024461  0.089069   \n",
       "Affiliates      0.000000  0.000000        0.043285     0.001768  0.000000   \n",
       "Direct          0.225763  0.002363        0.017927     0.002860  0.021646   \n",
       "Display         0.000000  0.335356        0.185564     0.054455  0.085436   \n",
       "Organic Search  0.000000  0.000000        0.179696     0.000000  0.000000   \n",
       "Paid Search     0.000000  0.000000        0.147319     0.254797  0.000000   \n",
       "Referral        0.000000  0.000000        0.042237     0.003348  0.348051   \n",
       "Social          0.000000  0.000323        0.004736     0.000575  0.002583   \n",
       "\n",
       "end               Social  \n",
       "start                     \n",
       "(Other)         0.008333  \n",
       "(start)         0.294286  \n",
       "Affiliates      0.000000  \n",
       "Direct          0.003845  \n",
       "Display         0.000000  \n",
       "Organic Search  0.000000  \n",
       "Paid Search     0.000000  \n",
       "Referral        0.000000  \n",
       "Social          0.060654  "
      ]
     },
     "execution_count": 343,
     "metadata": {},
     "output_type": "execute_result"
    }
   ],
   "source": [
    "matriz"
   ]
  },
  {
   "cell_type": "code",
   "execution_count": 345,
   "metadata": {},
   "outputs": [],
   "source": [
    "# calcular conversion general y guardar\n",
    "cr_general = calcular_markov(matriz)\n"
   ]
  },
  {
   "cell_type": "code",
   "execution_count": 347,
   "metadata": {},
   "outputs": [
    {
     "data": {
      "text/plain": [
       "0.016044277580530914"
      ]
     },
     "execution_count": 347,
     "metadata": {},
     "output_type": "execute_result"
    }
   ],
   "source": [
    "cr_general"
   ]
  },
  {
   "cell_type": "code",
   "execution_count": 356,
   "metadata": {},
   "outputs": [],
   "source": [
    "# obtener el diciconario del removal effect de cada canal\n",
    "removal_effect = calcular_removal_effect(matriz)"
   ]
  },
  {
   "cell_type": "code",
   "execution_count": 360,
   "metadata": {},
   "outputs": [
    {
     "data": {
      "text/html": [
       "<div>\n",
       "<style scoped>\n",
       "    .dataframe tbody tr th:only-of-type {\n",
       "        vertical-align: middle;\n",
       "    }\n",
       "\n",
       "    .dataframe tbody tr th {\n",
       "        vertical-align: top;\n",
       "    }\n",
       "\n",
       "    .dataframe thead th {\n",
       "        text-align: right;\n",
       "    }\n",
       "</style>\n",
       "<table border=\"1\" class=\"dataframe\">\n",
       "  <thead>\n",
       "    <tr style=\"text-align: right;\">\n",
       "      <th></th>\n",
       "      <th>atribucion</th>\n",
       "    </tr>\n",
       "  </thead>\n",
       "  <tbody>\n",
       "    <tr>\n",
       "      <th>(Other)</th>\n",
       "      <td>0.000119</td>\n",
       "    </tr>\n",
       "    <tr>\n",
       "      <th>Affiliates</th>\n",
       "      <td>0.001455</td>\n",
       "    </tr>\n",
       "    <tr>\n",
       "      <th>Direct</th>\n",
       "      <td>0.195341</td>\n",
       "    </tr>\n",
       "    <tr>\n",
       "      <th>Display</th>\n",
       "      <td>0.017081</td>\n",
       "    </tr>\n",
       "    <tr>\n",
       "      <th>Organic Search</th>\n",
       "      <td>0.284800</td>\n",
       "    </tr>\n",
       "    <tr>\n",
       "      <th>Paid Search</th>\n",
       "      <td>0.042182</td>\n",
       "    </tr>\n",
       "    <tr>\n",
       "      <th>Referral</th>\n",
       "      <td>0.445045</td>\n",
       "    </tr>\n",
       "    <tr>\n",
       "      <th>Social</th>\n",
       "      <td>0.013977</td>\n",
       "    </tr>\n",
       "  </tbody>\n",
       "</table>\n",
       "</div>"
      ],
      "text/plain": [
       "                atribucion\n",
       "(Other)           0.000119\n",
       "Affiliates        0.001455\n",
       "Direct            0.195341\n",
       "Display           0.017081\n",
       "Organic Search    0.284800\n",
       "Paid Search       0.042182\n",
       "Referral          0.445045\n",
       "Social            0.013977"
      ]
     },
     "execution_count": 360,
     "metadata": {},
     "output_type": "execute_result"
    }
   ],
   "source": [
    "pd.DataFrame.from_dict(removal_effect,orient='index',columns = ['atribucion'])"
   ]
  },
  {
   "cell_type": "code",
   "execution_count": 368,
   "metadata": {},
   "outputs": [
    {
     "data": {
      "text/html": [
       "<div>\n",
       "<style scoped>\n",
       "    .dataframe tbody tr th:only-of-type {\n",
       "        vertical-align: middle;\n",
       "    }\n",
       "\n",
       "    .dataframe tbody tr th {\n",
       "        vertical-align: top;\n",
       "    }\n",
       "\n",
       "    .dataframe thead th {\n",
       "        text-align: right;\n",
       "    }\n",
       "</style>\n",
       "<table border=\"1\" class=\"dataframe\">\n",
       "  <thead>\n",
       "    <tr style=\"text-align: right;\">\n",
       "      <th></th>\n",
       "      <th>markov</th>\n",
       "    </tr>\n",
       "    <tr>\n",
       "      <th>canal</th>\n",
       "      <th></th>\n",
       "    </tr>\n",
       "  </thead>\n",
       "  <tbody>\n",
       "    <tr>\n",
       "      <th>(Other)</th>\n",
       "      <td>1.3798</td>\n",
       "    </tr>\n",
       "    <tr>\n",
       "      <th>Affiliates</th>\n",
       "      <td>16.8120</td>\n",
       "    </tr>\n",
       "    <tr>\n",
       "      <th>Direct</th>\n",
       "      <td>2256.5751</td>\n",
       "    </tr>\n",
       "    <tr>\n",
       "      <th>Display</th>\n",
       "      <td>197.3198</td>\n",
       "    </tr>\n",
       "    <tr>\n",
       "      <th>Organic Search</th>\n",
       "      <td>3290.0101</td>\n",
       "    </tr>\n",
       "    <tr>\n",
       "      <th>Paid Search</th>\n",
       "      <td>487.2872</td>\n",
       "    </tr>\n",
       "    <tr>\n",
       "      <th>Referral</th>\n",
       "      <td>5141.1583</td>\n",
       "    </tr>\n",
       "    <tr>\n",
       "      <th>Social</th>\n",
       "      <td>161.4577</td>\n",
       "    </tr>\n",
       "  </tbody>\n",
       "</table>\n",
       "</div>"
      ],
      "text/plain": [
       "                   markov\n",
       "canal                    \n",
       "(Other)            1.3798\n",
       "Affiliates        16.8120\n",
       "Direct          2256.5751\n",
       "Display          197.3198\n",
       "Organic Search  3290.0101\n",
       "Paid Search      487.2872\n",
       "Referral        5141.1583\n",
       "Social           161.4577"
      ]
     },
     "execution_count": 368,
     "metadata": {},
     "output_type": "execute_result"
    }
   ],
   "source": [
    "tesis_modelos.set_index('canal')[['markov']]"
   ]
  },
  {
   "cell_type": "code",
   "execution_count": 369,
   "metadata": {},
   "outputs": [
    {
     "data": {
      "text/html": [
       "<div>\n",
       "<style scoped>\n",
       "    .dataframe tbody tr th:only-of-type {\n",
       "        vertical-align: middle;\n",
       "    }\n",
       "\n",
       "    .dataframe tbody tr th {\n",
       "        vertical-align: top;\n",
       "    }\n",
       "\n",
       "    .dataframe thead th {\n",
       "        text-align: right;\n",
       "    }\n",
       "</style>\n",
       "<table border=\"1\" class=\"dataframe\">\n",
       "  <thead>\n",
       "    <tr style=\"text-align: right;\">\n",
       "      <th></th>\n",
       "      <th>first</th>\n",
       "      <th>last</th>\n",
       "    </tr>\n",
       "    <tr>\n",
       "      <th>canal</th>\n",
       "      <th></th>\n",
       "      <th></th>\n",
       "    </tr>\n",
       "  </thead>\n",
       "  <tbody>\n",
       "    <tr>\n",
       "      <th>(Other)</th>\n",
       "      <td>5</td>\n",
       "      <td>1</td>\n",
       "    </tr>\n",
       "    <tr>\n",
       "      <th>Affiliates</th>\n",
       "      <td>12</td>\n",
       "      <td>9</td>\n",
       "    </tr>\n",
       "    <tr>\n",
       "      <th>Direct</th>\n",
       "      <td>2616</td>\n",
       "      <td>2061</td>\n",
       "    </tr>\n",
       "    <tr>\n",
       "      <th>Display</th>\n",
       "      <td>268</td>\n",
       "      <td>142</td>\n",
       "    </tr>\n",
       "    <tr>\n",
       "      <th>Organic Search</th>\n",
       "      <td>3271</td>\n",
       "      <td>3146</td>\n",
       "    </tr>\n",
       "    <tr>\n",
       "      <th>Paid Search</th>\n",
       "      <td>436</td>\n",
       "      <td>593</td>\n",
       "    </tr>\n",
       "    <tr>\n",
       "      <th>Referral</th>\n",
       "      <td>4848</td>\n",
       "      <td>5458</td>\n",
       "    </tr>\n",
       "    <tr>\n",
       "      <th>Social</th>\n",
       "      <td>96</td>\n",
       "      <td>142</td>\n",
       "    </tr>\n",
       "  </tbody>\n",
       "</table>\n",
       "</div>"
      ],
      "text/plain": [
       "                first  last\n",
       "canal                      \n",
       "(Other)             5     1\n",
       "Affiliates         12     9\n",
       "Direct           2616  2061\n",
       "Display           268   142\n",
       "Organic Search   3271  3146\n",
       "Paid Search       436   593\n",
       "Referral         4848  5458\n",
       "Social             96   142"
      ]
     },
     "execution_count": 369,
     "metadata": {},
     "output_type": "execute_result"
    }
   ],
   "source": [
    "tesis_modelos.set_index('canal')[['first','last']]"
   ]
  },
  {
   "cell_type": "code",
   "execution_count": 389,
   "metadata": {},
   "outputs": [],
   "source": [
    "first,last,linear = heuristic(tesis)"
   ]
  },
  {
   "cell_type": "code",
   "execution_count": 394,
   "metadata": {},
   "outputs": [],
   "source": [
    "heuristicos = first.merge(last, right_index = True, left_index = True).merge(linear, right_index = True, left_index = True)"
   ]
  },
  {
   "cell_type": "code",
   "execution_count": 395,
   "metadata": {},
   "outputs": [
    {
     "data": {
      "text/html": [
       "<div>\n",
       "<style scoped>\n",
       "    .dataframe tbody tr th:only-of-type {\n",
       "        vertical-align: middle;\n",
       "    }\n",
       "\n",
       "    .dataframe tbody tr th {\n",
       "        vertical-align: top;\n",
       "    }\n",
       "\n",
       "    .dataframe thead th {\n",
       "        text-align: right;\n",
       "    }\n",
       "</style>\n",
       "<table border=\"1\" class=\"dataframe\">\n",
       "  <thead>\n",
       "    <tr style=\"text-align: right;\">\n",
       "      <th></th>\n",
       "      <th>first</th>\n",
       "      <th>last</th>\n",
       "      <th>linear</th>\n",
       "    </tr>\n",
       "    <tr>\n",
       "      <th>canal</th>\n",
       "      <th></th>\n",
       "      <th></th>\n",
       "      <th></th>\n",
       "    </tr>\n",
       "  </thead>\n",
       "  <tbody>\n",
       "    <tr>\n",
       "      <th>(Other)</th>\n",
       "      <td>5</td>\n",
       "      <td>1</td>\n",
       "      <td>2.533333</td>\n",
       "    </tr>\n",
       "    <tr>\n",
       "      <th>Affiliates</th>\n",
       "      <td>12</td>\n",
       "      <td>9</td>\n",
       "      <td>10.500000</td>\n",
       "    </tr>\n",
       "    <tr>\n",
       "      <th>Direct</th>\n",
       "      <td>2616</td>\n",
       "      <td>2061</td>\n",
       "      <td>2333.450000</td>\n",
       "    </tr>\n",
       "    <tr>\n",
       "      <th>Display</th>\n",
       "      <td>268</td>\n",
       "      <td>142</td>\n",
       "      <td>207.400000</td>\n",
       "    </tr>\n",
       "    <tr>\n",
       "      <th>Organic Search</th>\n",
       "      <td>3271</td>\n",
       "      <td>3146</td>\n",
       "      <td>3214.066667</td>\n",
       "    </tr>\n",
       "    <tr>\n",
       "      <th>Paid Search</th>\n",
       "      <td>436</td>\n",
       "      <td>593</td>\n",
       "      <td>519.116667</td>\n",
       "    </tr>\n",
       "    <tr>\n",
       "      <th>Referral</th>\n",
       "      <td>4848</td>\n",
       "      <td>5458</td>\n",
       "      <td>5148.116667</td>\n",
       "    </tr>\n",
       "    <tr>\n",
       "      <th>Social</th>\n",
       "      <td>96</td>\n",
       "      <td>142</td>\n",
       "      <td>116.816667</td>\n",
       "    </tr>\n",
       "  </tbody>\n",
       "</table>\n",
       "</div>"
      ],
      "text/plain": [
       "                first  last       linear\n",
       "canal                                   \n",
       "(Other)             5     1     2.533333\n",
       "Affiliates         12     9    10.500000\n",
       "Direct           2616  2061  2333.450000\n",
       "Display           268   142   207.400000\n",
       "Organic Search   3271  3146  3214.066667\n",
       "Paid Search       436   593   519.116667\n",
       "Referral         4848  5458  5148.116667\n",
       "Social             96   142   116.816667"
      ]
     },
     "execution_count": 395,
     "metadata": {},
     "output_type": "execute_result"
    }
   ],
   "source": [
    "heuristicos"
   ]
  },
  {
   "cell_type": "markdown",
   "metadata": {},
   "source": [
    "## ERROR"
   ]
  },
  {
   "cell_type": "code",
   "execution_count": 283,
   "metadata": {},
   "outputs": [],
   "source": [
    "def calcular_modelos(data):\n",
    "    heuristico = heuristic(data)\n",
    "    first = heuristico[0]\n",
    "    last = heuristico[1]\n",
    "    linear = heuristico[2]\n",
    "    shapley = shapley_value(data)\n",
    "    markov = markov_chain(data)\n",
    "    modelos = [first, last, linear, shapley, markov]\n",
    "    final = reduce(lambda left,right: pd.merge(left,right,left_index=True,right_index=True), modelos)\n",
    "    return final"
   ]
  },
  {
   "cell_type": "code",
   "execution_count": 284,
   "metadata": {},
   "outputs": [],
   "source": [
    "def error_ponderado(data,modelo):\n",
    "    error_first = abs((data.loc[:,\"first\"] - data.loc[:,modelo])/data.loc[:,\"first\"]).mean(axis=0)\n",
    "    error_last = abs((data.loc[:,\"last\"] - data.loc[:,modelo])/data.loc[:,\"last\"]).mean(axis=0)\n",
    "    return error_first,error_last"
   ]
  },
  {
   "cell_type": "code",
   "execution_count": 285,
   "metadata": {},
   "outputs": [],
   "source": [
    "def mse(data,modelo):\n",
    "    mse_first = ((data.loc[:,\"first\"] - data.loc[:,modelo])**2).mean(axis=0)\n",
    "    mse_last = ((data.loc[:,\"last\"] - data.loc[:,modelo])**2).mean(axis=0)\n",
    "    return mse_first,mse_last"
   ]
  },
  {
   "cell_type": "code",
   "execution_count": 399,
   "metadata": {},
   "outputs": [],
   "source": [
    "def euclidean(data,modelo):\n",
    "    euclidean_first = np.sqrt(sum((data.loc[:,\"first\"] - data.loc[:,modelo])**2))\n",
    "    euclidean_last = np.sqrt(sum((data.loc[:,\"last\"] - data.loc[:,modelo])**2))    \n",
    "    return euclidean_first, euclidean_last"
   ]
  },
  {
   "cell_type": "code",
   "execution_count": 286,
   "metadata": {},
   "outputs": [],
   "source": [
    "def minMax(data):\n",
    "    minimo = data.min(axis=1)\n",
    "    maximo = data.max(axis=1)\n",
    "    data = (data.T - minimo)/(maximo - minimo)\n",
    "    return data.T"
   ]
  },
  {
   "cell_type": "code",
   "execution_count": 287,
   "metadata": {},
   "outputs": [],
   "source": [
    "#tesis_modelos = calcular_modelos(tesis)\n",
    "tesis_modelos = pd.read_csv(\"tesis_modelos.csv\")"
   ]
  },
  {
   "cell_type": "code",
   "execution_count": 413,
   "metadata": {},
   "outputs": [
    {
     "data": {
      "text/html": [
       "<div>\n",
       "<style scoped>\n",
       "    .dataframe tbody tr th:only-of-type {\n",
       "        vertical-align: middle;\n",
       "    }\n",
       "\n",
       "    .dataframe tbody tr th {\n",
       "        vertical-align: top;\n",
       "    }\n",
       "\n",
       "    .dataframe thead th {\n",
       "        text-align: right;\n",
       "    }\n",
       "</style>\n",
       "<table border=\"1\" class=\"dataframe\">\n",
       "  <thead>\n",
       "    <tr style=\"text-align: right;\">\n",
       "      <th></th>\n",
       "      <th>first</th>\n",
       "      <th>last</th>\n",
       "      <th>linear</th>\n",
       "      <th>shapley</th>\n",
       "      <th>markov</th>\n",
       "    </tr>\n",
       "    <tr>\n",
       "      <th>canal</th>\n",
       "      <th></th>\n",
       "      <th></th>\n",
       "      <th></th>\n",
       "      <th></th>\n",
       "      <th></th>\n",
       "    </tr>\n",
       "  </thead>\n",
       "  <tbody>\n",
       "    <tr>\n",
       "      <th>(Other)</th>\n",
       "      <td>5</td>\n",
       "      <td>1</td>\n",
       "      <td>2.5333</td>\n",
       "      <td>1.09</td>\n",
       "      <td>1.3798</td>\n",
       "    </tr>\n",
       "    <tr>\n",
       "      <th>Affiliates</th>\n",
       "      <td>12</td>\n",
       "      <td>9</td>\n",
       "      <td>10.5000</td>\n",
       "      <td>9.85</td>\n",
       "      <td>16.8120</td>\n",
       "    </tr>\n",
       "    <tr>\n",
       "      <th>Social</th>\n",
       "      <td>96</td>\n",
       "      <td>142</td>\n",
       "      <td>116.8167</td>\n",
       "      <td>105.07</td>\n",
       "      <td>161.4577</td>\n",
       "    </tr>\n",
       "    <tr>\n",
       "      <th>Display</th>\n",
       "      <td>268</td>\n",
       "      <td>142</td>\n",
       "      <td>207.4000</td>\n",
       "      <td>146.66</td>\n",
       "      <td>197.3198</td>\n",
       "    </tr>\n",
       "    <tr>\n",
       "      <th>Paid Search</th>\n",
       "      <td>436</td>\n",
       "      <td>593</td>\n",
       "      <td>519.1167</td>\n",
       "      <td>460.77</td>\n",
       "      <td>487.2872</td>\n",
       "    </tr>\n",
       "    <tr>\n",
       "      <th>Direct</th>\n",
       "      <td>2616</td>\n",
       "      <td>2061</td>\n",
       "      <td>2333.4500</td>\n",
       "      <td>2255.68</td>\n",
       "      <td>2256.5751</td>\n",
       "    </tr>\n",
       "    <tr>\n",
       "      <th>Organic Search</th>\n",
       "      <td>3271</td>\n",
       "      <td>3146</td>\n",
       "      <td>3214.0667</td>\n",
       "      <td>3285.56</td>\n",
       "      <td>3290.0101</td>\n",
       "    </tr>\n",
       "    <tr>\n",
       "      <th>Referral</th>\n",
       "      <td>4848</td>\n",
       "      <td>5458</td>\n",
       "      <td>5148.1167</td>\n",
       "      <td>5287.32</td>\n",
       "      <td>5141.1583</td>\n",
       "    </tr>\n",
       "  </tbody>\n",
       "</table>\n",
       "</div>"
      ],
      "text/plain": [
       "                first  last     linear  shapley     markov\n",
       "canal                                                     \n",
       "(Other)             5     1     2.5333     1.09     1.3798\n",
       "Affiliates         12     9    10.5000     9.85    16.8120\n",
       "Social             96   142   116.8167   105.07   161.4577\n",
       "Display           268   142   207.4000   146.66   197.3198\n",
       "Paid Search       436   593   519.1167   460.77   487.2872\n",
       "Direct           2616  2061  2333.4500  2255.68  2256.5751\n",
       "Organic Search   3271  3146  3214.0667  3285.56  3290.0101\n",
       "Referral         4848  5458  5148.1167  5287.32  5141.1583"
      ]
     },
     "execution_count": 413,
     "metadata": {},
     "output_type": "execute_result"
    }
   ],
   "source": [
    "tesis_modelos.set_index(\"canal\").drop(columns=['first_last']).sort_values(by=['first'])"
   ]
  },
  {
   "cell_type": "code",
   "execution_count": 289,
   "metadata": {},
   "outputs": [],
   "source": [
    "tesis_modelos[\"first_last\"] = tesis_modelos[[\"first\",\"last\"]].mean(axis=1)"
   ]
  },
  {
   "cell_type": "code",
   "execution_count": 290,
   "metadata": {},
   "outputs": [
    {
     "data": {
      "text/plain": [
       "array([168.61067239, 147.50103455])"
      ]
     },
     "execution_count": 290,
     "metadata": {},
     "output_type": "execute_result"
    }
   ],
   "source": [
    "np.sqrt(mse(tesis_modelos,\"markov\"))"
   ]
  },
  {
   "cell_type": "code",
   "execution_count": 291,
   "metadata": {},
   "outputs": [
    {
     "data": {
      "text/plain": [
       "array([205.6950663 , 114.77151345])"
      ]
     },
     "execution_count": 291,
     "metadata": {},
     "output_type": "execute_result"
    }
   ],
   "source": [
    "np.sqrt(mse(tesis_modelos,\"shapley\"))"
   ]
  },
  {
   "cell_type": "code",
   "execution_count": 292,
   "metadata": {},
   "outputs": [
    {
     "data": {
      "text/plain": [
       "(0.29899135233201746, 0.2689237133835998)"
      ]
     },
     "execution_count": 292,
     "metadata": {},
     "output_type": "execute_result"
    }
   ],
   "source": [
    "error_ponderado(tesis_modelos,\"markov\")"
   ]
  },
  {
   "cell_type": "code",
   "execution_count": 293,
   "metadata": {},
   "outputs": [
    {
     "data": {
      "text/plain": [
       "(0.22475325088268133, 0.10880102666147368)"
      ]
     },
     "execution_count": 293,
     "metadata": {},
     "output_type": "execute_result"
    }
   ],
   "source": [
    "error_ponderado(tesis_modelos,\"shapley\")"
   ]
  },
  {
   "cell_type": "code",
   "execution_count": 294,
   "metadata": {},
   "outputs": [
    {
     "data": {
      "text/plain": [
       "168.61067238542466"
      ]
     },
     "execution_count": 294,
     "metadata": {},
     "output_type": "execute_result"
    }
   ],
   "source": [
    "np.sqrt(((tesis_modelos.loc[:,\"first\"] - tesis_modelos.loc[:,\"markov\"])**2).mean(axis=0))"
   ]
  },
  {
   "cell_type": "code",
   "execution_count": 410,
   "metadata": {},
   "outputs": [
    {
     "data": {
      "text/html": [
       "<div>\n",
       "<style scoped>\n",
       "    .dataframe tbody tr th:only-of-type {\n",
       "        vertical-align: middle;\n",
       "    }\n",
       "\n",
       "    .dataframe tbody tr th {\n",
       "        vertical-align: top;\n",
       "    }\n",
       "\n",
       "    .dataframe thead th {\n",
       "        text-align: right;\n",
       "    }\n",
       "</style>\n",
       "<table border=\"1\" class=\"dataframe\">\n",
       "  <thead>\n",
       "    <tr style=\"text-align: right;\">\n",
       "      <th></th>\n",
       "      <th>distancia_first</th>\n",
       "      <th>distancia_last</th>\n",
       "    </tr>\n",
       "  </thead>\n",
       "  <tbody>\n",
       "    <tr>\n",
       "      <th>markov</th>\n",
       "      <td>476.90</td>\n",
       "      <td>417.20</td>\n",
       "    </tr>\n",
       "    <tr>\n",
       "      <th>shapley</th>\n",
       "      <td>581.79</td>\n",
       "      <td>324.62</td>\n",
       "    </tr>\n",
       "    <tr>\n",
       "      <th>linear</th>\n",
       "      <td>429.15</td>\n",
       "      <td>430.42</td>\n",
       "    </tr>\n",
       "  </tbody>\n",
       "</table>\n",
       "</div>"
      ],
      "text/plain": [
       "         distancia_first  distancia_last\n",
       "markov            476.90          417.20\n",
       "shapley           581.79          324.62\n",
       "linear            429.15          430.42"
      ]
     },
     "execution_count": 410,
     "metadata": {},
     "output_type": "execute_result"
    }
   ],
   "source": [
    "distancia = []\n",
    "modelos_evaluar = [\"markov\",\"shapley\",\"linear\"]\n",
    "for i in modelos_evaluar:\n",
    "    distancia.append(euclidean(tesis_modelos,i))\n",
    "pd.DataFrame(distancia,index=modelos_evaluar,columns=[\"distancia_first\",\"distancia_last\"]).round(2)"
   ]
  },
  {
   "cell_type": "code",
   "execution_count": 401,
   "metadata": {},
   "outputs": [
    {
     "data": {
      "text/plain": [
       "(581.7935049482762, 324.6228617950375)"
      ]
     },
     "execution_count": 401,
     "metadata": {},
     "output_type": "execute_result"
    }
   ],
   "source": [
    "euclidean(tesis_modelos,\"shapley\")"
   ]
  },
  {
   "cell_type": "code",
   "execution_count": 403,
   "metadata": {},
   "outputs": [
    {
     "data": {
      "text/plain": [
       "(429.14840346254334, 430.4235581313483)"
      ]
     },
     "execution_count": 403,
     "metadata": {},
     "output_type": "execute_result"
    }
   ],
   "source": [
    "euclidean(tesis_modelos,\"linear\")"
   ]
  },
  {
   "cell_type": "markdown",
   "metadata": {},
   "source": [
    "## VARIANZA"
   ]
  },
  {
   "cell_type": "code",
   "execution_count": 295,
   "metadata": {},
   "outputs": [],
   "source": [
    "def particiones(data,n):\n",
    "    data = formatear(data)\n",
    "    usuarios = data.usuario.unique()\n",
    "    np.random.shuffle(usuarios)\n",
    "    particiones = np.array_split(usuarios,n)\n",
    "    return [data[data.usuario.isin(i)] for i in particiones]"
   ]
  },
  {
   "cell_type": "code",
   "execution_count": 376,
   "metadata": {},
   "outputs": [],
   "source": [
    "def calcular_modelos(particiones):\n",
    "    modelos_shapley = []\n",
    "    modelos_markov = []\n",
    "    modelos_first = []\n",
    "    modelos_last = []\n",
    "    modelos_linear = []\n",
    "    \n",
    "    for i in enumerate(particiones):\n",
    "        modelos_shapley.append(shapley_value(i[1]).rename(columns=lambda x: x+str(i[0])))\n",
    "        modelos_markov.append(markov_chain(i[1]).rename(columns=lambda x: x+str(i[0])))\n",
    "        modelos_first.append(heuristic(i[1])[0].rename(columns=lambda x: x+str(i[0])))\n",
    "        modelos_last.append(heuristic(i[1])[1].rename(columns=lambda x: x+str(i[0])))\n",
    "        modelos_linear.append(heuristic(i[1])[2].rename(columns=lambda x: x+str(i[0])))\n",
    "   \n",
    "    modelos_shapley = reduce(lambda left,right: pd.merge(left,right,left_index=True,right_index=True), modelos_shapley)\n",
    "    modelos_markov = reduce(lambda left,right: pd.merge(left,right,left_index=True,right_index=True), modelos_markov)\n",
    "    modelos_first = reduce(lambda left,right: pd.merge(left,right,left_index=True,right_index=True), modelos_first)\n",
    "    modelos_last = reduce(lambda left,right: pd.merge(left,right,left_index=True,right_index=True), modelos_last)\n",
    "    modelos_linear = reduce(lambda left,right: pd.merge(left,right,left_index=True,right_index=True), modelos_linear)\n",
    "    \n",
    "    return modelos_shapley,modelos_markov,modelos_first,modelos_last,modelos_linear"
   ]
  },
  {
   "cell_type": "code",
   "execution_count": 377,
   "metadata": {},
   "outputs": [
    {
     "name": "stderr",
     "output_type": "stream",
     "text": [
      "/home/tomasrene/anaconda3/lib/python3.7/site-packages/ipykernel_launcher.py:19: SettingWithCopyWarning: \n",
      "A value is trying to be set on a copy of a slice from a DataFrame.\n",
      "Try using .loc[row_indexer,col_indexer] = value instead\n",
      "\n",
      "See the caveats in the documentation: https://pandas.pydata.org/pandas-docs/stable/user_guide/indexing.html#returning-a-view-versus-a-copy\n"
     ]
    }
   ],
   "source": [
    "tesis_particiones = calcular_modelos(particiones(tesis,10))"
   ]
  },
  {
   "cell_type": "code",
   "execution_count": 378,
   "metadata": {},
   "outputs": [],
   "source": [
    "tesis_particiones_shapley = tesis_particiones[0]\n",
    "tesis_particiones_markov = tesis_particiones[1]\n",
    "tesis_particiones_first = tesis_particiones[2]\n",
    "tesis_particiones_last = tesis_particiones[3]\n",
    "tesis_particiones_linear = tesis_particiones[4]"
   ]
  },
  {
   "cell_type": "code",
   "execution_count": 300,
   "metadata": {},
   "outputs": [],
   "source": [
    "tesis_particiones_shapley = read_csv(\"tesis_particiones_shapley.csv\")\n",
    "tesis_particiones_markov = read_csv(\"tesis_particiones_markov.csv\")\n",
    "tesis_particiones_first = read_csv(\"tesis_particiones_first.csv\")\n",
    "tesis_particiones_last = read_csv(\"tesis_particiones_last.csv\")\n",
    "tesis_particiones_linear = read_csv(\"tesis_particiones_linear.csv\")"
   ]
  },
  {
   "cell_type": "code",
   "execution_count": 385,
   "metadata": {},
   "outputs": [],
   "source": [
    "nombre_modelos = ['shapley','markov','first','last','linear']"
   ]
  },
  {
   "cell_type": "code",
   "execution_count": 383,
   "metadata": {},
   "outputs": [],
   "source": [
    "resultado_error = []\n",
    "for i in tesis_particiones:\n",
    "    resultado_error.append(i.std(axis=1).mean())"
   ]
  },
  {
   "cell_type": "code",
   "execution_count": 387,
   "metadata": {},
   "outputs": [
    {
     "data": {
      "text/html": [
       "<div>\n",
       "<style scoped>\n",
       "    .dataframe tbody tr th:only-of-type {\n",
       "        vertical-align: middle;\n",
       "    }\n",
       "\n",
       "    .dataframe tbody tr th {\n",
       "        vertical-align: top;\n",
       "    }\n",
       "\n",
       "    .dataframe thead th {\n",
       "        text-align: right;\n",
       "    }\n",
       "</style>\n",
       "<table border=\"1\" class=\"dataframe\">\n",
       "  <thead>\n",
       "    <tr style=\"text-align: right;\">\n",
       "      <th></th>\n",
       "      <th>shapley0</th>\n",
       "      <th>shapley1</th>\n",
       "      <th>shapley2</th>\n",
       "      <th>shapley3</th>\n",
       "      <th>shapley4</th>\n",
       "      <th>shapley5</th>\n",
       "      <th>shapley6</th>\n",
       "      <th>shapley7</th>\n",
       "      <th>shapley8</th>\n",
       "      <th>shapley9</th>\n",
       "    </tr>\n",
       "  </thead>\n",
       "  <tbody>\n",
       "    <tr>\n",
       "      <th>(Other)</th>\n",
       "      <td>0.00</td>\n",
       "      <td>0.00</td>\n",
       "      <td>1.09</td>\n",
       "      <td>0.00</td>\n",
       "      <td>0.00</td>\n",
       "      <td>0.00</td>\n",
       "      <td>0.00</td>\n",
       "      <td>0.00</td>\n",
       "      <td>0.00</td>\n",
       "      <td>0.00</td>\n",
       "    </tr>\n",
       "    <tr>\n",
       "      <th>Affiliates</th>\n",
       "      <td>1.10</td>\n",
       "      <td>0.00</td>\n",
       "      <td>0.00</td>\n",
       "      <td>1.10</td>\n",
       "      <td>0.00</td>\n",
       "      <td>4.37</td>\n",
       "      <td>0.00</td>\n",
       "      <td>1.10</td>\n",
       "      <td>1.09</td>\n",
       "      <td>1.10</td>\n",
       "    </tr>\n",
       "    <tr>\n",
       "      <th>Direct</th>\n",
       "      <td>203.55</td>\n",
       "      <td>235.52</td>\n",
       "      <td>238.47</td>\n",
       "      <td>231.85</td>\n",
       "      <td>272.63</td>\n",
       "      <td>177.09</td>\n",
       "      <td>238.60</td>\n",
       "      <td>231.44</td>\n",
       "      <td>201.42</td>\n",
       "      <td>225.09</td>\n",
       "    </tr>\n",
       "    <tr>\n",
       "      <th>Display</th>\n",
       "      <td>9.90</td>\n",
       "      <td>15.13</td>\n",
       "      <td>11.98</td>\n",
       "      <td>20.98</td>\n",
       "      <td>9.85</td>\n",
       "      <td>15.30</td>\n",
       "      <td>13.13</td>\n",
       "      <td>30.71</td>\n",
       "      <td>8.74</td>\n",
       "      <td>11.04</td>\n",
       "    </tr>\n",
       "    <tr>\n",
       "      <th>Organic Search</th>\n",
       "      <td>301.47</td>\n",
       "      <td>289.54</td>\n",
       "      <td>333.20</td>\n",
       "      <td>326.79</td>\n",
       "      <td>364.60</td>\n",
       "      <td>313.73</td>\n",
       "      <td>333.82</td>\n",
       "      <td>333.45</td>\n",
       "      <td>343.11</td>\n",
       "      <td>346.46</td>\n",
       "    </tr>\n",
       "    <tr>\n",
       "      <th>Paid Search</th>\n",
       "      <td>37.41</td>\n",
       "      <td>45.38</td>\n",
       "      <td>49.00</td>\n",
       "      <td>48.58</td>\n",
       "      <td>53.65</td>\n",
       "      <td>50.28</td>\n",
       "      <td>42.68</td>\n",
       "      <td>46.07</td>\n",
       "      <td>44.64</td>\n",
       "      <td>43.03</td>\n",
       "    </tr>\n",
       "    <tr>\n",
       "      <th>Referral</th>\n",
       "      <td>500.77</td>\n",
       "      <td>563.96</td>\n",
       "      <td>523.76</td>\n",
       "      <td>542.08</td>\n",
       "      <td>512.41</td>\n",
       "      <td>536.73</td>\n",
       "      <td>537.39</td>\n",
       "      <td>533.08</td>\n",
       "      <td>563.21</td>\n",
       "      <td>473.34</td>\n",
       "    </tr>\n",
       "    <tr>\n",
       "      <th>Social</th>\n",
       "      <td>8.80</td>\n",
       "      <td>6.48</td>\n",
       "      <td>18.51</td>\n",
       "      <td>6.62</td>\n",
       "      <td>9.85</td>\n",
       "      <td>17.49</td>\n",
       "      <td>4.38</td>\n",
       "      <td>13.16</td>\n",
       "      <td>9.80</td>\n",
       "      <td>9.94</td>\n",
       "    </tr>\n",
       "  </tbody>\n",
       "</table>\n",
       "</div>"
      ],
      "text/plain": [
       "                shapley0  shapley1  shapley2  shapley3  shapley4  shapley5  \\\n",
       "(Other)             0.00      0.00      1.09      0.00      0.00      0.00   \n",
       "Affiliates          1.10      0.00      0.00      1.10      0.00      4.37   \n",
       "Direct            203.55    235.52    238.47    231.85    272.63    177.09   \n",
       "Display             9.90     15.13     11.98     20.98      9.85     15.30   \n",
       "Organic Search    301.47    289.54    333.20    326.79    364.60    313.73   \n",
       "Paid Search        37.41     45.38     49.00     48.58     53.65     50.28   \n",
       "Referral          500.77    563.96    523.76    542.08    512.41    536.73   \n",
       "Social              8.80      6.48     18.51      6.62      9.85     17.49   \n",
       "\n",
       "                shapley6  shapley7  shapley8  shapley9  \n",
       "(Other)             0.00      0.00      0.00      0.00  \n",
       "Affiliates          0.00      1.10      1.09      1.10  \n",
       "Direct            238.60    231.44    201.42    225.09  \n",
       "Display            13.13     30.71      8.74     11.04  \n",
       "Organic Search    333.82    333.45    343.11    346.46  \n",
       "Paid Search        42.68     46.07     44.64     43.03  \n",
       "Referral          537.39    533.08    563.21    473.34  \n",
       "Social              4.38     13.16      9.80      9.94  "
      ]
     },
     "execution_count": 387,
     "metadata": {},
     "output_type": "execute_result"
    }
   ],
   "source": [
    "tesis_particiones_shapley"
   ]
  },
  {
   "cell_type": "code",
   "execution_count": 388,
   "metadata": {},
   "outputs": [
    {
     "data": {
      "text/html": [
       "<div>\n",
       "<style scoped>\n",
       "    .dataframe tbody tr th:only-of-type {\n",
       "        vertical-align: middle;\n",
       "    }\n",
       "\n",
       "    .dataframe tbody tr th {\n",
       "        vertical-align: top;\n",
       "    }\n",
       "\n",
       "    .dataframe thead th {\n",
       "        text-align: right;\n",
       "    }\n",
       "</style>\n",
       "<table border=\"1\" class=\"dataframe\">\n",
       "  <thead>\n",
       "    <tr style=\"text-align: right;\">\n",
       "      <th></th>\n",
       "      <th>markov0</th>\n",
       "      <th>markov1</th>\n",
       "      <th>markov2</th>\n",
       "      <th>markov3</th>\n",
       "      <th>markov4</th>\n",
       "      <th>markov5</th>\n",
       "      <th>markov6</th>\n",
       "      <th>markov7</th>\n",
       "      <th>markov8</th>\n",
       "      <th>markov9</th>\n",
       "    </tr>\n",
       "  </thead>\n",
       "  <tbody>\n",
       "    <tr>\n",
       "      <th>(Other)</th>\n",
       "      <td>0.1128</td>\n",
       "      <td>0.0614</td>\n",
       "      <td>0.1720</td>\n",
       "      <td>0.0782</td>\n",
       "      <td>0.1462</td>\n",
       "      <td>0.1182</td>\n",
       "      <td>0.1398</td>\n",
       "      <td>0.1103</td>\n",
       "      <td>0.3106</td>\n",
       "      <td>0.1328</td>\n",
       "    </tr>\n",
       "    <tr>\n",
       "      <th>Affiliates</th>\n",
       "      <td>1.5975</td>\n",
       "      <td>0.7363</td>\n",
       "      <td>0.8805</td>\n",
       "      <td>1.6393</td>\n",
       "      <td>0.9416</td>\n",
       "      <td>4.6294</td>\n",
       "      <td>0.8698</td>\n",
       "      <td>1.8249</td>\n",
       "      <td>1.7528</td>\n",
       "      <td>1.9317</td>\n",
       "    </tr>\n",
       "    <tr>\n",
       "      <th>Direct</th>\n",
       "      <td>205.4273</td>\n",
       "      <td>237.5598</td>\n",
       "      <td>237.5090</td>\n",
       "      <td>230.0828</td>\n",
       "      <td>268.0325</td>\n",
       "      <td>182.8714</td>\n",
       "      <td>238.0122</td>\n",
       "      <td>230.7274</td>\n",
       "      <td>205.7107</td>\n",
       "      <td>220.6160</td>\n",
       "    </tr>\n",
       "    <tr>\n",
       "      <th>Display</th>\n",
       "      <td>14.3971</td>\n",
       "      <td>19.7640</td>\n",
       "      <td>16.6813</td>\n",
       "      <td>26.2937</td>\n",
       "      <td>15.8724</td>\n",
       "      <td>19.8329</td>\n",
       "      <td>17.4660</td>\n",
       "      <td>35.3866</td>\n",
       "      <td>15.9906</td>\n",
       "      <td>15.7901</td>\n",
       "    </tr>\n",
       "    <tr>\n",
       "      <th>Organic Search</th>\n",
       "      <td>296.7810</td>\n",
       "      <td>290.6730</td>\n",
       "      <td>338.1212</td>\n",
       "      <td>320.2095</td>\n",
       "      <td>368.3599</td>\n",
       "      <td>314.7513</td>\n",
       "      <td>332.5722</td>\n",
       "      <td>339.8790</td>\n",
       "      <td>342.5727</td>\n",
       "      <td>346.1705</td>\n",
       "    </tr>\n",
       "    <tr>\n",
       "      <th>Paid Search</th>\n",
       "      <td>41.7202</td>\n",
       "      <td>45.7041</td>\n",
       "      <td>52.1035</td>\n",
       "      <td>54.2448</td>\n",
       "      <td>54.8940</td>\n",
       "      <td>53.3126</td>\n",
       "      <td>43.2116</td>\n",
       "      <td>50.8899</td>\n",
       "      <td>46.0702</td>\n",
       "      <td>45.1187</td>\n",
       "    </tr>\n",
       "    <tr>\n",
       "      <th>Referral</th>\n",
       "      <td>488.9929</td>\n",
       "      <td>548.2588</td>\n",
       "      <td>507.7626</td>\n",
       "      <td>533.0187</td>\n",
       "      <td>500.1100</td>\n",
       "      <td>517.7234</td>\n",
       "      <td>527.1851</td>\n",
       "      <td>509.5877</td>\n",
       "      <td>543.0310</td>\n",
       "      <td>465.3140</td>\n",
       "    </tr>\n",
       "    <tr>\n",
       "      <th>Social</th>\n",
       "      <td>13.9712</td>\n",
       "      <td>13.2425</td>\n",
       "      <td>22.7700</td>\n",
       "      <td>12.4330</td>\n",
       "      <td>14.6435</td>\n",
       "      <td>21.7607</td>\n",
       "      <td>10.5433</td>\n",
       "      <td>20.5941</td>\n",
       "      <td>16.5614</td>\n",
       "      <td>14.9262</td>\n",
       "    </tr>\n",
       "  </tbody>\n",
       "</table>\n",
       "</div>"
      ],
      "text/plain": [
       "                 markov0   markov1   markov2   markov3   markov4   markov5  \\\n",
       "(Other)           0.1128    0.0614    0.1720    0.0782    0.1462    0.1182   \n",
       "Affiliates        1.5975    0.7363    0.8805    1.6393    0.9416    4.6294   \n",
       "Direct          205.4273  237.5598  237.5090  230.0828  268.0325  182.8714   \n",
       "Display          14.3971   19.7640   16.6813   26.2937   15.8724   19.8329   \n",
       "Organic Search  296.7810  290.6730  338.1212  320.2095  368.3599  314.7513   \n",
       "Paid Search      41.7202   45.7041   52.1035   54.2448   54.8940   53.3126   \n",
       "Referral        488.9929  548.2588  507.7626  533.0187  500.1100  517.7234   \n",
       "Social           13.9712   13.2425   22.7700   12.4330   14.6435   21.7607   \n",
       "\n",
       "                 markov6   markov7   markov8   markov9  \n",
       "(Other)           0.1398    0.1103    0.3106    0.1328  \n",
       "Affiliates        0.8698    1.8249    1.7528    1.9317  \n",
       "Direct          238.0122  230.7274  205.7107  220.6160  \n",
       "Display          17.4660   35.3866   15.9906   15.7901  \n",
       "Organic Search  332.5722  339.8790  342.5727  346.1705  \n",
       "Paid Search      43.2116   50.8899   46.0702   45.1187  \n",
       "Referral        527.1851  509.5877  543.0310  465.3140  \n",
       "Social           10.5433   20.5941   16.5614   14.9262  "
      ]
     },
     "execution_count": 388,
     "metadata": {},
     "output_type": "execute_result"
    }
   ],
   "source": [
    "tesis_particiones_markov"
   ]
  },
  {
   "cell_type": "code",
   "execution_count": 386,
   "metadata": {},
   "outputs": [
    {
     "data": {
      "text/html": [
       "<div>\n",
       "<style scoped>\n",
       "    .dataframe tbody tr th:only-of-type {\n",
       "        vertical-align: middle;\n",
       "    }\n",
       "\n",
       "    .dataframe tbody tr th {\n",
       "        vertical-align: top;\n",
       "    }\n",
       "\n",
       "    .dataframe thead th {\n",
       "        text-align: right;\n",
       "    }\n",
       "</style>\n",
       "<table border=\"1\" class=\"dataframe\">\n",
       "  <thead>\n",
       "    <tr style=\"text-align: right;\">\n",
       "      <th></th>\n",
       "      <th>desvio_estandar</th>\n",
       "    </tr>\n",
       "  </thead>\n",
       "  <tbody>\n",
       "    <tr>\n",
       "      <th>shapley</th>\n",
       "      <td>11.679198</td>\n",
       "    </tr>\n",
       "    <tr>\n",
       "      <th>markov</th>\n",
       "      <td>11.150231</td>\n",
       "    </tr>\n",
       "    <tr>\n",
       "      <th>first</th>\n",
       "      <td>15.965726</td>\n",
       "    </tr>\n",
       "    <tr>\n",
       "      <th>last</th>\n",
       "      <td>14.955431</td>\n",
       "    </tr>\n",
       "    <tr>\n",
       "      <th>linear</th>\n",
       "      <td>15.364880</td>\n",
       "    </tr>\n",
       "  </tbody>\n",
       "</table>\n",
       "</div>"
      ],
      "text/plain": [
       "         desvio_estandar\n",
       "shapley        11.679198\n",
       "markov         11.150231\n",
       "first          15.965726\n",
       "last           14.955431\n",
       "linear         15.364880"
      ]
     },
     "execution_count": 386,
     "metadata": {},
     "output_type": "execute_result"
    }
   ],
   "source": [
    "pd.DataFrame(resultado_error,index=nombre_modelos,columns=['desvio_estandar'])"
   ]
  },
  {
   "cell_type": "code",
   "execution_count": null,
   "metadata": {},
   "outputs": [],
   "source": []
  },
  {
   "cell_type": "markdown",
   "metadata": {},
   "source": [
    "# BORRADOR"
   ]
  },
  {
   "cell_type": "code",
   "execution_count": null,
   "metadata": {},
   "outputs": [],
   "source": [
    "tesis_markov_modelos.plot(kind='bar')"
   ]
  },
  {
   "cell_type": "code",
   "execution_count": null,
   "metadata": {},
   "outputs": [],
   "source": [
    "tesis_markov_modelos.sum(axis=1) - final_tesis.loc[:,\"markov\"]"
   ]
  },
  {
   "cell_type": "code",
   "execution_count": null,
   "metadata": {},
   "outputs": [],
   "source": [
    "tesis_markov_modelos.std(axis=1)# / tesis_markov_modelos.mean(axis=1)"
   ]
  },
  {
   "cell_type": "code",
   "execution_count": null,
   "metadata": {},
   "outputs": [],
   "source": [
    "minmax = minMax(tesis_markov_modelos)\n",
    "#prueba2 = pd.DataFrame(scaler.fit_transform(tesis_markov_modelos.T).T,index=tesis_markov_modelos.index,columns=tesis_markov_modelos.columns)\n",
    "minmax"
   ]
  },
  {
   "cell_type": "code",
   "execution_count": null,
   "metadata": {},
   "outputs": [],
   "source": [
    "minmax.mean(axis=0).plot(kind='bar')"
   ]
  },
  {
   "cell_type": "code",
   "execution_count": null,
   "metadata": {},
   "outputs": [],
   "source": [
    "sns.heatmap(minmax)"
   ]
  },
  {
   "cell_type": "code",
   "execution_count": null,
   "metadata": {},
   "outputs": [],
   "source": [
    "escalado = pd.DataFrame(preprocessing.scale(tesis_markov_modelos,axis=1),index=tesis_markov_modelos.index,columns=tesis_markov_modelos.columns)\n",
    "escalado"
   ]
  },
  {
   "cell_type": "code",
   "execution_count": null,
   "metadata": {},
   "outputs": [],
   "source": [
    "sns.heatmap(escalado)"
   ]
  },
  {
   "cell_type": "code",
   "execution_count": null,
   "metadata": {},
   "outputs": [],
   "source": [
    "sns.heatmap(pd.DataFrame(np.random.normal(0,1,(8,10))))"
   ]
  },
  {
   "cell_type": "code",
   "execution_count": null,
   "metadata": {},
   "outputs": [],
   "source": []
  }
 ],
 "metadata": {
  "kernelspec": {
   "display_name": "Python 3",
   "language": "python",
   "name": "python3"
  },
  "language_info": {
   "codemirror_mode": {
    "name": "ipython",
    "version": 3
   },
   "file_extension": ".py",
   "mimetype": "text/x-python",
   "name": "python",
   "nbconvert_exporter": "python",
   "pygments_lexer": "ipython3",
   "version": "3.7.6"
  }
 },
 "nbformat": 4,
 "nbformat_minor": 4
}
