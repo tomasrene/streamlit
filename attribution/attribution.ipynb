{
 "cells": [
  {
   "cell_type": "code",
   "execution_count": 1,
   "metadata": {},
   "outputs": [],
   "source": [
    "from utils import markov\n",
    "from utils import shapley\n",
    "from utils import heuristic"
   ]
  },
  {
   "cell_type": "markdown",
   "metadata": {},
   "source": [
    "# PRUEBA"
   ]
  },
  {
   "cell_type": "code",
   "execution_count": 2,
   "metadata": {},
   "outputs": [],
   "source": [
    "data = [\n",
    "    ['U1','C1',0],\n",
    "    ['U2','C1',0],\n",
    "    ['U3','C1',0],\n",
    "    ['U4','C1',0],\n",
    "    ['U5','C1',0],\n",
    "    ['U6','C1',0],\n",
    "    ['U7','C1',0],\n",
    "    ['U8','C1',0],\n",
    "    ['U9','C1',0],\n",
    "    ['U10','C1',0],\n",
    "\n",
    "    ['U6','C2',0],\n",
    "    ['U7','C2',0],\n",
    "    ['U8','C2',0],\n",
    "    ['U9','C2',0],\n",
    "    ['U10','C2',0],\n",
    "\n",
    "    ['U11','C2',0],\n",
    "    ['U12','C2',0],\n",
    "    ['U13','C2',0],\n",
    "    ['U14','C2',0],\n",
    "    ['U15','C2',0],\n",
    "    ['U16','C2',0],\n",
    "    ['U17','C2',0],\n",
    "    ['U18','C2',0],\n",
    "    ['U19','C2',0],\n",
    "    ['U20','C2',0],\n",
    "\n",
    "    ['U6','C3',1],\n",
    "    ['U7','C3',1],\n",
    "    ['U8','C3',1],\n",
    "    ['U9','C3',1],\n",
    "    ['U10','C3',1],\n",
    "\n",
    "    ['U11','C3',1],\n",
    "    ['U12','C3',0],\n",
    "    ['U13','C3',0],\n",
    "    ['U14','C3',0],\n",
    "    ['U15','C3',0],\n",
    "    ['U16','C3',0],\n",
    "    ['U17','C3',0],\n",
    "    ['U18','C3',0],\n",
    "    ['U19','C3',0],\n",
    "    ['U20','C3',0],\n",
    "    ]"
   ]
  },
  {
   "cell_type": "code",
   "execution_count": 15,
   "metadata": {},
   "outputs": [],
   "source": [
    "import csv\n",
    "with open('data_basic.csv', 'w') as f:\n",
    "      \n",
    "    write = csv.writer(f)\n",
    "    write.writerows(data)"
   ]
  },
  {
   "cell_type": "code",
   "execution_count": 16,
   "metadata": {},
   "outputs": [
    {
     "data": {
      "text/html": "<div>\n<style scoped>\n    .dataframe tbody tr th:only-of-type {\n        vertical-align: middle;\n    }\n\n    .dataframe tbody tr th {\n        vertical-align: top;\n    }\n\n    .dataframe thead th {\n        text-align: right;\n    }\n</style>\n<table border=\"1\" class=\"dataframe\">\n  <thead>\n    <tr style=\"text-align: right;\">\n      <th></th>\n      <th>['U1', 'C1', 0]</th>\n      <th>['U2', 'C1', 0]</th>\n      <th>['U3', 'C1', 0]</th>\n      <th>['U4', 'C1', 0]</th>\n      <th>['U5', 'C1', 0]</th>\n      <th>['U6', 'C1', 0]</th>\n      <th>['U7', 'C1', 0]</th>\n      <th>['U8', 'C1', 0]</th>\n      <th>['U9', 'C1', 0]</th>\n      <th>['U10', 'C1', 0]</th>\n      <th>...</th>\n      <th>['U11', 'C3', 1]</th>\n      <th>['U12', 'C3', 0]</th>\n      <th>['U13', 'C3', 0]</th>\n      <th>['U14', 'C3', 0]</th>\n      <th>['U15', 'C3', 0]</th>\n      <th>['U16', 'C3', 0]</th>\n      <th>['U17', 'C3', 0]</th>\n      <th>['U18', 'C3', 0]</th>\n      <th>['U19', 'C3', 0]</th>\n      <th>['U20', 'C3', 0]</th>\n    </tr>\n  </thead>\n  <tbody>\n  </tbody>\n</table>\n<p>0 rows × 40 columns</p>\n</div>",
      "text/plain": "Empty DataFrame\nColumns: [['U1', 'C1', 0], ['U2', 'C1', 0], ['U3', 'C1', 0], ['U4', 'C1', 0], ['U5', 'C1', 0], ['U6', 'C1', 0], ['U7', 'C1', 0], ['U8', 'C1', 0], ['U9', 'C1', 0], ['U10', 'C1', 0], ['U6', 'C2', 0], ['U7', 'C2', 0], ['U8', 'C2', 0], ['U9', 'C2', 0], ['U10', 'C2', 0], ['U11', 'C2', 0], ['U12', 'C2', 0], ['U13', 'C2', 0], ['U14', 'C2', 0], ['U15', 'C2', 0], ['U16', 'C2', 0], ['U17', 'C2', 0], ['U18', 'C2', 0], ['U19', 'C2', 0], ['U20', 'C2', 0], ['U6', 'C3', 1], ['U7', 'C3', 1], ['U8', 'C3', 1], ['U9', 'C3', 1], ['U10', 'C3', 1], ['U11', 'C3', 1], ['U12', 'C3', 0], ['U13', 'C3', 0], ['U14', 'C3', 0], ['U15', 'C3', 0], ['U16', 'C3', 0], ['U17', 'C3', 0], ['U18', 'C3', 0], ['U19', 'C3', 0], ['U20', 'C3', 0]]\nIndex: []\n\n[0 rows x 40 columns]"
     },
     "execution_count": 16,
     "metadata": {},
     "output_type": "execute_result"
    }
   ],
   "source": [
    "import pandas as pd\n",
    "pd.read_csv(\"data_basic.csv\")"
   ]
  },
  {
   "cell_type": "code",
   "execution_count": 7,
   "metadata": {},
   "outputs": [
    {
     "data": {
      "text/html": "<div>\n<style scoped>\n    .dataframe tbody tr th:only-of-type {\n        vertical-align: middle;\n    }\n\n    .dataframe tbody tr th {\n        vertical-align: top;\n    }\n\n    .dataframe thead th {\n        text-align: right;\n    }\n</style>\n<table border=\"1\" class=\"dataframe\">\n  <thead>\n    <tr style=\"text-align: right;\">\n      <th></th>\n      <th>markov</th>\n    </tr>\n  </thead>\n  <tbody>\n    <tr>\n      <th>C1</th>\n      <td>0.8571</td>\n    </tr>\n    <tr>\n      <th>C2</th>\n      <td>2.5714</td>\n    </tr>\n    <tr>\n      <th>C3</th>\n      <td>2.5714</td>\n    </tr>\n  </tbody>\n</table>\n</div>",
      "text/plain": "    markov\nC1  0.8571\nC2  2.5714\nC3  2.5714"
     },
     "execution_count": 7,
     "metadata": {},
     "output_type": "execute_result"
    }
   ],
   "source": [
    "markov.markov_chain(data)"
   ]
  },
  {
   "cell_type": "code",
   "execution_count": 4,
   "metadata": {},
   "outputs": [
    {
     "data": {
      "text/html": "<div>\n<style scoped>\n    .dataframe tbody tr th:only-of-type {\n        vertical-align: middle;\n    }\n\n    .dataframe tbody tr th {\n        vertical-align: top;\n    }\n\n    .dataframe thead th {\n        text-align: right;\n    }\n</style>\n<table border=\"1\" class=\"dataframe\">\n  <thead>\n    <tr style=\"text-align: right;\">\n      <th></th>\n      <th>shapley</th>\n    </tr>\n  </thead>\n  <tbody>\n    <tr>\n      <th>C1</th>\n      <td>1.6</td>\n    </tr>\n    <tr>\n      <th>C2</th>\n      <td>2.2</td>\n    </tr>\n    <tr>\n      <th>C3</th>\n      <td>2.2</td>\n    </tr>\n  </tbody>\n</table>\n</div>",
      "text/plain": "    shapley\nC1      1.6\nC2      2.2\nC3      2.2"
     },
     "execution_count": 4,
     "metadata": {},
     "output_type": "execute_result"
    }
   ],
   "source": [
    "shapley.shapley_value(data)"
   ]
  },
  {
   "cell_type": "code",
   "execution_count": 5,
   "metadata": {},
   "outputs": [
    {
     "data": {
      "text/plain": "(       first\n canal       \n C1         5\n C2         1,\n        last\n canal      \n C3        6,\n          linear\n canal          \n C1     1.666667\n C2     2.166667\n C3     2.166667)"
     },
     "execution_count": 5,
     "metadata": {},
     "output_type": "execute_result"
    }
   ],
   "source": [
    "heuristic.heuristic_models(data)"
   ]
  },
  {
   "cell_type": "code",
   "execution_count": null,
   "metadata": {},
   "outputs": [],
   "source": []
  }
 ],
 "metadata": {
  "kernelspec": {
   "display_name": "Python 3.7.6 64-bit ('base': conda)",
   "name": "python376jvsc74a57bd0f02e1b834785f9539729706e574985acc6d9187587d455f7e5c50a30b32b5169"
  },
  "language_info": {
   "codemirror_mode": {
    "name": "ipython",
    "version": 3
   },
   "file_extension": ".py",
   "mimetype": "text/x-python",
   "name": "python",
   "nbconvert_exporter": "python",
   "pygments_lexer": "ipython3",
   "version": "3.7.6"
  }
 },
 "nbformat": 4,
 "nbformat_minor": 4
}