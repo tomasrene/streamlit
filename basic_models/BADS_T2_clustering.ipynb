{
  "nbformat": 4,
  "nbformat_minor": 0,
  "metadata": {
    "colab": {
      "name": "BADS_T2_clustering",
      "provenance": [],
      "collapsed_sections": [
        "pEzmbqFqWgzW"
      ]
    },
    "kernelspec": {
      "name": "python3",
      "display_name": "Python 3"
    },
    "language_info": {
      "name": "python"
    }
  },
  "cells": [
    {
      "cell_type": "markdown",
      "metadata": {
        "id": "Vh-nh6XC_dzn"
      },
      "source": [
        "# CLUSTERING\n",
        "The goal of this exercise is to explore both visual and practically the foundations of clustering. We'll center our approach around KMeans as its the most well known algorithm for clustering. In the first part, you have to try different initializations of KMeans and explore visually its results. In the second one, you have to try KMeans with a more real dataset, test differenet parameters and also test a dimensionality reduction.\n",
        "\n",
        "We're working with 2 different datasets: \n",
        "\n",
        "###- Toy dataset\n",
        "In Dataset folder, under BADS_T2_kmeans.csv\n",
        "\n",
        "###- Bigger one\n",
        "From the Infobae dataset (infobae-ga.ga_sessions), for each session keep the country, device, browser, source, total of hits, pageviews and timeonsite. Use only the 1st day of 2021.\n"
      ]
    },
    {
      "cell_type": "markdown",
      "metadata": {
        "id": "W_N6cTx3WdXp"
      },
      "source": [
        "## VERSION 1"
      ]
    },
    {
      "cell_type": "markdown",
      "metadata": {
        "id": "R90uUunyT-54"
      },
      "source": [
        "First, you have to import the datasets"
      ]
    },
    {
      "cell_type": "code",
      "metadata": {
        "id": "orRtvMZXsT6F"
      },
      "source": [
        ""
      ],
      "execution_count": null,
      "outputs": []
    },
    {
      "cell_type": "markdown",
      "metadata": {
        "id": "kE9QUAlCVZ7M"
      },
      "source": [
        "### SMALL DATASET"
      ]
    },
    {
      "cell_type": "markdown",
      "metadata": {
        "id": "MpjcFbW6UDND"
      },
      "source": [
        "Now, you have to visualize in 3D the dataset and think for your own how many clusters the data has."
      ]
    },
    {
      "cell_type": "code",
      "metadata": {
        "id": "pGcCPWBeVXAl",
        "colab": {
          "base_uri": "https://localhost:8080/"
        },
        "outputId": "e6ad508f-d448-440f-b776-ea345dd426f9"
      },
      "source": [
        "data.shape"
      ],
      "execution_count": null,
      "outputs": [
        {
          "output_type": "execute_result",
          "data": {
            "text/plain": [
              "(200, 3)"
            ]
          },
          "metadata": {
            "tags": []
          },
          "execution_count": 5
        }
      ]
    },
    {
      "cell_type": "markdown",
      "metadata": {
        "id": "Sy0jNTzIVXxw"
      },
      "source": [
        "After that, you have to run KMeans with only 1 initialization pear each run and visualize the results. The goal is to see the variation between each run."
      ]
    },
    {
      "cell_type": "markdown",
      "metadata": {
        "id": "_FcQ94_6CU9H"
      },
      "source": [
        "Finally, you have to check whether the number of clusters you decided to form agree with the ones from the elbow method (for similarity and silhouette)."
      ]
    },
    {
      "cell_type": "code",
      "metadata": {
        "id": "ynF2VzhTCUlg"
      },
      "source": [
        ""
      ],
      "execution_count": null,
      "outputs": []
    },
    {
      "cell_type": "markdown",
      "metadata": {
        "id": "qEISbevtV6-8"
      },
      "source": [
        "### BIG DATASET"
      ]
    },
    {
      "cell_type": "markdown",
      "metadata": {
        "id": "shujU_dmC60G"
      },
      "source": [
        "Do some preprocessing in order to deal with the dataset."
      ]
    },
    {
      "cell_type": "code",
      "metadata": {
        "id": "MPz1RXKDC_Sx"
      },
      "source": [
        ""
      ],
      "execution_count": null,
      "outputs": []
    },
    {
      "cell_type": "markdown",
      "metadata": {
        "id": "kyADbQJTV8pg"
      },
      "source": [
        "After that, you have to apply KMeans deciding with the elbow method which should be the number of clusters."
      ]
    },
    {
      "cell_type": "code",
      "metadata": {
        "id": "Cc6ZugjxV7zq"
      },
      "source": [
        ""
      ],
      "execution_count": null,
      "outputs": []
    },
    {
      "cell_type": "markdown",
      "metadata": {
        "id": "GxVxlj8KWHg8"
      },
      "source": [
        "Now, you have to print the centroids of each cluster and try to interpret the results."
      ]
    },
    {
      "cell_type": "code",
      "metadata": {
        "id": "sEfjBTmpWWJT"
      },
      "source": [
        ""
      ],
      "execution_count": null,
      "outputs": []
    },
    {
      "cell_type": "markdown",
      "metadata": {
        "id": "SRrk_CuWWW7L"
      },
      "source": [
        "Next, you have to apply a classical PCA to the dataset to reduce the dataset in 3 dimensions and run KMeans against the reduced dataset."
      ]
    },
    {
      "cell_type": "code",
      "metadata": {
        "id": "s7WONiGbWbzh"
      },
      "source": [
        ""
      ],
      "execution_count": null,
      "outputs": []
    },
    {
      "cell_type": "markdown",
      "metadata": {
        "id": "tuDpnlD6E1_b"
      },
      "source": [
        "Visualize it and check visually if it makes sense."
      ]
    },
    {
      "cell_type": "code",
      "metadata": {
        "id": "pWizP0SYE9Hs"
      },
      "source": [
        ""
      ],
      "execution_count": null,
      "outputs": []
    },
    {
      "cell_type": "markdown",
      "metadata": {
        "id": "fsV7kdUkE9kB"
      },
      "source": [
        "(Optional) Get the results from this last run and pair them to the original data to see how does it perform and if the clusters can have some interpretation."
      ]
    },
    {
      "cell_type": "code",
      "metadata": {
        "id": "7r90z6LxFMSG"
      },
      "source": [
        ""
      ],
      "execution_count": null,
      "outputs": []
    },
    {
      "cell_type": "markdown",
      "metadata": {
        "id": "pEzmbqFqWgzW"
      },
      "source": [
        "## SOLUTION"
      ]
    },
    {
      "cell_type": "markdown",
      "metadata": {
        "id": "5vgYcHNGa5MO"
      },
      "source": [
        "First, you have to import the datasets."
      ]
    },
    {
      "cell_type": "code",
      "metadata": {
        "id": "Gu-NIBUZWiCs",
        "colab": {
          "base_uri": "https://localhost:8080/",
          "height": 212
        },
        "outputId": "ee0967af-fd76-493e-9343-2b3d3b06500f"
      },
      "source": [
        "from google.colab import drive\n",
        "drive.mount(\"/content/drive\")\n",
        "\n",
        "import pandas as pd\n",
        "df = pd.read_csv(\"/content/drive/MyDrive/Data Science/Training/Exercises/Datasets/BADS_T2_kmeans (1).csv\")\n",
        "df.head()"
      ],
      "execution_count": null,
      "outputs": [
        {
          "output_type": "stream",
          "text": [
            "Drive already mounted at /content/drive; to attempt to forcibly remount, call drive.mount(\"/content/drive\", force_remount=True).\n"
          ],
          "name": "stdout"
        },
        {
          "output_type": "execute_result",
          "data": {
            "text/html": [
              "<div>\n",
              "<style scoped>\n",
              "    .dataframe tbody tr th:only-of-type {\n",
              "        vertical-align: middle;\n",
              "    }\n",
              "\n",
              "    .dataframe tbody tr th {\n",
              "        vertical-align: top;\n",
              "    }\n",
              "\n",
              "    .dataframe thead th {\n",
              "        text-align: right;\n",
              "    }\n",
              "</style>\n",
              "<table border=\"1\" class=\"dataframe\">\n",
              "  <thead>\n",
              "    <tr style=\"text-align: right;\">\n",
              "      <th></th>\n",
              "      <th>x</th>\n",
              "      <th>y</th>\n",
              "      <th>z</th>\n",
              "    </tr>\n",
              "  </thead>\n",
              "  <tbody>\n",
              "    <tr>\n",
              "      <th>0</th>\n",
              "      <td>19</td>\n",
              "      <td>15</td>\n",
              "      <td>39</td>\n",
              "    </tr>\n",
              "    <tr>\n",
              "      <th>1</th>\n",
              "      <td>21</td>\n",
              "      <td>15</td>\n",
              "      <td>81</td>\n",
              "    </tr>\n",
              "    <tr>\n",
              "      <th>2</th>\n",
              "      <td>20</td>\n",
              "      <td>16</td>\n",
              "      <td>6</td>\n",
              "    </tr>\n",
              "    <tr>\n",
              "      <th>3</th>\n",
              "      <td>23</td>\n",
              "      <td>16</td>\n",
              "      <td>77</td>\n",
              "    </tr>\n",
              "    <tr>\n",
              "      <th>4</th>\n",
              "      <td>31</td>\n",
              "      <td>17</td>\n",
              "      <td>40</td>\n",
              "    </tr>\n",
              "  </tbody>\n",
              "</table>\n",
              "</div>"
            ],
            "text/plain": [
              "    x   y   z\n",
              "0  19  15  39\n",
              "1  21  15  81\n",
              "2  20  16   6\n",
              "3  23  16  77\n",
              "4  31  17  40"
            ]
          },
          "metadata": {
            "tags": []
          },
          "execution_count": 86
        }
      ]
    },
    {
      "cell_type": "code",
      "metadata": {
        "id": "empGbmNlk9LW"
      },
      "source": [
        "from google.cloud import bigquery\n",
        "project_id = 'mh-dt3'\n",
        "client = bigquery.Client(project=project_id)\n",
        "df = client.query('''\n",
        "SELECT \n",
        "  geoNetwork.country,\n",
        "  device.deviceCategory,\n",
        "  device.browser,\n",
        "  trafficSource.source,\n",
        "  totals.hits,\n",
        "  totals.pageviews,\n",
        "  totals.timeOnSite\n",
        "FROM `infobae-ga.105202533.ga_sessions_20210101`\n",
        "''').to_dataframe()"
      ],
      "execution_count": null,
      "outputs": []
    },
    {
      "cell_type": "markdown",
      "metadata": {
        "id": "awyktqWwd5sF"
      },
      "source": [
        "### SMALL DATASET"
      ]
    },
    {
      "cell_type": "markdown",
      "metadata": {
        "id": "shMHuxVLV0BR"
      },
      "source": [
        "Now, you have to visualize in 3D the dataset and think for your own how many clusters the data has."
      ]
    },
    {
      "cell_type": "code",
      "metadata": {
        "colab": {
          "base_uri": "https://localhost:8080/",
          "height": 617
        },
        "id": "kad-PVlkV0BR",
        "outputId": "83f22713-b3f3-4ee2-c2fc-05b6264e1514"
      },
      "source": [
        "import plotly.graph_objects as go\n",
        "\n",
        "PLOT = go.Figure()\n",
        "\n",
        "PLOT.add_trace(go.Scatter3d(x = df.x,\n",
        "                            y = df.y,\n",
        "                            z = df.z,\n",
        "                            mode = 'markers', marker_size = 8, marker_line_width = 1))\n",
        "\n",
        "PLOT.update_layout(width = 600, height = 600, autosize = True, \n",
        "                   scene = dict(xaxis=dict(title = 'x', titlefont_color = 'black'),\n",
        "                                yaxis=dict(title = 'y', titlefont_color = 'black'),\n",
        "                                zaxis=dict(title = 'z', titlefont_color = 'black')))"
      ],
      "execution_count": null,
      "outputs": [
        {
          "output_type": "display_data",
          "data": {
            "text/html": [
              "<html>\n",
              "<head><meta charset=\"utf-8\" /></head>\n",
              "<body>\n",
              "    <div>\n",
              "            <script src=\"https://cdnjs.cloudflare.com/ajax/libs/mathjax/2.7.5/MathJax.js?config=TeX-AMS-MML_SVG\"></script><script type=\"text/javascript\">if (window.MathJax) {MathJax.Hub.Config({SVG: {font: \"STIX-Web\"}});}</script>\n",
              "                <script type=\"text/javascript\">window.PlotlyConfig = {MathJaxConfig: 'local'};</script>\n",
              "        <script src=\"https://cdn.plot.ly/plotly-latest.min.js\"></script>    \n",
              "            <div id=\"a632d585-7f76-4cbd-a79f-00369e83908f\" class=\"plotly-graph-div\" style=\"height:600px; width:600px;\"></div>\n",
              "            <script type=\"text/javascript\">\n",
              "                \n",
              "                    window.PLOTLYENV=window.PLOTLYENV || {};\n",
              "                    \n",
              "                if (document.getElementById(\"a632d585-7f76-4cbd-a79f-00369e83908f\")) {\n",
              "                    Plotly.newPlot(\n",
              "                        'a632d585-7f76-4cbd-a79f-00369e83908f',\n",
              "                        [{\"marker\": {\"line\": {\"width\": 1}, \"size\": 8}, \"mode\": \"markers\", \"type\": \"scatter3d\", \"x\": [19, 21, 20, 23, 31, 22, 35, 23, 64, 30, 67, 35, 58, 24, 37, 22, 35, 20, 52, 35, 35, 25, 46, 31, 54, 29, 45, 35, 40, 23, 60, 21, 53, 18, 49, 21, 42, 30, 36, 20, 65, 24, 48, 31, 49, 24, 50, 27, 29, 31, 49, 33, 31, 59, 50, 47, 51, 69, 27, 53, 70, 19, 67, 54, 63, 18, 43, 68, 19, 32, 70, 47, 60, 60, 59, 26, 45, 40, 23, 49, 57, 38, 67, 46, 21, 48, 55, 22, 34, 50, 68, 18, 48, 40, 32, 24, 47, 27, 48, 20, 23, 49, 67, 26, 49, 21, 66, 54, 68, 66, 65, 19, 38, 19, 18, 19, 63, 49, 51, 50, 27, 38, 40, 39, 23, 31, 43, 40, 59, 38, 47, 39, 25, 31, 20, 29, 44, 32, 19, 35, 57, 32, 28, 32, 25, 28, 48, 32, 34, 34, 43, 39, 44, 38, 47, 27, 37, 30, 34, 30, 56, 29, 19, 31, 50, 36, 42, 33, 36, 32, 40, 28, 36, 36, 52, 30, 58, 27, 59, 35, 37, 32, 46, 29, 41, 30, 54, 28, 41, 36, 34, 32, 33, 38, 47, 35, 45, 32, 32, 30], \"y\": [15, 15, 16, 16, 17, 17, 18, 18, 19, 19, 19, 19, 20, 20, 20, 20, 21, 21, 23, 23, 24, 24, 25, 25, 28, 28, 28, 28, 29, 29, 30, 30, 33, 33, 33, 33, 34, 34, 37, 37, 38, 38, 39, 39, 39, 39, 40, 40, 40, 40, 42, 42, 43, 43, 43, 43, 44, 44, 46, 46, 46, 46, 47, 47, 48, 48, 48, 48, 48, 48, 49, 49, 50, 50, 54, 54, 54, 54, 54, 54, 54, 54, 54, 54, 54, 54, 57, 57, 58, 58, 59, 59, 60, 60, 60, 60, 60, 60, 61, 61, 62, 62, 62, 62, 62, 62, 63, 63, 63, 63, 63, 63, 64, 64, 65, 65, 65, 65, 67, 67, 67, 67, 69, 69, 70, 70, 71, 71, 71, 71, 71, 71, 72, 72, 73, 73, 73, 73, 74, 74, 75, 75, 76, 76, 77, 77, 77, 77, 78, 78, 78, 78, 78, 78, 78, 78, 78, 78, 78, 78, 79, 79, 81, 81, 85, 85, 86, 86, 87, 87, 87, 87, 87, 87, 88, 88, 88, 88, 93, 93, 97, 97, 98, 98, 99, 99, 101, 101, 103, 103, 103, 103, 113, 113, 120, 120, 126, 126, 137, 137], \"z\": [39, 81, 6, 77, 40, 76, 6, 94, 3, 72, 14, 99, 15, 77, 13, 79, 35, 66, 29, 98, 35, 73, 5, 73, 14, 82, 32, 61, 31, 87, 4, 73, 4, 92, 14, 81, 17, 73, 26, 75, 35, 92, 36, 61, 28, 65, 55, 47, 42, 42, 52, 60, 54, 60, 45, 41, 50, 46, 51, 46, 56, 55, 52, 59, 51, 59, 50, 48, 59, 47, 55, 42, 49, 56, 47, 54, 53, 48, 52, 42, 51, 55, 41, 44, 57, 46, 58, 55, 60, 46, 55, 41, 49, 40, 42, 52, 47, 50, 42, 49, 41, 48, 59, 55, 56, 42, 50, 46, 43, 48, 52, 54, 42, 46, 48, 50, 43, 59, 43, 57, 56, 40, 58, 91, 29, 77, 35, 95, 11, 75, 9, 75, 34, 71, 5, 88, 7, 73, 10, 72, 5, 93, 40, 87, 12, 97, 36, 74, 22, 90, 17, 88, 20, 76, 16, 89, 1, 78, 1, 73, 35, 83, 5, 93, 26, 75, 20, 95, 27, 63, 13, 75, 10, 92, 13, 86, 15, 69, 14, 90, 32, 86, 15, 88, 39, 97, 24, 68, 17, 85, 23, 69, 8, 91, 16, 79, 28, 74, 18, 83]}],\n",
              "                        {\"autosize\": true, \"height\": 600, \"scene\": {\"xaxis\": {\"title\": {\"font\": {\"color\": \"black\"}, \"text\": \"x\"}}, \"yaxis\": {\"title\": {\"font\": {\"color\": \"black\"}, \"text\": \"y\"}}, \"zaxis\": {\"title\": {\"font\": {\"color\": \"black\"}, \"text\": \"z\"}}}, \"template\": {\"data\": {\"bar\": [{\"error_x\": {\"color\": \"#2a3f5f\"}, \"error_y\": {\"color\": \"#2a3f5f\"}, \"marker\": {\"line\": {\"color\": \"#E5ECF6\", \"width\": 0.5}}, \"type\": \"bar\"}], \"barpolar\": [{\"marker\": {\"line\": {\"color\": \"#E5ECF6\", \"width\": 0.5}}, \"type\": \"barpolar\"}], \"carpet\": [{\"aaxis\": {\"endlinecolor\": \"#2a3f5f\", \"gridcolor\": \"white\", \"linecolor\": \"white\", \"minorgridcolor\": \"white\", \"startlinecolor\": \"#2a3f5f\"}, \"baxis\": {\"endlinecolor\": \"#2a3f5f\", \"gridcolor\": \"white\", \"linecolor\": \"white\", \"minorgridcolor\": \"white\", \"startlinecolor\": \"#2a3f5f\"}, \"type\": \"carpet\"}], \"choropleth\": [{\"colorbar\": {\"outlinewidth\": 0, \"ticks\": \"\"}, \"type\": \"choropleth\"}], \"contour\": [{\"colorbar\": {\"outlinewidth\": 0, \"ticks\": \"\"}, \"colorscale\": [[0.0, \"#0d0887\"], [0.1111111111111111, \"#46039f\"], [0.2222222222222222, \"#7201a8\"], [0.3333333333333333, \"#9c179e\"], [0.4444444444444444, \"#bd3786\"], [0.5555555555555556, \"#d8576b\"], [0.6666666666666666, \"#ed7953\"], [0.7777777777777778, \"#fb9f3a\"], [0.8888888888888888, \"#fdca26\"], [1.0, \"#f0f921\"]], \"type\": \"contour\"}], \"contourcarpet\": [{\"colorbar\": {\"outlinewidth\": 0, \"ticks\": \"\"}, \"type\": \"contourcarpet\"}], \"heatmap\": [{\"colorbar\": {\"outlinewidth\": 0, \"ticks\": \"\"}, \"colorscale\": [[0.0, \"#0d0887\"], [0.1111111111111111, \"#46039f\"], [0.2222222222222222, \"#7201a8\"], [0.3333333333333333, \"#9c179e\"], [0.4444444444444444, \"#bd3786\"], [0.5555555555555556, \"#d8576b\"], [0.6666666666666666, \"#ed7953\"], [0.7777777777777778, \"#fb9f3a\"], [0.8888888888888888, \"#fdca26\"], [1.0, \"#f0f921\"]], \"type\": \"heatmap\"}], \"heatmapgl\": [{\"colorbar\": {\"outlinewidth\": 0, \"ticks\": \"\"}, \"colorscale\": [[0.0, \"#0d0887\"], [0.1111111111111111, \"#46039f\"], [0.2222222222222222, \"#7201a8\"], [0.3333333333333333, \"#9c179e\"], [0.4444444444444444, \"#bd3786\"], [0.5555555555555556, \"#d8576b\"], [0.6666666666666666, \"#ed7953\"], [0.7777777777777778, \"#fb9f3a\"], [0.8888888888888888, \"#fdca26\"], [1.0, \"#f0f921\"]], \"type\": \"heatmapgl\"}], \"histogram\": [{\"marker\": {\"colorbar\": {\"outlinewidth\": 0, \"ticks\": \"\"}}, \"type\": \"histogram\"}], \"histogram2d\": [{\"colorbar\": {\"outlinewidth\": 0, \"ticks\": \"\"}, \"colorscale\": [[0.0, \"#0d0887\"], [0.1111111111111111, \"#46039f\"], [0.2222222222222222, \"#7201a8\"], [0.3333333333333333, \"#9c179e\"], [0.4444444444444444, \"#bd3786\"], [0.5555555555555556, \"#d8576b\"], [0.6666666666666666, \"#ed7953\"], [0.7777777777777778, \"#fb9f3a\"], [0.8888888888888888, \"#fdca26\"], [1.0, \"#f0f921\"]], \"type\": \"histogram2d\"}], \"histogram2dcontour\": [{\"colorbar\": {\"outlinewidth\": 0, \"ticks\": \"\"}, \"colorscale\": [[0.0, \"#0d0887\"], [0.1111111111111111, \"#46039f\"], [0.2222222222222222, \"#7201a8\"], [0.3333333333333333, \"#9c179e\"], [0.4444444444444444, \"#bd3786\"], [0.5555555555555556, \"#d8576b\"], [0.6666666666666666, \"#ed7953\"], [0.7777777777777778, \"#fb9f3a\"], [0.8888888888888888, \"#fdca26\"], [1.0, \"#f0f921\"]], \"type\": \"histogram2dcontour\"}], \"mesh3d\": [{\"colorbar\": {\"outlinewidth\": 0, \"ticks\": \"\"}, \"type\": \"mesh3d\"}], \"parcoords\": [{\"line\": {\"colorbar\": {\"outlinewidth\": 0, \"ticks\": \"\"}}, \"type\": \"parcoords\"}], \"pie\": [{\"automargin\": true, \"type\": \"pie\"}], \"scatter\": [{\"marker\": {\"colorbar\": {\"outlinewidth\": 0, \"ticks\": \"\"}}, \"type\": \"scatter\"}], \"scatter3d\": [{\"line\": {\"colorbar\": {\"outlinewidth\": 0, \"ticks\": \"\"}}, \"marker\": {\"colorbar\": {\"outlinewidth\": 0, \"ticks\": \"\"}}, \"type\": \"scatter3d\"}], \"scattercarpet\": [{\"marker\": {\"colorbar\": {\"outlinewidth\": 0, \"ticks\": \"\"}}, \"type\": \"scattercarpet\"}], \"scattergeo\": [{\"marker\": {\"colorbar\": {\"outlinewidth\": 0, \"ticks\": \"\"}}, \"type\": \"scattergeo\"}], \"scattergl\": [{\"marker\": {\"colorbar\": {\"outlinewidth\": 0, \"ticks\": \"\"}}, \"type\": \"scattergl\"}], \"scattermapbox\": [{\"marker\": {\"colorbar\": {\"outlinewidth\": 0, \"ticks\": \"\"}}, \"type\": \"scattermapbox\"}], \"scatterpolar\": [{\"marker\": {\"colorbar\": {\"outlinewidth\": 0, \"ticks\": \"\"}}, \"type\": \"scatterpolar\"}], \"scatterpolargl\": [{\"marker\": {\"colorbar\": {\"outlinewidth\": 0, \"ticks\": \"\"}}, \"type\": \"scatterpolargl\"}], \"scatterternary\": [{\"marker\": {\"colorbar\": {\"outlinewidth\": 0, \"ticks\": \"\"}}, \"type\": \"scatterternary\"}], \"surface\": [{\"colorbar\": {\"outlinewidth\": 0, \"ticks\": \"\"}, \"colorscale\": [[0.0, \"#0d0887\"], [0.1111111111111111, \"#46039f\"], [0.2222222222222222, \"#7201a8\"], [0.3333333333333333, \"#9c179e\"], [0.4444444444444444, \"#bd3786\"], [0.5555555555555556, \"#d8576b\"], [0.6666666666666666, \"#ed7953\"], [0.7777777777777778, \"#fb9f3a\"], [0.8888888888888888, \"#fdca26\"], [1.0, \"#f0f921\"]], \"type\": \"surface\"}], \"table\": [{\"cells\": {\"fill\": {\"color\": \"#EBF0F8\"}, \"line\": {\"color\": \"white\"}}, \"header\": {\"fill\": {\"color\": \"#C8D4E3\"}, \"line\": {\"color\": \"white\"}}, \"type\": \"table\"}]}, \"layout\": {\"annotationdefaults\": {\"arrowcolor\": \"#2a3f5f\", \"arrowhead\": 0, \"arrowwidth\": 1}, \"coloraxis\": {\"colorbar\": {\"outlinewidth\": 0, \"ticks\": \"\"}}, \"colorscale\": {\"diverging\": [[0, \"#8e0152\"], [0.1, \"#c51b7d\"], [0.2, \"#de77ae\"], [0.3, \"#f1b6da\"], [0.4, \"#fde0ef\"], [0.5, \"#f7f7f7\"], [0.6, \"#e6f5d0\"], [0.7, \"#b8e186\"], [0.8, \"#7fbc41\"], [0.9, \"#4d9221\"], [1, \"#276419\"]], \"sequential\": [[0.0, \"#0d0887\"], [0.1111111111111111, \"#46039f\"], [0.2222222222222222, \"#7201a8\"], [0.3333333333333333, \"#9c179e\"], [0.4444444444444444, \"#bd3786\"], [0.5555555555555556, \"#d8576b\"], [0.6666666666666666, \"#ed7953\"], [0.7777777777777778, \"#fb9f3a\"], [0.8888888888888888, \"#fdca26\"], [1.0, \"#f0f921\"]], \"sequentialminus\": [[0.0, \"#0d0887\"], [0.1111111111111111, \"#46039f\"], [0.2222222222222222, \"#7201a8\"], [0.3333333333333333, \"#9c179e\"], [0.4444444444444444, \"#bd3786\"], [0.5555555555555556, \"#d8576b\"], [0.6666666666666666, \"#ed7953\"], [0.7777777777777778, \"#fb9f3a\"], [0.8888888888888888, \"#fdca26\"], [1.0, \"#f0f921\"]]}, \"colorway\": [\"#636efa\", \"#EF553B\", \"#00cc96\", \"#ab63fa\", \"#FFA15A\", \"#19d3f3\", \"#FF6692\", \"#B6E880\", \"#FF97FF\", \"#FECB52\"], \"font\": {\"color\": \"#2a3f5f\"}, \"geo\": {\"bgcolor\": \"white\", \"lakecolor\": \"white\", \"landcolor\": \"#E5ECF6\", \"showlakes\": true, \"showland\": true, \"subunitcolor\": \"white\"}, \"hoverlabel\": {\"align\": \"left\"}, \"hovermode\": \"closest\", \"mapbox\": {\"style\": \"light\"}, \"paper_bgcolor\": \"white\", \"plot_bgcolor\": \"#E5ECF6\", \"polar\": {\"angularaxis\": {\"gridcolor\": \"white\", \"linecolor\": \"white\", \"ticks\": \"\"}, \"bgcolor\": \"#E5ECF6\", \"radialaxis\": {\"gridcolor\": \"white\", \"linecolor\": \"white\", \"ticks\": \"\"}}, \"scene\": {\"xaxis\": {\"backgroundcolor\": \"#E5ECF6\", \"gridcolor\": \"white\", \"gridwidth\": 2, \"linecolor\": \"white\", \"showbackground\": true, \"ticks\": \"\", \"zerolinecolor\": \"white\"}, \"yaxis\": {\"backgroundcolor\": \"#E5ECF6\", \"gridcolor\": \"white\", \"gridwidth\": 2, \"linecolor\": \"white\", \"showbackground\": true, \"ticks\": \"\", \"zerolinecolor\": \"white\"}, \"zaxis\": {\"backgroundcolor\": \"#E5ECF6\", \"gridcolor\": \"white\", \"gridwidth\": 2, \"linecolor\": \"white\", \"showbackground\": true, \"ticks\": \"\", \"zerolinecolor\": \"white\"}}, \"shapedefaults\": {\"line\": {\"color\": \"#2a3f5f\"}}, \"ternary\": {\"aaxis\": {\"gridcolor\": \"white\", \"linecolor\": \"white\", \"ticks\": \"\"}, \"baxis\": {\"gridcolor\": \"white\", \"linecolor\": \"white\", \"ticks\": \"\"}, \"bgcolor\": \"#E5ECF6\", \"caxis\": {\"gridcolor\": \"white\", \"linecolor\": \"white\", \"ticks\": \"\"}}, \"title\": {\"x\": 0.05}, \"xaxis\": {\"automargin\": true, \"gridcolor\": \"white\", \"linecolor\": \"white\", \"ticks\": \"\", \"title\": {\"standoff\": 15}, \"zerolinecolor\": \"white\", \"zerolinewidth\": 2}, \"yaxis\": {\"automargin\": true, \"gridcolor\": \"white\", \"linecolor\": \"white\", \"ticks\": \"\", \"title\": {\"standoff\": 15}, \"zerolinecolor\": \"white\", \"zerolinewidth\": 2}}}, \"width\": 600},\n",
              "                        {\"responsive\": true}\n",
              "                    ).then(function(){\n",
              "                            \n",
              "var gd = document.getElementById('a632d585-7f76-4cbd-a79f-00369e83908f');\n",
              "var x = new MutationObserver(function (mutations, observer) {{\n",
              "        var display = window.getComputedStyle(gd).display;\n",
              "        if (!display || display === 'none') {{\n",
              "            console.log([gd, 'removed!']);\n",
              "            Plotly.purge(gd);\n",
              "            observer.disconnect();\n",
              "        }}\n",
              "}});\n",
              "\n",
              "// Listen for the removal of the full notebook cells\n",
              "var notebookContainer = gd.closest('#notebook-container');\n",
              "if (notebookContainer) {{\n",
              "    x.observe(notebookContainer, {childList: true});\n",
              "}}\n",
              "\n",
              "// Listen for the clearing of the current output cell\n",
              "var outputEl = gd.closest('.output');\n",
              "if (outputEl) {{\n",
              "    x.observe(outputEl, {childList: true});\n",
              "}}\n",
              "\n",
              "                        })\n",
              "                };\n",
              "                \n",
              "            </script>\n",
              "        </div>\n",
              "</body>\n",
              "</html>"
            ]
          },
          "metadata": {
            "tags": []
          }
        }
      ]
    },
    {
      "cell_type": "code",
      "metadata": {
        "colab": {
          "base_uri": "https://localhost:8080/",
          "height": 195
        },
        "id": "ozwh172GZpax",
        "outputId": "6e0b4415-219d-47ba-f244-3692e7e2af6b"
      },
      "source": [
        "from sklearn import preprocessing\n",
        "\n",
        "df_norm = preprocessing.normalize(df)  # Normalization\n",
        "df = pd.DataFrame(df_norm,columns=['x', 'y', 'z'])\n",
        "df.head()"
      ],
      "execution_count": null,
      "outputs": [
        {
          "output_type": "execute_result",
          "data": {
            "text/html": [
              "<div>\n",
              "<style scoped>\n",
              "    .dataframe tbody tr th:only-of-type {\n",
              "        vertical-align: middle;\n",
              "    }\n",
              "\n",
              "    .dataframe tbody tr th {\n",
              "        vertical-align: top;\n",
              "    }\n",
              "\n",
              "    .dataframe thead th {\n",
              "        text-align: right;\n",
              "    }\n",
              "</style>\n",
              "<table border=\"1\" class=\"dataframe\">\n",
              "  <thead>\n",
              "    <tr style=\"text-align: right;\">\n",
              "      <th></th>\n",
              "      <th>x</th>\n",
              "      <th>y</th>\n",
              "      <th>z</th>\n",
              "    </tr>\n",
              "  </thead>\n",
              "  <tbody>\n",
              "    <tr>\n",
              "      <th>0</th>\n",
              "      <td>0.413925</td>\n",
              "      <td>0.326783</td>\n",
              "      <td>0.849635</td>\n",
              "    </tr>\n",
              "    <tr>\n",
              "      <th>1</th>\n",
              "      <td>0.247025</td>\n",
              "      <td>0.176446</td>\n",
              "      <td>0.952809</td>\n",
              "    </tr>\n",
              "    <tr>\n",
              "      <th>2</th>\n",
              "      <td>0.760286</td>\n",
              "      <td>0.608229</td>\n",
              "      <td>0.228086</td>\n",
              "    </tr>\n",
              "    <tr>\n",
              "      <th>3</th>\n",
              "      <td>0.280697</td>\n",
              "      <td>0.195267</td>\n",
              "      <td>0.939723</td>\n",
              "    </tr>\n",
              "    <tr>\n",
              "      <th>4</th>\n",
              "      <td>0.580683</td>\n",
              "      <td>0.318439</td>\n",
              "      <td>0.749269</td>\n",
              "    </tr>\n",
              "  </tbody>\n",
              "</table>\n",
              "</div>"
            ],
            "text/plain": [
              "          x         y         z\n",
              "0  0.413925  0.326783  0.849635\n",
              "1  0.247025  0.176446  0.952809\n",
              "2  0.760286  0.608229  0.228086\n",
              "3  0.280697  0.195267  0.939723\n",
              "4  0.580683  0.318439  0.749269"
            ]
          },
          "metadata": {
            "tags": []
          },
          "execution_count": 88
        }
      ]
    },
    {
      "cell_type": "markdown",
      "metadata": {
        "id": "PlfaKExaV0BR"
      },
      "source": [
        "After that, you have to run KMeans with only 1 initialization pear each run and visualize the results. The goal is to see the variation between each run."
      ]
    },
    {
      "cell_type": "code",
      "metadata": {
        "id": "cjQ5LwwJV0BR"
      },
      "source": [
        "from sklearn.cluster import KMeans\n",
        "import plotly.graph_objects as go # Plot k-means\n",
        "\n",
        "# K-means plot\n",
        "def plot_kmeans(df): \n",
        "  PLOT = go.Figure()\n",
        "  for C in list(df.cluster.unique()):\n",
        "      \n",
        "      PLOT.add_trace(go.Scatter3d(x = df[df.cluster == C]['x'],\n",
        "                                  y = df[df.cluster == C]['y'],\n",
        "                                  z = df[df.cluster == C]['z'],\n",
        "                                  mode = 'markers', marker_size = 8, marker_line_width = 1,\n",
        "                                  name = 'Cluster ' + str(C)))\n",
        "\n",
        "\n",
        "  PLOT.update_layout(width = 600, height = 600, autosize = True, showlegend = True,\n",
        "                    scene = dict(xaxis=dict(title = 'x', titlefont_color = 'black'),\n",
        "                                  yaxis=dict(title = 'y', titlefont_color = 'black'),\n",
        "                                  zaxis=dict(title = 'z', titlefont_color = 'black')),\n",
        "                    font = dict(family = \"Gilroy\", color  = 'black', size = 12))\n",
        "  return PLOT\n",
        "\n",
        "# K-means clustering\n",
        "def kmeans(df, K,init = 'random', n_init = 100 ,max_iter=800, tol=0.0001):\n",
        "  kmeans = KMeans(K, init, n_init ,max_iter, tol)\n",
        "  kmeans.fit(df) \n",
        "  labels = kmeans.labels_ # Labels (clusters) assigned for each data point \n",
        "  centroids = kmeans.cluster_centers_\n",
        "  df['cluster'] = labels # Assigning the labels to the initial dataset\n",
        "  return centroids, labels"
      ],
      "execution_count": null,
      "outputs": []
    },
    {
      "cell_type": "code",
      "metadata": {
        "colab": {
          "base_uri": "https://localhost:8080/",
          "height": 617
        },
        "id": "asuNV1LyfnWw",
        "outputId": "7ba9155f-c463-45c6-a65b-7af67b823770"
      },
      "source": [
        "# It could be K=4 or K=5\n",
        "kmeans(df, 5,n_init = 1)\n",
        "plot_kmeans(df)"
      ],
      "execution_count": null,
      "outputs": [
        {
          "output_type": "display_data",
          "data": {
            "text/html": [
              "<html>\n",
              "<head><meta charset=\"utf-8\" /></head>\n",
              "<body>\n",
              "    <div>\n",
              "            <script src=\"https://cdnjs.cloudflare.com/ajax/libs/mathjax/2.7.5/MathJax.js?config=TeX-AMS-MML_SVG\"></script><script type=\"text/javascript\">if (window.MathJax) {MathJax.Hub.Config({SVG: {font: \"STIX-Web\"}});}</script>\n",
              "                <script type=\"text/javascript\">window.PlotlyConfig = {MathJaxConfig: 'local'};</script>\n",
              "        <script src=\"https://cdn.plot.ly/plotly-latest.min.js\"></script>    \n",
              "            <div id=\"66abb159-de41-4fee-b187-bcabe479c6c7\" class=\"plotly-graph-div\" style=\"height:600px; width:600px;\"></div>\n",
              "            <script type=\"text/javascript\">\n",
              "                \n",
              "                    window.PLOTLYENV=window.PLOTLYENV || {};\n",
              "                    \n",
              "                if (document.getElementById(\"66abb159-de41-4fee-b187-bcabe479c6c7\")) {\n",
              "                    Plotly.newPlot(\n",
              "                        '66abb159-de41-4fee-b187-bcabe479c6c7',\n",
              "                        [{\"marker\": {\"line\": {\"width\": 1}, \"size\": 8}, \"mode\": \"markers\", \"name\": \"Cluster 4\", \"type\": \"scatter3d\", \"x\": [0.4139246909027841, 0.24702463563420493, 0.28069660994298146, 0.5806832031806503, 0.27185366079467044, 0.233662144408083, 0.3736885524237636, 0.3279921004388584, 0.28882142091412805, 0.2606335062140006, 0.27743013758273716, 0.3284105591080858, 0.3093737190020968, 0.37279115676935987, 0.317380885407937, 0.462371155582649, 0.24326709409463318, 0.25713214798860795, 0.18111731788793334, 0.2334630710877745, 0.34909691014722527, 0.23258958968575236, 0.2343946720092216], \"y\": [0.3267826507127243, 0.17644616831014637, 0.19526720691685664, 0.318439175937776, 0.21006873788679079, 0.18286602605849975, 0.23666941653505028, 0.1780528545239517, 0.24068451742844002, 0.23693955110363693, 0.291301644461874, 0.21581265312817066, 0.29699877024201293, 0.3006380296527096, 0.3064367169455943, 0.3698969244661192, 0.3067280751627984, 0.36733163998372564, 0.3320484161278778, 0.3668705402807885, 0.39564316483352197, 0.4302907409186419, 0.3711248973479342], \"z\": [0.8496348918530832, 0.9528093088747904, 0.9397234332873726, 0.7492686492653552, 0.9391308281997706, 0.9549670249721653, 0.8968525258170326, 0.9277490840984852, 0.9266353920994941, 0.9359112268593659, 0.9155194540230326, 0.9195495655026402, 0.9033712594861226, 0.877863046585912, 0.8974218139120977, 0.8058468711583312, 0.9201842254883951, 0.893840323960399, 0.9257107358716593, 0.9005004170528446, 0.8494691480249148, 0.8722109613215714, 0.8985129093686828]}, {\"marker\": {\"line\": {\"width\": 1}, \"size\": 8}, \"mode\": \"markers\", \"name\": \"Cluster 3\", \"type\": \"scatter3d\", \"x\": [0.7602859212697055, 0.8791306287808246, 0.9576804340193746, 0.9431943262440974, 0.9183240863665194, 0.8404750732848711, 0.6509445549041193, 0.81469083618666, 0.6362584783630235, 0.874644850970378, 0.8651358037512019, 0.7268471705164464, 0.6857926664981863, 0.8928413259386064, 0.8471600336634683, 0.8070833994534634, 0.7414202301119089, 0.6228224562684984, 0.7828484879907511, 0.6707548930405096, 0.7142826786408689, 0.5923488777590923, 0.591220278715784, 0.6243473636199055, 0.6262734124948878, 0.6204113660403396, 0.6079619517948334, 0.7349997742203309, 0.6316241073014079, 0.694739889871316, 0.6909787305274077, 0.5820939546722681, 0.6687762430634061, 0.7077192601070826, 0.6888616057193236, 0.5886970077451945, 0.6507530949879499, 0.6243229333945758, 0.6359915430678484, 0.5823026718453099, 0.6087992693064014, 0.7028917346696859, 0.5510661829601742, 0.5604173549931653, 0.5602336986056181, 0.5597170785495563, 0.6445570018712665, 0.5267098242985818, 0.5248858099574012, 0.5438766144350775, 0.529954301413009, 0.616419429846648, 0.6343515173585208, 0.569178358688694, 0.6654525111737621, 0.640173558177258, 0.6226442113364656, 0.6286498526682265, 0.5394183390794041], \"y\": [0.6082287370157644, 0.45212432337299546, 0.28431137884950186, 0.2674730178901172, 0.31666347805742046, 0.4543108504242547, 0.39056673294247163, 0.36034402369794577, 0.43629152802035903, 0.4753504624839011, 0.448588935278401, 0.45226046165467776, 0.4971996832111851, 0.4464206629693032, 0.5274770020923482, 0.5435459628972305, 0.600197329138212, 0.6401230800537345, 0.4576652699022853, 0.5449883505954141, 0.5685107034080386, 0.47387910220727386, 0.5067602388992434, 0.45503282433315145, 0.5385951347456035, 0.5676103987177575, 0.5245161937053464, 0.46869550819847183, 0.5482020553936748, 0.45654335620115044, 0.484716422907286, 0.5066373309184555, 0.5095438042387856, 0.499566536546176, 0.48220312400352655, 0.61374794424499, 0.5422942458232916, 0.5202691111621465, 0.5820939546722681, 0.6417213118295253, 0.5767572025008013, 0.5665097563009409, 0.6469037799967262, 0.630469524367311, 0.580605833100368, 0.6492718111174852, 0.5592479869177165, 0.6583872803732274, 0.6700669914349802, 0.6911765308445776, 0.6705544221960523, 0.5704179798580922, 0.605517357478588, 0.664041418470143, 0.616522179469809, 0.6110747600782916, 0.6034859279107283, 0.6486069908481702, 0.7086476219278445], \"z\": [0.22808577638091165, 0.1507081077909985, 0.04489127034465819, 0.1970853816032442, 0.23749760854306534, 0.29530205277576554, 0.6509445549041193, 0.4543468124887142, 0.6362584783630235, 0.09507009249678022, 0.2242944676392005, 0.5168690990339174, 0.5314893165360943, 0.05952275506257376, 0.06393660631422403, 0.23059525698670383, 0.300098664569106, 0.4498162184161378, 0.4215338012257891, 0.5030661697803822, 0.4081615306519251, 0.6515837655350015, 0.6274174386371585, 0.6349295223253276, 0.563646071245399, 0.5412099150564665, 0.5960411292106209, 0.4899998494802206, 0.5482020553936748, 0.5557919118970527, 0.5362819998123164, 0.6359915430678484, 0.5413902920037097, 0.499566536546176, 0.5412484044937543, 0.5260696664957057, 0.5314483609068257, 0.5827014045016041, 0.5066373309184555, 0.49911657586740854, 0.5447151356952012, 0.43012777793219586, 0.5271067837010361, 0.53706663186845, 0.5907919003477428, 0.5149397122655918, 0.5213328691605832, 0.5376829456381357, 0.5248858099574012, 0.47589203763069277, 0.5191389075066212, 0.5428171098649587, 0.4805693313322127, 0.48485563888296157, 0.42080085265399664, 0.4655807695834603, 0.49811536906917253, 0.42907847086878953, 0.45480369765518375]}, {\"marker\": {\"line\": {\"width\": 1}, \"size\": 8}, \"mode\": \"markers\", \"name\": \"Cluster 0\", \"type\": \"scatter3d\", \"x\": [0.39360517815797497, 0.3018450067480046, 0.40080351204379094, 0.4472135954999579, 0.4713772711872174, 0.41080252783529914, 0.4096717546518834, 0.3658684374898035, 0.2561493793547083, 0.2302965555960349, 0.5271809323730215, 0.24235797938683576, 0.43004382554678733, 0.3222920373586763, 0.5111656508223583, 0.4843594796964828, 0.29330913524973357, 0.4421894195198187, 0.25837471468394674, 0.2676169317078552, 0.377312247375704, 0.2993255063983847, 0.5059079592516773, 0.4873993516923039, 0.49415414399847485, 0.40561610125071507, 0.32317606024211737, 0.28549913139769445, 0.3195809844425358, 0.3453118840627692, 0.3532776814491115, 0.29310571493700416, 0.24585101090503989, 0.2960679368817967, 0.3210468782323194, 0.25872157716507355, 0.266954167981901, 0.22052029913868892, 0.28703303578758654, 0.2745150993393978, 0.31479263578458255, 0.32945225045174753, 0.22243515732164576, 0.262431940540739, 0.2703580559876548, 0.2453489770416717, 0.24377729587331026, 0.30268135807189567, 0.24938530941662734, 0.2734738154763058, 0.23687491569557453, 0.2610632111626295, 0.2115510666578582], \"y\": [0.4951807080051943, 0.49049813596550745, 0.5937829808056162, 0.6168463386206317, 0.6082287370157644, 0.5228395808812898, 0.5682543693558382, 0.6233314120196652, 0.6201511289640306, 0.6141241482560931, 0.5884810407884892, 0.6122727900299009, 0.645065738320181, 0.6693757698987892, 0.61339878098683, 0.6538852975902518, 0.6886388392819832, 0.6283744382650055, 0.6643921234730059, 0.6933711412430794, 0.6436503043467892, 0.7137762075653789, 0.6401284382368162, 0.6465501604081583, 0.6621665529579563, 0.6996877746574836, 0.5717730296591308, 0.6446754579947939, 0.5672562473855011, 0.645187993906753, 0.6431465482791517, 0.6807616604988483, 0.6188663377954452, 0.6754049810115988, 0.6787848282626182, 0.6063786964806411, 0.634016148957015, 0.6064308226313945, 0.6906732423638801, 0.6297699337786185, 0.6295852715691651, 0.6762440930325344, 0.6425904544847545, 0.6823230454059214, 0.7029309455679024, 0.6683644546997264, 0.6369664827657462, 0.7146643176697537, 0.6499132306009076, 0.660895054067739, 0.6948330860403519, 0.6936822468035584, 0.6981185199709321], \"z\": [0.7745134150850476, 0.8174968932758457, 0.6976950024465991, 0.6476886555516632, 0.6386401738665526, 0.7469136869732711, 0.7136217661677968, 0.6910848263696289, 0.7414850455004713, 0.7548609322314478, 0.6130010841546761, 0.7525853044117531, 0.6316268687718439, 0.6693757698987892, 0.6020395443018887, 0.5812313756357793, 0.6631336970863542, 0.6400110019365797, 0.7013027969992841, 0.669042329269638, 0.6658451424277129, 0.6331885712273522, 0.5781805248590598, 0.5868686071397129, 0.5633357241582613, 0.5881433468135369, 0.754077473898274, 0.7091430037942733, 0.7590048380510225, 0.6815366132817813, 0.6793801566329067, 0.6713066374363644, 0.7460306537808107, 0.6754049810115988, 0.6604392923636285, 0.751909583635995, 0.7257816442007934, 0.7639453220161723, 0.6637638952587939, 0.7266576158984058, 0.7103013320267503, 0.6589045009034951, 0.733212185245425, 0.6823230454059214, 0.6578712695699599, 0.7022056929123707, 0.7313318876199307, 0.6305861626497827, 0.7179274058963514, 0.6988775284394482, 0.6790414249939803, 0.6713054001324759, 0.6840151155270748]}, {\"marker\": {\"line\": {\"width\": 1}, \"size\": 8}, \"mode\": \"markers\", \"name\": \"Cluster 1\", \"type\": \"scatter3d\", \"x\": [0.24302144758916638, 0.48507125007266594, 0.40037552816907873, 0.2893456933022473, 0.3267271374493981, 0.24765072198184565, 0.295601496049104, 0.2700085412216009, 0.22320526577729943, 0.4446345583408636, 0.23435368392848113, 0.21743634501273407, 0.22571115699066566, 0.295404106785876, 0.43782404888617954, 0.2904651716625649, 0.29955698325493646, 0.30996520993903337, 0.2855095133549977, 0.23682934468380903, 0.2347027612250088, 0.23965499535472734, 0.21502729242839574, 0.22411477615561334, 0.2602825277460424, 0.24992374096152994, 0.25336711786816823, 0.23669188723573936, 0.21392362618594385, 0.18408719125181047], \"y\": [0.7965703004311565, 0.7276068751089989, 0.7507041153170226, 0.7233642332556182, 0.7260603054431068, 0.7553347020446293, 0.7968388154367152, 0.7971680740828218, 0.740101670735256, 0.7488582035214544, 0.7894018827064628, 0.7851868014348731, 0.7721697475996457, 0.7330398205427292, 0.7719529282993166, 0.8840244354947628, 0.862724111774217, 0.8413341412630906, 0.7762289894339, 0.7358626066961209, 0.764957147696325, 0.7264542046690172, 0.7266439537235443, 0.808414013989891, 0.7446972321622879, 0.8044420412199245, 0.753433797871132, 0.8115150419511064, 0.8423242781071539, 0.8406648400499345], \"z\": [0.5535488528419901, 0.48507125007266594, 0.5254928807219158, 0.6269156688215358, 0.6050502545359224, 0.6067442688555218, 0.5269417973049245, 0.5400170824432018, 0.6343728606302194, 0.49143819606095446, 0.5673826031952701, 0.5798302533672909, 0.5939767289228044, 0.6126899992595946, 0.46086741988018903, 0.36623869470497317, 0.4073974972267136, 0.4428074427700477, 0.5620968544176517, 0.6343643161173457, 0.5997959453528002, 0.6440728000158298, 0.652496611506856, 0.5442787420922038, 0.6145559682892667, 0.538898066448299, 0.6067475717369293, 0.5342474026178117, 0.4946983855549952, 0.5093078957966756]}, {\"marker\": {\"line\": {\"width\": 1}, \"size\": 8}, \"mode\": \"markers\", \"name\": \"Cluster 2\", \"type\": \"scatter3d\", \"x\": [0.477336004426002, 0.6346287682519601, 0.5489290922099601, 0.26366049730292496, 0.5144879393721155, 0.2465869429454735, 0.6042327382166589, 0.30546920671260264, 0.49171966140998236, 0.3868635248329748, 0.4742198396700182, 0.4795088540294502, 0.5083235136002332, 0.4285554573026708, 0.39955782769405523, 0.5438687769648606, 0.22795805957520232, 0.4902667678943446, 0.42955654860784376, 0.3675383350990133, 0.41393586457153253, 0.3802133431114401, 0.5046641270528651, 0.544823145408073, 0.5314237136169695, 0.34058374681589454, 0.42088626617909897, 0.3595523035048248, 0.4614710442927705, 0.3655617924777757, 0.3066424757577331, 0.2796811039319006, 0.36191341818872363, 0.3292046512962847, 0.2256152078236138], \"y\": [0.7881594491685149, 0.7637058058625282, 0.8292333095086631, 0.9623608151556762, 0.8535822630491916, 0.9603912514718442, 0.795043076600867, 0.940845156674816, 0.7888002901785134, 0.8875104393227069, 0.8602127324246841, 0.8500384230522072, 0.8436007246982593, 0.9034412343137384, 0.9166326635334209, 0.7672434532182856, 0.9718212013469151, 0.8334535054203858, 0.8795681709589181, 0.8882176431559489, 0.9003105054430833, 0.9188489125193136, 0.8540469842433102, 0.8266282206191453, 0.8376678875657315, 0.8928817146254533, 0.8966707409902542, 0.8681872694384793, 0.8631217680290708, 0.9183625518344122, 0.928946323619015, 0.9576959013425687, 0.9240342592052518, 0.9217730236295971, 0.9659151084948466], \"z\": [0.38852930592814117, 0.11832061780968747, 0.10511408148701365, 0.06591512432573124, 0.08185035399101838, 0.12978260155024923, 0.053002871773391136, 0.14662521922204927, 0.36878974605748677, 0.25032345724486604, 0.18748226219512346, 0.21795857001338648, 0.17304630250220704, 0.01158257992709921, 0.011751700814531037, 0.3399179856030379, 0.05998896304610587, 0.2549387193050592, 0.20455073743230656, 0.27565375132425995, 0.13452915598574808, 0.10561481753095558, 0.12616603176321628, 0.14090253760553612, 0.12610054221419614, 0.294558916165098, 0.13724552158014097, 0.34201316674849186, 0.20509824190789802, 0.15157440175907774, 0.20743461595376064, 0.0678014797410668, 0.12320456789403358, 0.20483844969546602, 0.12690855440078277]}],\n",
              "                        {\"autosize\": true, \"font\": {\"color\": \"black\", \"family\": \"Gilroy\", \"size\": 12}, \"height\": 600, \"scene\": {\"xaxis\": {\"title\": {\"font\": {\"color\": \"black\"}, \"text\": \"x\"}}, \"yaxis\": {\"title\": {\"font\": {\"color\": \"black\"}, \"text\": \"y\"}}, \"zaxis\": {\"title\": {\"font\": {\"color\": \"black\"}, \"text\": \"z\"}}}, \"showlegend\": true, \"template\": {\"data\": {\"bar\": [{\"error_x\": {\"color\": \"#2a3f5f\"}, \"error_y\": {\"color\": \"#2a3f5f\"}, \"marker\": {\"line\": {\"color\": \"#E5ECF6\", \"width\": 0.5}}, \"type\": \"bar\"}], \"barpolar\": [{\"marker\": {\"line\": {\"color\": \"#E5ECF6\", \"width\": 0.5}}, \"type\": \"barpolar\"}], \"carpet\": [{\"aaxis\": {\"endlinecolor\": \"#2a3f5f\", \"gridcolor\": \"white\", \"linecolor\": \"white\", \"minorgridcolor\": \"white\", \"startlinecolor\": \"#2a3f5f\"}, \"baxis\": {\"endlinecolor\": \"#2a3f5f\", \"gridcolor\": \"white\", \"linecolor\": \"white\", \"minorgridcolor\": \"white\", \"startlinecolor\": \"#2a3f5f\"}, \"type\": \"carpet\"}], \"choropleth\": [{\"colorbar\": {\"outlinewidth\": 0, \"ticks\": \"\"}, \"type\": \"choropleth\"}], \"contour\": [{\"colorbar\": {\"outlinewidth\": 0, \"ticks\": \"\"}, \"colorscale\": [[0.0, \"#0d0887\"], [0.1111111111111111, \"#46039f\"], [0.2222222222222222, \"#7201a8\"], [0.3333333333333333, \"#9c179e\"], [0.4444444444444444, \"#bd3786\"], [0.5555555555555556, \"#d8576b\"], [0.6666666666666666, \"#ed7953\"], [0.7777777777777778, \"#fb9f3a\"], [0.8888888888888888, \"#fdca26\"], [1.0, \"#f0f921\"]], \"type\": \"contour\"}], \"contourcarpet\": [{\"colorbar\": {\"outlinewidth\": 0, \"ticks\": \"\"}, \"type\": \"contourcarpet\"}], \"heatmap\": [{\"colorbar\": {\"outlinewidth\": 0, \"ticks\": \"\"}, \"colorscale\": [[0.0, \"#0d0887\"], [0.1111111111111111, \"#46039f\"], [0.2222222222222222, \"#7201a8\"], [0.3333333333333333, \"#9c179e\"], [0.4444444444444444, \"#bd3786\"], [0.5555555555555556, \"#d8576b\"], [0.6666666666666666, \"#ed7953\"], [0.7777777777777778, \"#fb9f3a\"], [0.8888888888888888, \"#fdca26\"], [1.0, \"#f0f921\"]], \"type\": \"heatmap\"}], \"heatmapgl\": [{\"colorbar\": {\"outlinewidth\": 0, \"ticks\": \"\"}, \"colorscale\": [[0.0, \"#0d0887\"], [0.1111111111111111, \"#46039f\"], [0.2222222222222222, \"#7201a8\"], [0.3333333333333333, \"#9c179e\"], [0.4444444444444444, \"#bd3786\"], [0.5555555555555556, \"#d8576b\"], [0.6666666666666666, \"#ed7953\"], [0.7777777777777778, \"#fb9f3a\"], [0.8888888888888888, \"#fdca26\"], [1.0, \"#f0f921\"]], \"type\": \"heatmapgl\"}], \"histogram\": [{\"marker\": {\"colorbar\": {\"outlinewidth\": 0, \"ticks\": \"\"}}, \"type\": \"histogram\"}], \"histogram2d\": [{\"colorbar\": {\"outlinewidth\": 0, \"ticks\": \"\"}, \"colorscale\": [[0.0, \"#0d0887\"], [0.1111111111111111, \"#46039f\"], [0.2222222222222222, \"#7201a8\"], [0.3333333333333333, \"#9c179e\"], [0.4444444444444444, \"#bd3786\"], [0.5555555555555556, \"#d8576b\"], [0.6666666666666666, \"#ed7953\"], [0.7777777777777778, \"#fb9f3a\"], [0.8888888888888888, \"#fdca26\"], [1.0, \"#f0f921\"]], \"type\": \"histogram2d\"}], \"histogram2dcontour\": [{\"colorbar\": {\"outlinewidth\": 0, \"ticks\": \"\"}, \"colorscale\": [[0.0, \"#0d0887\"], [0.1111111111111111, \"#46039f\"], [0.2222222222222222, \"#7201a8\"], [0.3333333333333333, \"#9c179e\"], [0.4444444444444444, \"#bd3786\"], [0.5555555555555556, \"#d8576b\"], [0.6666666666666666, \"#ed7953\"], [0.7777777777777778, \"#fb9f3a\"], [0.8888888888888888, \"#fdca26\"], [1.0, \"#f0f921\"]], \"type\": \"histogram2dcontour\"}], \"mesh3d\": [{\"colorbar\": {\"outlinewidth\": 0, \"ticks\": \"\"}, \"type\": \"mesh3d\"}], \"parcoords\": [{\"line\": {\"colorbar\": {\"outlinewidth\": 0, \"ticks\": \"\"}}, \"type\": \"parcoords\"}], \"pie\": [{\"automargin\": true, \"type\": \"pie\"}], \"scatter\": [{\"marker\": {\"colorbar\": {\"outlinewidth\": 0, \"ticks\": \"\"}}, \"type\": \"scatter\"}], \"scatter3d\": [{\"line\": {\"colorbar\": {\"outlinewidth\": 0, \"ticks\": \"\"}}, \"marker\": {\"colorbar\": {\"outlinewidth\": 0, \"ticks\": \"\"}}, \"type\": \"scatter3d\"}], \"scattercarpet\": [{\"marker\": {\"colorbar\": {\"outlinewidth\": 0, \"ticks\": \"\"}}, \"type\": \"scattercarpet\"}], \"scattergeo\": [{\"marker\": {\"colorbar\": {\"outlinewidth\": 0, \"ticks\": \"\"}}, \"type\": \"scattergeo\"}], \"scattergl\": [{\"marker\": {\"colorbar\": {\"outlinewidth\": 0, \"ticks\": \"\"}}, \"type\": \"scattergl\"}], \"scattermapbox\": [{\"marker\": {\"colorbar\": {\"outlinewidth\": 0, \"ticks\": \"\"}}, \"type\": \"scattermapbox\"}], \"scatterpolar\": [{\"marker\": {\"colorbar\": {\"outlinewidth\": 0, \"ticks\": \"\"}}, \"type\": \"scatterpolar\"}], \"scatterpolargl\": [{\"marker\": {\"colorbar\": {\"outlinewidth\": 0, \"ticks\": \"\"}}, \"type\": \"scatterpolargl\"}], \"scatterternary\": [{\"marker\": {\"colorbar\": {\"outlinewidth\": 0, \"ticks\": \"\"}}, \"type\": \"scatterternary\"}], \"surface\": [{\"colorbar\": {\"outlinewidth\": 0, \"ticks\": \"\"}, \"colorscale\": [[0.0, \"#0d0887\"], [0.1111111111111111, \"#46039f\"], [0.2222222222222222, \"#7201a8\"], [0.3333333333333333, \"#9c179e\"], [0.4444444444444444, \"#bd3786\"], [0.5555555555555556, \"#d8576b\"], [0.6666666666666666, \"#ed7953\"], [0.7777777777777778, \"#fb9f3a\"], [0.8888888888888888, \"#fdca26\"], [1.0, \"#f0f921\"]], \"type\": \"surface\"}], \"table\": [{\"cells\": {\"fill\": {\"color\": \"#EBF0F8\"}, \"line\": {\"color\": \"white\"}}, \"header\": {\"fill\": {\"color\": \"#C8D4E3\"}, \"line\": {\"color\": \"white\"}}, \"type\": \"table\"}]}, \"layout\": {\"annotationdefaults\": {\"arrowcolor\": \"#2a3f5f\", \"arrowhead\": 0, \"arrowwidth\": 1}, \"coloraxis\": {\"colorbar\": {\"outlinewidth\": 0, \"ticks\": \"\"}}, \"colorscale\": {\"diverging\": [[0, \"#8e0152\"], [0.1, \"#c51b7d\"], [0.2, \"#de77ae\"], [0.3, \"#f1b6da\"], [0.4, \"#fde0ef\"], [0.5, \"#f7f7f7\"], [0.6, \"#e6f5d0\"], [0.7, \"#b8e186\"], [0.8, \"#7fbc41\"], [0.9, \"#4d9221\"], [1, \"#276419\"]], \"sequential\": [[0.0, \"#0d0887\"], [0.1111111111111111, \"#46039f\"], [0.2222222222222222, \"#7201a8\"], [0.3333333333333333, \"#9c179e\"], [0.4444444444444444, \"#bd3786\"], [0.5555555555555556, \"#d8576b\"], [0.6666666666666666, \"#ed7953\"], [0.7777777777777778, \"#fb9f3a\"], [0.8888888888888888, \"#fdca26\"], [1.0, \"#f0f921\"]], \"sequentialminus\": [[0.0, \"#0d0887\"], [0.1111111111111111, \"#46039f\"], [0.2222222222222222, \"#7201a8\"], [0.3333333333333333, \"#9c179e\"], [0.4444444444444444, \"#bd3786\"], [0.5555555555555556, \"#d8576b\"], [0.6666666666666666, \"#ed7953\"], [0.7777777777777778, \"#fb9f3a\"], [0.8888888888888888, \"#fdca26\"], [1.0, \"#f0f921\"]]}, \"colorway\": [\"#636efa\", \"#EF553B\", \"#00cc96\", \"#ab63fa\", \"#FFA15A\", \"#19d3f3\", \"#FF6692\", \"#B6E880\", \"#FF97FF\", \"#FECB52\"], \"font\": {\"color\": \"#2a3f5f\"}, \"geo\": {\"bgcolor\": \"white\", \"lakecolor\": \"white\", \"landcolor\": \"#E5ECF6\", \"showlakes\": true, \"showland\": true, \"subunitcolor\": \"white\"}, \"hoverlabel\": {\"align\": \"left\"}, \"hovermode\": \"closest\", \"mapbox\": {\"style\": \"light\"}, \"paper_bgcolor\": \"white\", \"plot_bgcolor\": \"#E5ECF6\", \"polar\": {\"angularaxis\": {\"gridcolor\": \"white\", \"linecolor\": \"white\", \"ticks\": \"\"}, \"bgcolor\": \"#E5ECF6\", \"radialaxis\": {\"gridcolor\": \"white\", \"linecolor\": \"white\", \"ticks\": \"\"}}, \"scene\": {\"xaxis\": {\"backgroundcolor\": \"#E5ECF6\", \"gridcolor\": \"white\", \"gridwidth\": 2, \"linecolor\": \"white\", \"showbackground\": true, \"ticks\": \"\", \"zerolinecolor\": \"white\"}, \"yaxis\": {\"backgroundcolor\": \"#E5ECF6\", \"gridcolor\": \"white\", \"gridwidth\": 2, \"linecolor\": \"white\", \"showbackground\": true, \"ticks\": \"\", \"zerolinecolor\": \"white\"}, \"zaxis\": {\"backgroundcolor\": \"#E5ECF6\", \"gridcolor\": \"white\", \"gridwidth\": 2, \"linecolor\": \"white\", \"showbackground\": true, \"ticks\": \"\", \"zerolinecolor\": \"white\"}}, \"shapedefaults\": {\"line\": {\"color\": \"#2a3f5f\"}}, \"ternary\": {\"aaxis\": {\"gridcolor\": \"white\", \"linecolor\": \"white\", \"ticks\": \"\"}, \"baxis\": {\"gridcolor\": \"white\", \"linecolor\": \"white\", \"ticks\": \"\"}, \"bgcolor\": \"#E5ECF6\", \"caxis\": {\"gridcolor\": \"white\", \"linecolor\": \"white\", \"ticks\": \"\"}}, \"title\": {\"x\": 0.05}, \"xaxis\": {\"automargin\": true, \"gridcolor\": \"white\", \"linecolor\": \"white\", \"ticks\": \"\", \"title\": {\"standoff\": 15}, \"zerolinecolor\": \"white\", \"zerolinewidth\": 2}, \"yaxis\": {\"automargin\": true, \"gridcolor\": \"white\", \"linecolor\": \"white\", \"ticks\": \"\", \"title\": {\"standoff\": 15}, \"zerolinecolor\": \"white\", \"zerolinewidth\": 2}}}, \"width\": 600},\n",
              "                        {\"responsive\": true}\n",
              "                    ).then(function(){\n",
              "                            \n",
              "var gd = document.getElementById('66abb159-de41-4fee-b187-bcabe479c6c7');\n",
              "var x = new MutationObserver(function (mutations, observer) {{\n",
              "        var display = window.getComputedStyle(gd).display;\n",
              "        if (!display || display === 'none') {{\n",
              "            console.log([gd, 'removed!']);\n",
              "            Plotly.purge(gd);\n",
              "            observer.disconnect();\n",
              "        }}\n",
              "}});\n",
              "\n",
              "// Listen for the removal of the full notebook cells\n",
              "var notebookContainer = gd.closest('#notebook-container');\n",
              "if (notebookContainer) {{\n",
              "    x.observe(notebookContainer, {childList: true});\n",
              "}}\n",
              "\n",
              "// Listen for the clearing of the current output cell\n",
              "var outputEl = gd.closest('.output');\n",
              "if (outputEl) {{\n",
              "    x.observe(outputEl, {childList: true});\n",
              "}}\n",
              "\n",
              "                        })\n",
              "                };\n",
              "                \n",
              "            </script>\n",
              "        </div>\n",
              "</body>\n",
              "</html>"
            ]
          },
          "metadata": {
            "tags": []
          }
        }
      ]
    },
    {
      "cell_type": "code",
      "metadata": {
        "colab": {
          "base_uri": "https://localhost:8080/",
          "height": 617
        },
        "id": "TkoydyfkfnUI",
        "outputId": "6d5f5af8-302e-4329-c330-319cd58d525a"
      },
      "source": [
        "# It could be K=4 or K=5\n",
        "kmeans(df, 5,n_init = 1)\n",
        "plot_kmeans(df)"
      ],
      "execution_count": null,
      "outputs": [
        {
          "output_type": "display_data",
          "data": {
            "text/html": [
              "<html>\n",
              "<head><meta charset=\"utf-8\" /></head>\n",
              "<body>\n",
              "    <div>\n",
              "            <script src=\"https://cdnjs.cloudflare.com/ajax/libs/mathjax/2.7.5/MathJax.js?config=TeX-AMS-MML_SVG\"></script><script type=\"text/javascript\">if (window.MathJax) {MathJax.Hub.Config({SVG: {font: \"STIX-Web\"}});}</script>\n",
              "                <script type=\"text/javascript\">window.PlotlyConfig = {MathJaxConfig: 'local'};</script>\n",
              "        <script src=\"https://cdn.plot.ly/plotly-latest.min.js\"></script>    \n",
              "            <div id=\"f85ff6d6-ebbb-4802-ac20-bd9d98bced0f\" class=\"plotly-graph-div\" style=\"height:600px; width:600px;\"></div>\n",
              "            <script type=\"text/javascript\">\n",
              "                \n",
              "                    window.PLOTLYENV=window.PLOTLYENV || {};\n",
              "                    \n",
              "                if (document.getElementById(\"f85ff6d6-ebbb-4802-ac20-bd9d98bced0f\")) {\n",
              "                    Plotly.newPlot(\n",
              "                        'f85ff6d6-ebbb-4802-ac20-bd9d98bced0f',\n",
              "                        [{\"marker\": {\"line\": {\"width\": 1}, \"size\": 8}, \"mode\": \"markers\", \"name\": \"Cluster 4\", \"type\": \"scatter3d\", \"x\": [0.4139246909027841, 0.24702463563420493, 0.7602859212697055, 0.28069660994298146, 0.5806832031806503, 0.27185366079467044, 0.8791306287808246, 0.233662144408083, 0.9576804340193746, 0.3736885524237636, 0.9431943262440974, 0.3279921004388584, 0.9183240863665194, 0.28882142091412805, 0.8404750732848711, 0.2606335062140006, 0.6509445549041193, 0.27743013758273716, 0.81469083618666, 0.3284105591080858, 0.6362584783630235, 0.3093737190020968, 0.874644850970378, 0.37279115676935987, 0.8651358037512019, 0.317380885407937, 0.7268471705164464, 0.462371155582649, 0.6857926664981863, 0.24326709409463318, 0.8928413259386064, 0.25713214798860795, 0.8471600336634683, 0.18111731788793334, 0.8070833994534634, 0.2334630710877745, 0.7414202301119089, 0.34909691014722527, 0.6228224562684984, 0.23258958968575236, 0.7828484879907511, 0.2343946720092216, 0.6707548930405096, 0.7142826786408689, 0.5923488777590923, 0.591220278715784, 0.6243473636199055, 0.6262734124948878, 0.6204113660403396, 0.6079619517948334, 0.7349997742203309, 0.6316241073014079, 0.694739889871316, 0.6909787305274077, 0.5820939546722681, 0.6687762430634061, 0.7077192601070826, 0.6888616057193236, 0.5886970077451945, 0.6507530949879499, 0.6243229333945758, 0.6359915430678484, 0.5823026718453099, 0.6087992693064014, 0.7028917346696859, 0.5510661829601742, 0.5604173549931653, 0.5602336986056181, 0.5597170785495563, 0.6445570018712665, 0.5267098242985818, 0.5248858099574012, 0.5438766144350775, 0.529954301413009, 0.616419429846648, 0.6343515173585208, 0.569178358688694, 0.6654525111737621, 0.640173558177258, 0.6226442113364656, 0.6286498526682265, 0.5394183390794041], \"y\": [0.3267826507127243, 0.17644616831014637, 0.6082287370157644, 0.19526720691685664, 0.318439175937776, 0.21006873788679079, 0.45212432337299546, 0.18286602605849975, 0.28431137884950186, 0.23666941653505028, 0.2674730178901172, 0.1780528545239517, 0.31666347805742046, 0.24068451742844002, 0.4543108504242547, 0.23693955110363693, 0.39056673294247163, 0.291301644461874, 0.36034402369794577, 0.21581265312817066, 0.43629152802035903, 0.29699877024201293, 0.4753504624839011, 0.3006380296527096, 0.448588935278401, 0.3064367169455943, 0.45226046165467776, 0.3698969244661192, 0.4971996832111851, 0.3067280751627984, 0.4464206629693032, 0.36733163998372564, 0.5274770020923482, 0.3320484161278778, 0.5435459628972305, 0.3668705402807885, 0.600197329138212, 0.39564316483352197, 0.6401230800537345, 0.4302907409186419, 0.4576652699022853, 0.3711248973479342, 0.5449883505954141, 0.5685107034080386, 0.47387910220727386, 0.5067602388992434, 0.45503282433315145, 0.5385951347456035, 0.5676103987177575, 0.5245161937053464, 0.46869550819847183, 0.5482020553936748, 0.45654335620115044, 0.484716422907286, 0.5066373309184555, 0.5095438042387856, 0.499566536546176, 0.48220312400352655, 0.61374794424499, 0.5422942458232916, 0.5202691111621465, 0.5820939546722681, 0.6417213118295253, 0.5767572025008013, 0.5665097563009409, 0.6469037799967262, 0.630469524367311, 0.580605833100368, 0.6492718111174852, 0.5592479869177165, 0.6583872803732274, 0.6700669914349802, 0.6911765308445776, 0.6705544221960523, 0.5704179798580922, 0.605517357478588, 0.664041418470143, 0.616522179469809, 0.6110747600782916, 0.6034859279107283, 0.6486069908481702, 0.7086476219278445], \"z\": [0.8496348918530832, 0.9528093088747904, 0.22808577638091165, 0.9397234332873726, 0.7492686492653552, 0.9391308281997706, 0.1507081077909985, 0.9549670249721653, 0.04489127034465819, 0.8968525258170326, 0.1970853816032442, 0.9277490840984852, 0.23749760854306534, 0.9266353920994941, 0.29530205277576554, 0.9359112268593659, 0.6509445549041193, 0.9155194540230326, 0.4543468124887142, 0.9195495655026402, 0.6362584783630235, 0.9033712594861226, 0.09507009249678022, 0.877863046585912, 0.2242944676392005, 0.8974218139120977, 0.5168690990339174, 0.8058468711583312, 0.5314893165360943, 0.9201842254883951, 0.05952275506257376, 0.893840323960399, 0.06393660631422403, 0.9257107358716593, 0.23059525698670383, 0.9005004170528446, 0.300098664569106, 0.8494691480249148, 0.4498162184161378, 0.8722109613215714, 0.4215338012257891, 0.8985129093686828, 0.5030661697803822, 0.4081615306519251, 0.6515837655350015, 0.6274174386371585, 0.6349295223253276, 0.563646071245399, 0.5412099150564665, 0.5960411292106209, 0.4899998494802206, 0.5482020553936748, 0.5557919118970527, 0.5362819998123164, 0.6359915430678484, 0.5413902920037097, 0.499566536546176, 0.5412484044937543, 0.5260696664957057, 0.5314483609068257, 0.5827014045016041, 0.5066373309184555, 0.49911657586740854, 0.5447151356952012, 0.43012777793219586, 0.5271067837010361, 0.53706663186845, 0.5907919003477428, 0.5149397122655918, 0.5213328691605832, 0.5376829456381357, 0.5248858099574012, 0.47589203763069277, 0.5191389075066212, 0.5428171098649587, 0.4805693313322127, 0.48485563888296157, 0.42080085265399664, 0.4655807695834603, 0.49811536906917253, 0.42907847086878953, 0.45480369765518375]}, {\"marker\": {\"line\": {\"width\": 1}, \"size\": 8}, \"mode\": \"markers\", \"name\": \"Cluster 1\", \"type\": \"scatter3d\", \"x\": [0.39360517815797497, 0.3018450067480046, 0.40080351204379094, 0.4472135954999579, 0.4713772711872174, 0.41080252783529914, 0.4096717546518834, 0.3658684374898035, 0.2561493793547083, 0.2302965555960349, 0.5271809323730215, 0.24235797938683576, 0.43004382554678733, 0.3222920373586763, 0.5111656508223583, 0.4843594796964828, 0.29330913524973357, 0.4421894195198187, 0.25837471468394674, 0.2676169317078552, 0.377312247375704, 0.2993255063983847, 0.5059079592516773, 0.4873993516923039, 0.49415414399847485, 0.40561610125071507, 0.32317606024211737, 0.28549913139769445, 0.3195809844425358, 0.3453118840627692, 0.3532776814491115, 0.29310571493700416, 0.24585101090503989, 0.2960679368817967, 0.3210468782323194, 0.25872157716507355, 0.266954167981901, 0.22052029913868892, 0.28703303578758654, 0.2745150993393978, 0.31479263578458255, 0.32945225045174753, 0.22243515732164576, 0.262431940540739, 0.2703580559876548, 0.2453489770416717, 0.24377729587331026, 0.30268135807189567, 0.24938530941662734, 0.2734738154763058, 0.23687491569557453, 0.2610632111626295, 0.2115510666578582], \"y\": [0.4951807080051943, 0.49049813596550745, 0.5937829808056162, 0.6168463386206317, 0.6082287370157644, 0.5228395808812898, 0.5682543693558382, 0.6233314120196652, 0.6201511289640306, 0.6141241482560931, 0.5884810407884892, 0.6122727900299009, 0.645065738320181, 0.6693757698987892, 0.61339878098683, 0.6538852975902518, 0.6886388392819832, 0.6283744382650055, 0.6643921234730059, 0.6933711412430794, 0.6436503043467892, 0.7137762075653789, 0.6401284382368162, 0.6465501604081583, 0.6621665529579563, 0.6996877746574836, 0.5717730296591308, 0.6446754579947939, 0.5672562473855011, 0.645187993906753, 0.6431465482791517, 0.6807616604988483, 0.6188663377954452, 0.6754049810115988, 0.6787848282626182, 0.6063786964806411, 0.634016148957015, 0.6064308226313945, 0.6906732423638801, 0.6297699337786185, 0.6295852715691651, 0.6762440930325344, 0.6425904544847545, 0.6823230454059214, 0.7029309455679024, 0.6683644546997264, 0.6369664827657462, 0.7146643176697537, 0.6499132306009076, 0.660895054067739, 0.6948330860403519, 0.6936822468035584, 0.6981185199709321], \"z\": [0.7745134150850476, 0.8174968932758457, 0.6976950024465991, 0.6476886555516632, 0.6386401738665526, 0.7469136869732711, 0.7136217661677968, 0.6910848263696289, 0.7414850455004713, 0.7548609322314478, 0.6130010841546761, 0.7525853044117531, 0.6316268687718439, 0.6693757698987892, 0.6020395443018887, 0.5812313756357793, 0.6631336970863542, 0.6400110019365797, 0.7013027969992841, 0.669042329269638, 0.6658451424277129, 0.6331885712273522, 0.5781805248590598, 0.5868686071397129, 0.5633357241582613, 0.5881433468135369, 0.754077473898274, 0.7091430037942733, 0.7590048380510225, 0.6815366132817813, 0.6793801566329067, 0.6713066374363644, 0.7460306537808107, 0.6754049810115988, 0.6604392923636285, 0.751909583635995, 0.7257816442007934, 0.7639453220161723, 0.6637638952587939, 0.7266576158984058, 0.7103013320267503, 0.6589045009034951, 0.733212185245425, 0.6823230454059214, 0.6578712695699599, 0.7022056929123707, 0.7313318876199307, 0.6305861626497827, 0.7179274058963514, 0.6988775284394482, 0.6790414249939803, 0.6713054001324759, 0.6840151155270748]}, {\"marker\": {\"line\": {\"width\": 1}, \"size\": 8}, \"mode\": \"markers\", \"name\": \"Cluster 3\", \"type\": \"scatter3d\", \"x\": [0.24302144758916638, 0.48507125007266594, 0.40037552816907873, 0.2893456933022473, 0.3267271374493981, 0.24765072198184565, 0.295601496049104, 0.2700085412216009, 0.22320526577729943, 0.4446345583408636, 0.23435368392848113, 0.21743634501273407, 0.22571115699066566, 0.295404106785876, 0.43782404888617954, 0.2855095133549977, 0.23682934468380903, 0.2347027612250088, 0.23965499535472734, 0.21502729242839574, 0.22411477615561334, 0.2602825277460424, 0.24992374096152994, 0.25336711786816823, 0.23669188723573936], \"y\": [0.7965703004311565, 0.7276068751089989, 0.7507041153170226, 0.7233642332556182, 0.7260603054431068, 0.7553347020446293, 0.7968388154367152, 0.7971680740828218, 0.740101670735256, 0.7488582035214544, 0.7894018827064628, 0.7851868014348731, 0.7721697475996457, 0.7330398205427292, 0.7719529282993166, 0.7762289894339, 0.7358626066961209, 0.764957147696325, 0.7264542046690172, 0.7266439537235443, 0.808414013989891, 0.7446972321622879, 0.8044420412199245, 0.753433797871132, 0.8115150419511064], \"z\": [0.5535488528419901, 0.48507125007266594, 0.5254928807219158, 0.6269156688215358, 0.6050502545359224, 0.6067442688555218, 0.5269417973049245, 0.5400170824432018, 0.6343728606302194, 0.49143819606095446, 0.5673826031952701, 0.5798302533672909, 0.5939767289228044, 0.6126899992595946, 0.46086741988018903, 0.5620968544176517, 0.6343643161173457, 0.5997959453528002, 0.6440728000158298, 0.652496611506856, 0.5442787420922038, 0.6145559682892667, 0.538898066448299, 0.6067475717369293, 0.5342474026178117]}, {\"marker\": {\"line\": {\"width\": 1}, \"size\": 8}, \"mode\": \"markers\", \"name\": \"Cluster 0\", \"type\": \"scatter3d\", \"x\": [0.2904651716625649, 0.29955698325493646, 0.30996520993903337, 0.21392362618594385, 0.18408719125181047], \"y\": [0.8840244354947628, 0.862724111774217, 0.8413341412630906, 0.8423242781071539, 0.8406648400499345], \"z\": [0.36623869470497317, 0.4073974972267136, 0.4428074427700477, 0.4946983855549952, 0.5093078957966756]}, {\"marker\": {\"line\": {\"width\": 1}, \"size\": 8}, \"mode\": \"markers\", \"name\": \"Cluster 2\", \"type\": \"scatter3d\", \"x\": [0.477336004426002, 0.6346287682519601, 0.5489290922099601, 0.26366049730292496, 0.5144879393721155, 0.2465869429454735, 0.6042327382166589, 0.30546920671260264, 0.49171966140998236, 0.3868635248329748, 0.4742198396700182, 0.4795088540294502, 0.5083235136002332, 0.4285554573026708, 0.39955782769405523, 0.5438687769648606, 0.22795805957520232, 0.4902667678943446, 0.42955654860784376, 0.3675383350990133, 0.41393586457153253, 0.3802133431114401, 0.5046641270528651, 0.544823145408073, 0.5314237136169695, 0.34058374681589454, 0.42088626617909897, 0.3595523035048248, 0.4614710442927705, 0.3655617924777757, 0.3066424757577331, 0.2796811039319006, 0.36191341818872363, 0.3292046512962847, 0.2256152078236138], \"y\": [0.7881594491685149, 0.7637058058625282, 0.8292333095086631, 0.9623608151556762, 0.8535822630491916, 0.9603912514718442, 0.795043076600867, 0.940845156674816, 0.7888002901785134, 0.8875104393227069, 0.8602127324246841, 0.8500384230522072, 0.8436007246982593, 0.9034412343137384, 0.9166326635334209, 0.7672434532182856, 0.9718212013469151, 0.8334535054203858, 0.8795681709589181, 0.8882176431559489, 0.9003105054430833, 0.9188489125193136, 0.8540469842433102, 0.8266282206191453, 0.8376678875657315, 0.8928817146254533, 0.8966707409902542, 0.8681872694384793, 0.8631217680290708, 0.9183625518344122, 0.928946323619015, 0.9576959013425687, 0.9240342592052518, 0.9217730236295971, 0.9659151084948466], \"z\": [0.38852930592814117, 0.11832061780968747, 0.10511408148701365, 0.06591512432573124, 0.08185035399101838, 0.12978260155024923, 0.053002871773391136, 0.14662521922204927, 0.36878974605748677, 0.25032345724486604, 0.18748226219512346, 0.21795857001338648, 0.17304630250220704, 0.01158257992709921, 0.011751700814531037, 0.3399179856030379, 0.05998896304610587, 0.2549387193050592, 0.20455073743230656, 0.27565375132425995, 0.13452915598574808, 0.10561481753095558, 0.12616603176321628, 0.14090253760553612, 0.12610054221419614, 0.294558916165098, 0.13724552158014097, 0.34201316674849186, 0.20509824190789802, 0.15157440175907774, 0.20743461595376064, 0.0678014797410668, 0.12320456789403358, 0.20483844969546602, 0.12690855440078277]}],\n",
              "                        {\"autosize\": true, \"font\": {\"color\": \"black\", \"family\": \"Gilroy\", \"size\": 12}, \"height\": 600, \"scene\": {\"xaxis\": {\"title\": {\"font\": {\"color\": \"black\"}, \"text\": \"x\"}}, \"yaxis\": {\"title\": {\"font\": {\"color\": \"black\"}, \"text\": \"y\"}}, \"zaxis\": {\"title\": {\"font\": {\"color\": \"black\"}, \"text\": \"z\"}}}, \"showlegend\": true, \"template\": {\"data\": {\"bar\": [{\"error_x\": {\"color\": \"#2a3f5f\"}, \"error_y\": {\"color\": \"#2a3f5f\"}, \"marker\": {\"line\": {\"color\": \"#E5ECF6\", \"width\": 0.5}}, \"type\": \"bar\"}], \"barpolar\": [{\"marker\": {\"line\": {\"color\": \"#E5ECF6\", \"width\": 0.5}}, \"type\": \"barpolar\"}], \"carpet\": [{\"aaxis\": {\"endlinecolor\": \"#2a3f5f\", \"gridcolor\": \"white\", \"linecolor\": \"white\", \"minorgridcolor\": \"white\", \"startlinecolor\": \"#2a3f5f\"}, \"baxis\": {\"endlinecolor\": \"#2a3f5f\", \"gridcolor\": \"white\", \"linecolor\": \"white\", \"minorgridcolor\": \"white\", \"startlinecolor\": \"#2a3f5f\"}, \"type\": \"carpet\"}], \"choropleth\": [{\"colorbar\": {\"outlinewidth\": 0, \"ticks\": \"\"}, \"type\": \"choropleth\"}], \"contour\": [{\"colorbar\": {\"outlinewidth\": 0, \"ticks\": \"\"}, \"colorscale\": [[0.0, \"#0d0887\"], [0.1111111111111111, \"#46039f\"], [0.2222222222222222, \"#7201a8\"], [0.3333333333333333, \"#9c179e\"], [0.4444444444444444, \"#bd3786\"], [0.5555555555555556, \"#d8576b\"], [0.6666666666666666, \"#ed7953\"], [0.7777777777777778, \"#fb9f3a\"], [0.8888888888888888, \"#fdca26\"], [1.0, \"#f0f921\"]], \"type\": \"contour\"}], \"contourcarpet\": [{\"colorbar\": {\"outlinewidth\": 0, \"ticks\": \"\"}, \"type\": \"contourcarpet\"}], \"heatmap\": [{\"colorbar\": {\"outlinewidth\": 0, \"ticks\": \"\"}, \"colorscale\": [[0.0, \"#0d0887\"], [0.1111111111111111, \"#46039f\"], [0.2222222222222222, \"#7201a8\"], [0.3333333333333333, \"#9c179e\"], [0.4444444444444444, \"#bd3786\"], [0.5555555555555556, \"#d8576b\"], [0.6666666666666666, \"#ed7953\"], [0.7777777777777778, \"#fb9f3a\"], [0.8888888888888888, \"#fdca26\"], [1.0, \"#f0f921\"]], \"type\": \"heatmap\"}], \"heatmapgl\": [{\"colorbar\": {\"outlinewidth\": 0, \"ticks\": \"\"}, \"colorscale\": [[0.0, \"#0d0887\"], [0.1111111111111111, \"#46039f\"], [0.2222222222222222, \"#7201a8\"], [0.3333333333333333, \"#9c179e\"], [0.4444444444444444, \"#bd3786\"], [0.5555555555555556, \"#d8576b\"], [0.6666666666666666, \"#ed7953\"], [0.7777777777777778, \"#fb9f3a\"], [0.8888888888888888, \"#fdca26\"], [1.0, \"#f0f921\"]], \"type\": \"heatmapgl\"}], \"histogram\": [{\"marker\": {\"colorbar\": {\"outlinewidth\": 0, \"ticks\": \"\"}}, \"type\": \"histogram\"}], \"histogram2d\": [{\"colorbar\": {\"outlinewidth\": 0, \"ticks\": \"\"}, \"colorscale\": [[0.0, \"#0d0887\"], [0.1111111111111111, \"#46039f\"], [0.2222222222222222, \"#7201a8\"], [0.3333333333333333, \"#9c179e\"], [0.4444444444444444, \"#bd3786\"], [0.5555555555555556, \"#d8576b\"], [0.6666666666666666, \"#ed7953\"], [0.7777777777777778, \"#fb9f3a\"], [0.8888888888888888, \"#fdca26\"], [1.0, \"#f0f921\"]], \"type\": \"histogram2d\"}], \"histogram2dcontour\": [{\"colorbar\": {\"outlinewidth\": 0, \"ticks\": \"\"}, \"colorscale\": [[0.0, \"#0d0887\"], [0.1111111111111111, \"#46039f\"], [0.2222222222222222, \"#7201a8\"], [0.3333333333333333, \"#9c179e\"], [0.4444444444444444, \"#bd3786\"], [0.5555555555555556, \"#d8576b\"], [0.6666666666666666, \"#ed7953\"], [0.7777777777777778, \"#fb9f3a\"], [0.8888888888888888, \"#fdca26\"], [1.0, \"#f0f921\"]], \"type\": \"histogram2dcontour\"}], \"mesh3d\": [{\"colorbar\": {\"outlinewidth\": 0, \"ticks\": \"\"}, \"type\": \"mesh3d\"}], \"parcoords\": [{\"line\": {\"colorbar\": {\"outlinewidth\": 0, \"ticks\": \"\"}}, \"type\": \"parcoords\"}], \"pie\": [{\"automargin\": true, \"type\": \"pie\"}], \"scatter\": [{\"marker\": {\"colorbar\": {\"outlinewidth\": 0, \"ticks\": \"\"}}, \"type\": \"scatter\"}], \"scatter3d\": [{\"line\": {\"colorbar\": {\"outlinewidth\": 0, \"ticks\": \"\"}}, \"marker\": {\"colorbar\": {\"outlinewidth\": 0, \"ticks\": \"\"}}, \"type\": \"scatter3d\"}], \"scattercarpet\": [{\"marker\": {\"colorbar\": {\"outlinewidth\": 0, \"ticks\": \"\"}}, \"type\": \"scattercarpet\"}], \"scattergeo\": [{\"marker\": {\"colorbar\": {\"outlinewidth\": 0, \"ticks\": \"\"}}, \"type\": \"scattergeo\"}], \"scattergl\": [{\"marker\": {\"colorbar\": {\"outlinewidth\": 0, \"ticks\": \"\"}}, \"type\": \"scattergl\"}], \"scattermapbox\": [{\"marker\": {\"colorbar\": {\"outlinewidth\": 0, \"ticks\": \"\"}}, \"type\": \"scattermapbox\"}], \"scatterpolar\": [{\"marker\": {\"colorbar\": {\"outlinewidth\": 0, \"ticks\": \"\"}}, \"type\": \"scatterpolar\"}], \"scatterpolargl\": [{\"marker\": {\"colorbar\": {\"outlinewidth\": 0, \"ticks\": \"\"}}, \"type\": \"scatterpolargl\"}], \"scatterternary\": [{\"marker\": {\"colorbar\": {\"outlinewidth\": 0, \"ticks\": \"\"}}, \"type\": \"scatterternary\"}], \"surface\": [{\"colorbar\": {\"outlinewidth\": 0, \"ticks\": \"\"}, \"colorscale\": [[0.0, \"#0d0887\"], [0.1111111111111111, \"#46039f\"], [0.2222222222222222, \"#7201a8\"], [0.3333333333333333, \"#9c179e\"], [0.4444444444444444, \"#bd3786\"], [0.5555555555555556, \"#d8576b\"], [0.6666666666666666, \"#ed7953\"], [0.7777777777777778, \"#fb9f3a\"], [0.8888888888888888, \"#fdca26\"], [1.0, \"#f0f921\"]], \"type\": \"surface\"}], \"table\": [{\"cells\": {\"fill\": {\"color\": \"#EBF0F8\"}, \"line\": {\"color\": \"white\"}}, \"header\": {\"fill\": {\"color\": \"#C8D4E3\"}, \"line\": {\"color\": \"white\"}}, \"type\": \"table\"}]}, \"layout\": {\"annotationdefaults\": {\"arrowcolor\": \"#2a3f5f\", \"arrowhead\": 0, \"arrowwidth\": 1}, \"coloraxis\": {\"colorbar\": {\"outlinewidth\": 0, \"ticks\": \"\"}}, \"colorscale\": {\"diverging\": [[0, \"#8e0152\"], [0.1, \"#c51b7d\"], [0.2, \"#de77ae\"], [0.3, \"#f1b6da\"], [0.4, \"#fde0ef\"], [0.5, \"#f7f7f7\"], [0.6, \"#e6f5d0\"], [0.7, \"#b8e186\"], [0.8, \"#7fbc41\"], [0.9, \"#4d9221\"], [1, \"#276419\"]], \"sequential\": [[0.0, \"#0d0887\"], [0.1111111111111111, \"#46039f\"], [0.2222222222222222, \"#7201a8\"], [0.3333333333333333, \"#9c179e\"], [0.4444444444444444, \"#bd3786\"], [0.5555555555555556, \"#d8576b\"], [0.6666666666666666, \"#ed7953\"], [0.7777777777777778, \"#fb9f3a\"], [0.8888888888888888, \"#fdca26\"], [1.0, \"#f0f921\"]], \"sequentialminus\": [[0.0, \"#0d0887\"], [0.1111111111111111, \"#46039f\"], [0.2222222222222222, \"#7201a8\"], [0.3333333333333333, \"#9c179e\"], [0.4444444444444444, \"#bd3786\"], [0.5555555555555556, \"#d8576b\"], [0.6666666666666666, \"#ed7953\"], [0.7777777777777778, \"#fb9f3a\"], [0.8888888888888888, \"#fdca26\"], [1.0, \"#f0f921\"]]}, \"colorway\": [\"#636efa\", \"#EF553B\", \"#00cc96\", \"#ab63fa\", \"#FFA15A\", \"#19d3f3\", \"#FF6692\", \"#B6E880\", \"#FF97FF\", \"#FECB52\"], \"font\": {\"color\": \"#2a3f5f\"}, \"geo\": {\"bgcolor\": \"white\", \"lakecolor\": \"white\", \"landcolor\": \"#E5ECF6\", \"showlakes\": true, \"showland\": true, \"subunitcolor\": \"white\"}, \"hoverlabel\": {\"align\": \"left\"}, \"hovermode\": \"closest\", \"mapbox\": {\"style\": \"light\"}, \"paper_bgcolor\": \"white\", \"plot_bgcolor\": \"#E5ECF6\", \"polar\": {\"angularaxis\": {\"gridcolor\": \"white\", \"linecolor\": \"white\", \"ticks\": \"\"}, \"bgcolor\": \"#E5ECF6\", \"radialaxis\": {\"gridcolor\": \"white\", \"linecolor\": \"white\", \"ticks\": \"\"}}, \"scene\": {\"xaxis\": {\"backgroundcolor\": \"#E5ECF6\", \"gridcolor\": \"white\", \"gridwidth\": 2, \"linecolor\": \"white\", \"showbackground\": true, \"ticks\": \"\", \"zerolinecolor\": \"white\"}, \"yaxis\": {\"backgroundcolor\": \"#E5ECF6\", \"gridcolor\": \"white\", \"gridwidth\": 2, \"linecolor\": \"white\", \"showbackground\": true, \"ticks\": \"\", \"zerolinecolor\": \"white\"}, \"zaxis\": {\"backgroundcolor\": \"#E5ECF6\", \"gridcolor\": \"white\", \"gridwidth\": 2, \"linecolor\": \"white\", \"showbackground\": true, \"ticks\": \"\", \"zerolinecolor\": \"white\"}}, \"shapedefaults\": {\"line\": {\"color\": \"#2a3f5f\"}}, \"ternary\": {\"aaxis\": {\"gridcolor\": \"white\", \"linecolor\": \"white\", \"ticks\": \"\"}, \"baxis\": {\"gridcolor\": \"white\", \"linecolor\": \"white\", \"ticks\": \"\"}, \"bgcolor\": \"#E5ECF6\", \"caxis\": {\"gridcolor\": \"white\", \"linecolor\": \"white\", \"ticks\": \"\"}}, \"title\": {\"x\": 0.05}, \"xaxis\": {\"automargin\": true, \"gridcolor\": \"white\", \"linecolor\": \"white\", \"ticks\": \"\", \"title\": {\"standoff\": 15}, \"zerolinecolor\": \"white\", \"zerolinewidth\": 2}, \"yaxis\": {\"automargin\": true, \"gridcolor\": \"white\", \"linecolor\": \"white\", \"ticks\": \"\", \"title\": {\"standoff\": 15}, \"zerolinecolor\": \"white\", \"zerolinewidth\": 2}}}, \"width\": 600},\n",
              "                        {\"responsive\": true}\n",
              "                    ).then(function(){\n",
              "                            \n",
              "var gd = document.getElementById('f85ff6d6-ebbb-4802-ac20-bd9d98bced0f');\n",
              "var x = new MutationObserver(function (mutations, observer) {{\n",
              "        var display = window.getComputedStyle(gd).display;\n",
              "        if (!display || display === 'none') {{\n",
              "            console.log([gd, 'removed!']);\n",
              "            Plotly.purge(gd);\n",
              "            observer.disconnect();\n",
              "        }}\n",
              "}});\n",
              "\n",
              "// Listen for the removal of the full notebook cells\n",
              "var notebookContainer = gd.closest('#notebook-container');\n",
              "if (notebookContainer) {{\n",
              "    x.observe(notebookContainer, {childList: true});\n",
              "}}\n",
              "\n",
              "// Listen for the clearing of the current output cell\n",
              "var outputEl = gd.closest('.output');\n",
              "if (outputEl) {{\n",
              "    x.observe(outputEl, {childList: true});\n",
              "}}\n",
              "\n",
              "                        })\n",
              "                };\n",
              "                \n",
              "            </script>\n",
              "        </div>\n",
              "</body>\n",
              "</html>"
            ]
          },
          "metadata": {
            "tags": []
          }
        }
      ]
    },
    {
      "cell_type": "code",
      "metadata": {
        "colab": {
          "base_uri": "https://localhost:8080/",
          "height": 617
        },
        "id": "xs0KDWbIaCVs",
        "outputId": "49bf90f2-b19d-4021-bd5e-b8d5cdeacae9"
      },
      "source": [
        "# It could be K=4 or K=5\n",
        "kmeans(df, 4,n_init = 1)\n",
        "plot_kmeans(df)"
      ],
      "execution_count": null,
      "outputs": [
        {
          "output_type": "display_data",
          "data": {
            "text/html": [
              "<html>\n",
              "<head><meta charset=\"utf-8\" /></head>\n",
              "<body>\n",
              "    <div>\n",
              "            <script src=\"https://cdnjs.cloudflare.com/ajax/libs/mathjax/2.7.5/MathJax.js?config=TeX-AMS-MML_SVG\"></script><script type=\"text/javascript\">if (window.MathJax) {MathJax.Hub.Config({SVG: {font: \"STIX-Web\"}});}</script>\n",
              "                <script type=\"text/javascript\">window.PlotlyConfig = {MathJaxConfig: 'local'};</script>\n",
              "        <script src=\"https://cdn.plot.ly/plotly-latest.min.js\"></script>    \n",
              "            <div id=\"addc9ea8-7f73-4a62-9e3c-d06c017e5a26\" class=\"plotly-graph-div\" style=\"height:600px; width:600px;\"></div>\n",
              "            <script type=\"text/javascript\">\n",
              "                \n",
              "                    window.PLOTLYENV=window.PLOTLYENV || {};\n",
              "                    \n",
              "                if (document.getElementById(\"addc9ea8-7f73-4a62-9e3c-d06c017e5a26\")) {\n",
              "                    Plotly.newPlot(\n",
              "                        'addc9ea8-7f73-4a62-9e3c-d06c017e5a26',\n",
              "                        [{\"marker\": {\"line\": {\"width\": 1}, \"size\": 8}, \"mode\": \"markers\", \"name\": \"Cluster 2\", \"type\": \"scatter3d\", \"x\": [0.4139246909027841, 0.24702463563420493, 0.7602859212697055, 0.28069660994298146, 0.5806832031806503, 0.27185366079467044, 0.8791306287808246, 0.233662144408083, 0.9576804340193746, 0.3736885524237636, 0.9431943262440974, 0.3279921004388584, 0.9183240863665194, 0.28882142091412805, 0.8404750732848711, 0.2606335062140006, 0.6509445549041193, 0.27743013758273716, 0.81469083618666, 0.3284105591080858, 0.6362584783630235, 0.3093737190020968, 0.874644850970378, 0.37279115676935987, 0.8651358037512019, 0.317380885407937, 0.7268471705164464, 0.462371155582649, 0.6857926664981863, 0.24326709409463318, 0.8928413259386064, 0.25713214798860795, 0.8471600336634683, 0.18111731788793334, 0.8070833994534634, 0.2334630710877745, 0.7414202301119089, 0.34909691014722527, 0.6228224562684984, 0.23258958968575236, 0.7828484879907511, 0.2343946720092216, 0.6707548930405096, 0.7142826786408689, 0.5923488777590923, 0.591220278715784, 0.6243473636199055, 0.6262734124948878, 0.6204113660403396, 0.6079619517948334, 0.7349997742203309, 0.6316241073014079, 0.694739889871316, 0.6909787305274077, 0.5820939546722681, 0.6687762430634061, 0.7077192601070826, 0.6888616057193236, 0.5886970077451945, 0.6507530949879499, 0.6243229333945758, 0.6359915430678484, 0.5823026718453099, 0.6087992693064014, 0.7028917346696859, 0.5510661829601742, 0.5604173549931653, 0.5602336986056181, 0.5597170785495563, 0.6445570018712665, 0.5267098242985818, 0.5248858099574012, 0.5438766144350775, 0.529954301413009, 0.616419429846648, 0.6343515173585208, 0.569178358688694, 0.6654525111737621, 0.640173558177258, 0.6226442113364656, 0.6286498526682265, 0.5394183390794041], \"y\": [0.3267826507127243, 0.17644616831014637, 0.6082287370157644, 0.19526720691685664, 0.318439175937776, 0.21006873788679079, 0.45212432337299546, 0.18286602605849975, 0.28431137884950186, 0.23666941653505028, 0.2674730178901172, 0.1780528545239517, 0.31666347805742046, 0.24068451742844002, 0.4543108504242547, 0.23693955110363693, 0.39056673294247163, 0.291301644461874, 0.36034402369794577, 0.21581265312817066, 0.43629152802035903, 0.29699877024201293, 0.4753504624839011, 0.3006380296527096, 0.448588935278401, 0.3064367169455943, 0.45226046165467776, 0.3698969244661192, 0.4971996832111851, 0.3067280751627984, 0.4464206629693032, 0.36733163998372564, 0.5274770020923482, 0.3320484161278778, 0.5435459628972305, 0.3668705402807885, 0.600197329138212, 0.39564316483352197, 0.6401230800537345, 0.4302907409186419, 0.4576652699022853, 0.3711248973479342, 0.5449883505954141, 0.5685107034080386, 0.47387910220727386, 0.5067602388992434, 0.45503282433315145, 0.5385951347456035, 0.5676103987177575, 0.5245161937053464, 0.46869550819847183, 0.5482020553936748, 0.45654335620115044, 0.484716422907286, 0.5066373309184555, 0.5095438042387856, 0.499566536546176, 0.48220312400352655, 0.61374794424499, 0.5422942458232916, 0.5202691111621465, 0.5820939546722681, 0.6417213118295253, 0.5767572025008013, 0.5665097563009409, 0.6469037799967262, 0.630469524367311, 0.580605833100368, 0.6492718111174852, 0.5592479869177165, 0.6583872803732274, 0.6700669914349802, 0.6911765308445776, 0.6705544221960523, 0.5704179798580922, 0.605517357478588, 0.664041418470143, 0.616522179469809, 0.6110747600782916, 0.6034859279107283, 0.6486069908481702, 0.7086476219278445], \"z\": [0.8496348918530832, 0.9528093088747904, 0.22808577638091165, 0.9397234332873726, 0.7492686492653552, 0.9391308281997706, 0.1507081077909985, 0.9549670249721653, 0.04489127034465819, 0.8968525258170326, 0.1970853816032442, 0.9277490840984852, 0.23749760854306534, 0.9266353920994941, 0.29530205277576554, 0.9359112268593659, 0.6509445549041193, 0.9155194540230326, 0.4543468124887142, 0.9195495655026402, 0.6362584783630235, 0.9033712594861226, 0.09507009249678022, 0.877863046585912, 0.2242944676392005, 0.8974218139120977, 0.5168690990339174, 0.8058468711583312, 0.5314893165360943, 0.9201842254883951, 0.05952275506257376, 0.893840323960399, 0.06393660631422403, 0.9257107358716593, 0.23059525698670383, 0.9005004170528446, 0.300098664569106, 0.8494691480249148, 0.4498162184161378, 0.8722109613215714, 0.4215338012257891, 0.8985129093686828, 0.5030661697803822, 0.4081615306519251, 0.6515837655350015, 0.6274174386371585, 0.6349295223253276, 0.563646071245399, 0.5412099150564665, 0.5960411292106209, 0.4899998494802206, 0.5482020553936748, 0.5557919118970527, 0.5362819998123164, 0.6359915430678484, 0.5413902920037097, 0.499566536546176, 0.5412484044937543, 0.5260696664957057, 0.5314483609068257, 0.5827014045016041, 0.5066373309184555, 0.49911657586740854, 0.5447151356952012, 0.43012777793219586, 0.5271067837010361, 0.53706663186845, 0.5907919003477428, 0.5149397122655918, 0.5213328691605832, 0.5376829456381357, 0.5248858099574012, 0.47589203763069277, 0.5191389075066212, 0.5428171098649587, 0.4805693313322127, 0.48485563888296157, 0.42080085265399664, 0.4655807695834603, 0.49811536906917253, 0.42907847086878953, 0.45480369765518375]}, {\"marker\": {\"line\": {\"width\": 1}, \"size\": 8}, \"mode\": \"markers\", \"name\": \"Cluster 3\", \"type\": \"scatter3d\", \"x\": [0.39360517815797497, 0.3018450067480046, 0.40080351204379094, 0.4472135954999579, 0.4713772711872174, 0.41080252783529914, 0.4096717546518834, 0.3658684374898035, 0.2561493793547083, 0.2302965555960349, 0.5271809323730215, 0.24235797938683576, 0.43004382554678733, 0.3222920373586763, 0.5111656508223583, 0.4843594796964828, 0.29330913524973357, 0.4421894195198187, 0.25837471468394674, 0.2676169317078552, 0.377312247375704, 0.2993255063983847, 0.5059079592516773, 0.4873993516923039, 0.49415414399847485, 0.40561610125071507, 0.32317606024211737, 0.28549913139769445, 0.3195809844425358, 0.3453118840627692, 0.3532776814491115, 0.29310571493700416, 0.24585101090503989, 0.2960679368817967, 0.3210468782323194, 0.25872157716507355, 0.266954167981901, 0.22052029913868892, 0.28703303578758654, 0.2745150993393978, 0.31479263578458255, 0.32945225045174753, 0.22243515732164576, 0.262431940540739, 0.2703580559876548, 0.2453489770416717, 0.24377729587331026, 0.30268135807189567, 0.24938530941662734, 0.2734738154763058, 0.23687491569557453, 0.2610632111626295, 0.2115510666578582], \"y\": [0.4951807080051943, 0.49049813596550745, 0.5937829808056162, 0.6168463386206317, 0.6082287370157644, 0.5228395808812898, 0.5682543693558382, 0.6233314120196652, 0.6201511289640306, 0.6141241482560931, 0.5884810407884892, 0.6122727900299009, 0.645065738320181, 0.6693757698987892, 0.61339878098683, 0.6538852975902518, 0.6886388392819832, 0.6283744382650055, 0.6643921234730059, 0.6933711412430794, 0.6436503043467892, 0.7137762075653789, 0.6401284382368162, 0.6465501604081583, 0.6621665529579563, 0.6996877746574836, 0.5717730296591308, 0.6446754579947939, 0.5672562473855011, 0.645187993906753, 0.6431465482791517, 0.6807616604988483, 0.6188663377954452, 0.6754049810115988, 0.6787848282626182, 0.6063786964806411, 0.634016148957015, 0.6064308226313945, 0.6906732423638801, 0.6297699337786185, 0.6295852715691651, 0.6762440930325344, 0.6425904544847545, 0.6823230454059214, 0.7029309455679024, 0.6683644546997264, 0.6369664827657462, 0.7146643176697537, 0.6499132306009076, 0.660895054067739, 0.6948330860403519, 0.6936822468035584, 0.6981185199709321], \"z\": [0.7745134150850476, 0.8174968932758457, 0.6976950024465991, 0.6476886555516632, 0.6386401738665526, 0.7469136869732711, 0.7136217661677968, 0.6910848263696289, 0.7414850455004713, 0.7548609322314478, 0.6130010841546761, 0.7525853044117531, 0.6316268687718439, 0.6693757698987892, 0.6020395443018887, 0.5812313756357793, 0.6631336970863542, 0.6400110019365797, 0.7013027969992841, 0.669042329269638, 0.6658451424277129, 0.6331885712273522, 0.5781805248590598, 0.5868686071397129, 0.5633357241582613, 0.5881433468135369, 0.754077473898274, 0.7091430037942733, 0.7590048380510225, 0.6815366132817813, 0.6793801566329067, 0.6713066374363644, 0.7460306537808107, 0.6754049810115988, 0.6604392923636285, 0.751909583635995, 0.7257816442007934, 0.7639453220161723, 0.6637638952587939, 0.7266576158984058, 0.7103013320267503, 0.6589045009034951, 0.733212185245425, 0.6823230454059214, 0.6578712695699599, 0.7022056929123707, 0.7313318876199307, 0.6305861626497827, 0.7179274058963514, 0.6988775284394482, 0.6790414249939803, 0.6713054001324759, 0.6840151155270748]}, {\"marker\": {\"line\": {\"width\": 1}, \"size\": 8}, \"mode\": \"markers\", \"name\": \"Cluster 0\", \"type\": \"scatter3d\", \"x\": [0.24302144758916638, 0.48507125007266594, 0.40037552816907873, 0.2893456933022473, 0.3267271374493981, 0.24765072198184565, 0.295601496049104, 0.2700085412216009, 0.22320526577729943, 0.4446345583408636, 0.23435368392848113, 0.21743634501273407, 0.22571115699066566, 0.295404106785876, 0.43782404888617954, 0.477336004426002, 0.6346287682519601, 0.5489290922099601, 0.26366049730292496, 0.5144879393721155, 0.2465869429454735, 0.6042327382166589, 0.30546920671260264, 0.49171966140998236, 0.3868635248329748, 0.4742198396700182, 0.4795088540294502, 0.5083235136002332, 0.4285554573026708, 0.39955782769405523, 0.5438687769648606, 0.22795805957520232, 0.4902667678943446, 0.42955654860784376, 0.3675383350990133, 0.2855095133549977, 0.41393586457153253, 0.23682934468380903, 0.3802133431114401, 0.5046641270528651, 0.544823145408073, 0.2347027612250088, 0.5314237136169695, 0.34058374681589454, 0.23965499535472734, 0.42088626617909897, 0.21502729242839574, 0.3595523035048248, 0.4614710442927705, 0.22411477615561334, 0.3655617924777757, 0.2602825277460424, 0.3066424757577331, 0.24992374096152994, 0.2796811039319006, 0.25336711786816823, 0.36191341818872363, 0.23669188723573936, 0.3292046512962847, 0.2256152078236138], \"y\": [0.7965703004311565, 0.7276068751089989, 0.7507041153170226, 0.7233642332556182, 0.7260603054431068, 0.7553347020446293, 0.7968388154367152, 0.7971680740828218, 0.740101670735256, 0.7488582035214544, 0.7894018827064628, 0.7851868014348731, 0.7721697475996457, 0.7330398205427292, 0.7719529282993166, 0.7881594491685149, 0.7637058058625282, 0.8292333095086631, 0.9623608151556762, 0.8535822630491916, 0.9603912514718442, 0.795043076600867, 0.940845156674816, 0.7888002901785134, 0.8875104393227069, 0.8602127324246841, 0.8500384230522072, 0.8436007246982593, 0.9034412343137384, 0.9166326635334209, 0.7672434532182856, 0.9718212013469151, 0.8334535054203858, 0.8795681709589181, 0.8882176431559489, 0.7762289894339, 0.9003105054430833, 0.7358626066961209, 0.9188489125193136, 0.8540469842433102, 0.8266282206191453, 0.764957147696325, 0.8376678875657315, 0.8928817146254533, 0.7264542046690172, 0.8966707409902542, 0.7266439537235443, 0.8681872694384793, 0.8631217680290708, 0.808414013989891, 0.9183625518344122, 0.7446972321622879, 0.928946323619015, 0.8044420412199245, 0.9576959013425687, 0.753433797871132, 0.9240342592052518, 0.8115150419511064, 0.9217730236295971, 0.9659151084948466], \"z\": [0.5535488528419901, 0.48507125007266594, 0.5254928807219158, 0.6269156688215358, 0.6050502545359224, 0.6067442688555218, 0.5269417973049245, 0.5400170824432018, 0.6343728606302194, 0.49143819606095446, 0.5673826031952701, 0.5798302533672909, 0.5939767289228044, 0.6126899992595946, 0.46086741988018903, 0.38852930592814117, 0.11832061780968747, 0.10511408148701365, 0.06591512432573124, 0.08185035399101838, 0.12978260155024923, 0.053002871773391136, 0.14662521922204927, 0.36878974605748677, 0.25032345724486604, 0.18748226219512346, 0.21795857001338648, 0.17304630250220704, 0.01158257992709921, 0.011751700814531037, 0.3399179856030379, 0.05998896304610587, 0.2549387193050592, 0.20455073743230656, 0.27565375132425995, 0.5620968544176517, 0.13452915598574808, 0.6343643161173457, 0.10561481753095558, 0.12616603176321628, 0.14090253760553612, 0.5997959453528002, 0.12610054221419614, 0.294558916165098, 0.6440728000158298, 0.13724552158014097, 0.652496611506856, 0.34201316674849186, 0.20509824190789802, 0.5442787420922038, 0.15157440175907774, 0.6145559682892667, 0.20743461595376064, 0.538898066448299, 0.0678014797410668, 0.6067475717369293, 0.12320456789403358, 0.5342474026178117, 0.20483844969546602, 0.12690855440078277]}, {\"marker\": {\"line\": {\"width\": 1}, \"size\": 8}, \"mode\": \"markers\", \"name\": \"Cluster 1\", \"type\": \"scatter3d\", \"x\": [0.2904651716625649, 0.29955698325493646, 0.30996520993903337, 0.21392362618594385, 0.18408719125181047], \"y\": [0.8840244354947628, 0.862724111774217, 0.8413341412630906, 0.8423242781071539, 0.8406648400499345], \"z\": [0.36623869470497317, 0.4073974972267136, 0.4428074427700477, 0.4946983855549952, 0.5093078957966756]}],\n",
              "                        {\"autosize\": true, \"font\": {\"color\": \"black\", \"family\": \"Gilroy\", \"size\": 12}, \"height\": 600, \"scene\": {\"xaxis\": {\"title\": {\"font\": {\"color\": \"black\"}, \"text\": \"x\"}}, \"yaxis\": {\"title\": {\"font\": {\"color\": \"black\"}, \"text\": \"y\"}}, \"zaxis\": {\"title\": {\"font\": {\"color\": \"black\"}, \"text\": \"z\"}}}, \"showlegend\": true, \"template\": {\"data\": {\"bar\": [{\"error_x\": {\"color\": \"#2a3f5f\"}, \"error_y\": {\"color\": \"#2a3f5f\"}, \"marker\": {\"line\": {\"color\": \"#E5ECF6\", \"width\": 0.5}}, \"type\": \"bar\"}], \"barpolar\": [{\"marker\": {\"line\": {\"color\": \"#E5ECF6\", \"width\": 0.5}}, \"type\": \"barpolar\"}], \"carpet\": [{\"aaxis\": {\"endlinecolor\": \"#2a3f5f\", \"gridcolor\": \"white\", \"linecolor\": \"white\", \"minorgridcolor\": \"white\", \"startlinecolor\": \"#2a3f5f\"}, \"baxis\": {\"endlinecolor\": \"#2a3f5f\", \"gridcolor\": \"white\", \"linecolor\": \"white\", \"minorgridcolor\": \"white\", \"startlinecolor\": \"#2a3f5f\"}, \"type\": \"carpet\"}], \"choropleth\": [{\"colorbar\": {\"outlinewidth\": 0, \"ticks\": \"\"}, \"type\": \"choropleth\"}], \"contour\": [{\"colorbar\": {\"outlinewidth\": 0, \"ticks\": \"\"}, \"colorscale\": [[0.0, \"#0d0887\"], [0.1111111111111111, \"#46039f\"], [0.2222222222222222, \"#7201a8\"], [0.3333333333333333, \"#9c179e\"], [0.4444444444444444, \"#bd3786\"], [0.5555555555555556, \"#d8576b\"], [0.6666666666666666, \"#ed7953\"], [0.7777777777777778, \"#fb9f3a\"], [0.8888888888888888, \"#fdca26\"], [1.0, \"#f0f921\"]], \"type\": \"contour\"}], \"contourcarpet\": [{\"colorbar\": {\"outlinewidth\": 0, \"ticks\": \"\"}, \"type\": \"contourcarpet\"}], \"heatmap\": [{\"colorbar\": {\"outlinewidth\": 0, \"ticks\": \"\"}, \"colorscale\": [[0.0, \"#0d0887\"], [0.1111111111111111, \"#46039f\"], [0.2222222222222222, \"#7201a8\"], [0.3333333333333333, \"#9c179e\"], [0.4444444444444444, \"#bd3786\"], [0.5555555555555556, \"#d8576b\"], [0.6666666666666666, \"#ed7953\"], [0.7777777777777778, \"#fb9f3a\"], [0.8888888888888888, \"#fdca26\"], [1.0, \"#f0f921\"]], \"type\": \"heatmap\"}], \"heatmapgl\": [{\"colorbar\": {\"outlinewidth\": 0, \"ticks\": \"\"}, \"colorscale\": [[0.0, \"#0d0887\"], [0.1111111111111111, \"#46039f\"], [0.2222222222222222, \"#7201a8\"], [0.3333333333333333, \"#9c179e\"], [0.4444444444444444, \"#bd3786\"], [0.5555555555555556, \"#d8576b\"], [0.6666666666666666, \"#ed7953\"], [0.7777777777777778, \"#fb9f3a\"], [0.8888888888888888, \"#fdca26\"], [1.0, \"#f0f921\"]], \"type\": \"heatmapgl\"}], \"histogram\": [{\"marker\": {\"colorbar\": {\"outlinewidth\": 0, \"ticks\": \"\"}}, \"type\": \"histogram\"}], \"histogram2d\": [{\"colorbar\": {\"outlinewidth\": 0, \"ticks\": \"\"}, \"colorscale\": [[0.0, \"#0d0887\"], [0.1111111111111111, \"#46039f\"], [0.2222222222222222, \"#7201a8\"], [0.3333333333333333, \"#9c179e\"], [0.4444444444444444, \"#bd3786\"], [0.5555555555555556, \"#d8576b\"], [0.6666666666666666, \"#ed7953\"], [0.7777777777777778, \"#fb9f3a\"], [0.8888888888888888, \"#fdca26\"], [1.0, \"#f0f921\"]], \"type\": \"histogram2d\"}], \"histogram2dcontour\": [{\"colorbar\": {\"outlinewidth\": 0, \"ticks\": \"\"}, \"colorscale\": [[0.0, \"#0d0887\"], [0.1111111111111111, \"#46039f\"], [0.2222222222222222, \"#7201a8\"], [0.3333333333333333, \"#9c179e\"], [0.4444444444444444, \"#bd3786\"], [0.5555555555555556, \"#d8576b\"], [0.6666666666666666, \"#ed7953\"], [0.7777777777777778, \"#fb9f3a\"], [0.8888888888888888, \"#fdca26\"], [1.0, \"#f0f921\"]], \"type\": \"histogram2dcontour\"}], \"mesh3d\": [{\"colorbar\": {\"outlinewidth\": 0, \"ticks\": \"\"}, \"type\": \"mesh3d\"}], \"parcoords\": [{\"line\": {\"colorbar\": {\"outlinewidth\": 0, \"ticks\": \"\"}}, \"type\": \"parcoords\"}], \"pie\": [{\"automargin\": true, \"type\": \"pie\"}], \"scatter\": [{\"marker\": {\"colorbar\": {\"outlinewidth\": 0, \"ticks\": \"\"}}, \"type\": \"scatter\"}], \"scatter3d\": [{\"line\": {\"colorbar\": {\"outlinewidth\": 0, \"ticks\": \"\"}}, \"marker\": {\"colorbar\": {\"outlinewidth\": 0, \"ticks\": \"\"}}, \"type\": \"scatter3d\"}], \"scattercarpet\": [{\"marker\": {\"colorbar\": {\"outlinewidth\": 0, \"ticks\": \"\"}}, \"type\": \"scattercarpet\"}], \"scattergeo\": [{\"marker\": {\"colorbar\": {\"outlinewidth\": 0, \"ticks\": \"\"}}, \"type\": \"scattergeo\"}], \"scattergl\": [{\"marker\": {\"colorbar\": {\"outlinewidth\": 0, \"ticks\": \"\"}}, \"type\": \"scattergl\"}], \"scattermapbox\": [{\"marker\": {\"colorbar\": {\"outlinewidth\": 0, \"ticks\": \"\"}}, \"type\": \"scattermapbox\"}], \"scatterpolar\": [{\"marker\": {\"colorbar\": {\"outlinewidth\": 0, \"ticks\": \"\"}}, \"type\": \"scatterpolar\"}], \"scatterpolargl\": [{\"marker\": {\"colorbar\": {\"outlinewidth\": 0, \"ticks\": \"\"}}, \"type\": \"scatterpolargl\"}], \"scatterternary\": [{\"marker\": {\"colorbar\": {\"outlinewidth\": 0, \"ticks\": \"\"}}, \"type\": \"scatterternary\"}], \"surface\": [{\"colorbar\": {\"outlinewidth\": 0, \"ticks\": \"\"}, \"colorscale\": [[0.0, \"#0d0887\"], [0.1111111111111111, \"#46039f\"], [0.2222222222222222, \"#7201a8\"], [0.3333333333333333, \"#9c179e\"], [0.4444444444444444, \"#bd3786\"], [0.5555555555555556, \"#d8576b\"], [0.6666666666666666, \"#ed7953\"], [0.7777777777777778, \"#fb9f3a\"], [0.8888888888888888, \"#fdca26\"], [1.0, \"#f0f921\"]], \"type\": \"surface\"}], \"table\": [{\"cells\": {\"fill\": {\"color\": \"#EBF0F8\"}, \"line\": {\"color\": \"white\"}}, \"header\": {\"fill\": {\"color\": \"#C8D4E3\"}, \"line\": {\"color\": \"white\"}}, \"type\": \"table\"}]}, \"layout\": {\"annotationdefaults\": {\"arrowcolor\": \"#2a3f5f\", \"arrowhead\": 0, \"arrowwidth\": 1}, \"coloraxis\": {\"colorbar\": {\"outlinewidth\": 0, \"ticks\": \"\"}}, \"colorscale\": {\"diverging\": [[0, \"#8e0152\"], [0.1, \"#c51b7d\"], [0.2, \"#de77ae\"], [0.3, \"#f1b6da\"], [0.4, \"#fde0ef\"], [0.5, \"#f7f7f7\"], [0.6, \"#e6f5d0\"], [0.7, \"#b8e186\"], [0.8, \"#7fbc41\"], [0.9, \"#4d9221\"], [1, \"#276419\"]], \"sequential\": [[0.0, \"#0d0887\"], [0.1111111111111111, \"#46039f\"], [0.2222222222222222, \"#7201a8\"], [0.3333333333333333, \"#9c179e\"], [0.4444444444444444, \"#bd3786\"], [0.5555555555555556, \"#d8576b\"], [0.6666666666666666, \"#ed7953\"], [0.7777777777777778, \"#fb9f3a\"], [0.8888888888888888, \"#fdca26\"], [1.0, \"#f0f921\"]], \"sequentialminus\": [[0.0, \"#0d0887\"], [0.1111111111111111, \"#46039f\"], [0.2222222222222222, \"#7201a8\"], [0.3333333333333333, \"#9c179e\"], [0.4444444444444444, \"#bd3786\"], [0.5555555555555556, \"#d8576b\"], [0.6666666666666666, \"#ed7953\"], [0.7777777777777778, \"#fb9f3a\"], [0.8888888888888888, \"#fdca26\"], [1.0, \"#f0f921\"]]}, \"colorway\": [\"#636efa\", \"#EF553B\", \"#00cc96\", \"#ab63fa\", \"#FFA15A\", \"#19d3f3\", \"#FF6692\", \"#B6E880\", \"#FF97FF\", \"#FECB52\"], \"font\": {\"color\": \"#2a3f5f\"}, \"geo\": {\"bgcolor\": \"white\", \"lakecolor\": \"white\", \"landcolor\": \"#E5ECF6\", \"showlakes\": true, \"showland\": true, \"subunitcolor\": \"white\"}, \"hoverlabel\": {\"align\": \"left\"}, \"hovermode\": \"closest\", \"mapbox\": {\"style\": \"light\"}, \"paper_bgcolor\": \"white\", \"plot_bgcolor\": \"#E5ECF6\", \"polar\": {\"angularaxis\": {\"gridcolor\": \"white\", \"linecolor\": \"white\", \"ticks\": \"\"}, \"bgcolor\": \"#E5ECF6\", \"radialaxis\": {\"gridcolor\": \"white\", \"linecolor\": \"white\", \"ticks\": \"\"}}, \"scene\": {\"xaxis\": {\"backgroundcolor\": \"#E5ECF6\", \"gridcolor\": \"white\", \"gridwidth\": 2, \"linecolor\": \"white\", \"showbackground\": true, \"ticks\": \"\", \"zerolinecolor\": \"white\"}, \"yaxis\": {\"backgroundcolor\": \"#E5ECF6\", \"gridcolor\": \"white\", \"gridwidth\": 2, \"linecolor\": \"white\", \"showbackground\": true, \"ticks\": \"\", \"zerolinecolor\": \"white\"}, \"zaxis\": {\"backgroundcolor\": \"#E5ECF6\", \"gridcolor\": \"white\", \"gridwidth\": 2, \"linecolor\": \"white\", \"showbackground\": true, \"ticks\": \"\", \"zerolinecolor\": \"white\"}}, \"shapedefaults\": {\"line\": {\"color\": \"#2a3f5f\"}}, \"ternary\": {\"aaxis\": {\"gridcolor\": \"white\", \"linecolor\": \"white\", \"ticks\": \"\"}, \"baxis\": {\"gridcolor\": \"white\", \"linecolor\": \"white\", \"ticks\": \"\"}, \"bgcolor\": \"#E5ECF6\", \"caxis\": {\"gridcolor\": \"white\", \"linecolor\": \"white\", \"ticks\": \"\"}}, \"title\": {\"x\": 0.05}, \"xaxis\": {\"automargin\": true, \"gridcolor\": \"white\", \"linecolor\": \"white\", \"ticks\": \"\", \"title\": {\"standoff\": 15}, \"zerolinecolor\": \"white\", \"zerolinewidth\": 2}, \"yaxis\": {\"automargin\": true, \"gridcolor\": \"white\", \"linecolor\": \"white\", \"ticks\": \"\", \"title\": {\"standoff\": 15}, \"zerolinecolor\": \"white\", \"zerolinewidth\": 2}}}, \"width\": 600},\n",
              "                        {\"responsive\": true}\n",
              "                    ).then(function(){\n",
              "                            \n",
              "var gd = document.getElementById('addc9ea8-7f73-4a62-9e3c-d06c017e5a26');\n",
              "var x = new MutationObserver(function (mutations, observer) {{\n",
              "        var display = window.getComputedStyle(gd).display;\n",
              "        if (!display || display === 'none') {{\n",
              "            console.log([gd, 'removed!']);\n",
              "            Plotly.purge(gd);\n",
              "            observer.disconnect();\n",
              "        }}\n",
              "}});\n",
              "\n",
              "// Listen for the removal of the full notebook cells\n",
              "var notebookContainer = gd.closest('#notebook-container');\n",
              "if (notebookContainer) {{\n",
              "    x.observe(notebookContainer, {childList: true});\n",
              "}}\n",
              "\n",
              "// Listen for the clearing of the current output cell\n",
              "var outputEl = gd.closest('.output');\n",
              "if (outputEl) {{\n",
              "    x.observe(outputEl, {childList: true});\n",
              "}}\n",
              "\n",
              "                        })\n",
              "                };\n",
              "                \n",
              "            </script>\n",
              "        </div>\n",
              "</body>\n",
              "</html>"
            ]
          },
          "metadata": {
            "tags": []
          }
        }
      ]
    },
    {
      "cell_type": "code",
      "metadata": {
        "colab": {
          "base_uri": "https://localhost:8080/",
          "height": 617
        },
        "id": "9-84MLKhaZcH",
        "outputId": "78dfe60c-00d3-42c3-fb53-90615e254471"
      },
      "source": [
        "kmeans(df, 4,n_init = 1)\n",
        "plot_kmeans(df)"
      ],
      "execution_count": null,
      "outputs": [
        {
          "output_type": "display_data",
          "data": {
            "text/html": [
              "<html>\n",
              "<head><meta charset=\"utf-8\" /></head>\n",
              "<body>\n",
              "    <div>\n",
              "            <script src=\"https://cdnjs.cloudflare.com/ajax/libs/mathjax/2.7.5/MathJax.js?config=TeX-AMS-MML_SVG\"></script><script type=\"text/javascript\">if (window.MathJax) {MathJax.Hub.Config({SVG: {font: \"STIX-Web\"}});}</script>\n",
              "                <script type=\"text/javascript\">window.PlotlyConfig = {MathJaxConfig: 'local'};</script>\n",
              "        <script src=\"https://cdn.plot.ly/plotly-latest.min.js\"></script>    \n",
              "            <div id=\"6a1bf99c-8ebc-4222-b777-76e1df07f148\" class=\"plotly-graph-div\" style=\"height:600px; width:600px;\"></div>\n",
              "            <script type=\"text/javascript\">\n",
              "                \n",
              "                    window.PLOTLYENV=window.PLOTLYENV || {};\n",
              "                    \n",
              "                if (document.getElementById(\"6a1bf99c-8ebc-4222-b777-76e1df07f148\")) {\n",
              "                    Plotly.newPlot(\n",
              "                        '6a1bf99c-8ebc-4222-b777-76e1df07f148',\n",
              "                        [{\"marker\": {\"line\": {\"width\": 1}, \"size\": 8}, \"mode\": \"markers\", \"name\": \"Cluster 3\", \"type\": \"scatter3d\", \"x\": [0.4139246909027841, 0.24702463563420493, 0.28069660994298146, 0.5806832031806503, 0.27185366079467044, 0.233662144408083, 0.3736885524237636, 0.3279921004388584, 0.28882142091412805, 0.2606335062140006, 0.27743013758273716, 0.3284105591080858, 0.3093737190020968, 0.37279115676935987, 0.317380885407937, 0.462371155582649, 0.24326709409463318, 0.25713214798860795, 0.18111731788793334, 0.2334630710877745, 0.34909691014722527, 0.23258958968575236, 0.2343946720092216], \"y\": [0.3267826507127243, 0.17644616831014637, 0.19526720691685664, 0.318439175937776, 0.21006873788679079, 0.18286602605849975, 0.23666941653505028, 0.1780528545239517, 0.24068451742844002, 0.23693955110363693, 0.291301644461874, 0.21581265312817066, 0.29699877024201293, 0.3006380296527096, 0.3064367169455943, 0.3698969244661192, 0.3067280751627984, 0.36733163998372564, 0.3320484161278778, 0.3668705402807885, 0.39564316483352197, 0.4302907409186419, 0.3711248973479342], \"z\": [0.8496348918530832, 0.9528093088747904, 0.9397234332873726, 0.7492686492653552, 0.9391308281997706, 0.9549670249721653, 0.8968525258170326, 0.9277490840984852, 0.9266353920994941, 0.9359112268593659, 0.9155194540230326, 0.9195495655026402, 0.9033712594861226, 0.877863046585912, 0.8974218139120977, 0.8058468711583312, 0.9201842254883951, 0.893840323960399, 0.9257107358716593, 0.9005004170528446, 0.8494691480249148, 0.8722109613215714, 0.8985129093686828]}, {\"marker\": {\"line\": {\"width\": 1}, \"size\": 8}, \"mode\": \"markers\", \"name\": \"Cluster 2\", \"type\": \"scatter3d\", \"x\": [0.7602859212697055, 0.8791306287808246, 0.9576804340193746, 0.9431943262440974, 0.9183240863665194, 0.8404750732848711, 0.6509445549041193, 0.81469083618666, 0.6362584783630235, 0.874644850970378, 0.8651358037512019, 0.7268471705164464, 0.6857926664981863, 0.8928413259386064, 0.8471600336634683, 0.8070833994534634, 0.7414202301119089, 0.6228224562684984, 0.7828484879907511, 0.6707548930405096, 0.7142826786408689, 0.5923488777590923, 0.591220278715784, 0.6243473636199055, 0.6262734124948878, 0.6204113660403396, 0.6079619517948334, 0.7349997742203309, 0.6316241073014079, 0.694739889871316, 0.6909787305274077, 0.5820939546722681, 0.6687762430634061, 0.7077192601070826, 0.6888616057193236, 0.5886970077451945, 0.6507530949879499, 0.6243229333945758, 0.6359915430678484, 0.5823026718453099, 0.6087992693064014, 0.7028917346696859, 0.5510661829601742, 0.5604173549931653, 0.5602336986056181, 0.5597170785495563, 0.6445570018712665, 0.5267098242985818, 0.5248858099574012, 0.5438766144350775, 0.529954301413009, 0.616419429846648, 0.6343515173585208, 0.569178358688694, 0.6654525111737621, 0.640173558177258, 0.6226442113364656, 0.6286498526682265, 0.5394183390794041], \"y\": [0.6082287370157644, 0.45212432337299546, 0.28431137884950186, 0.2674730178901172, 0.31666347805742046, 0.4543108504242547, 0.39056673294247163, 0.36034402369794577, 0.43629152802035903, 0.4753504624839011, 0.448588935278401, 0.45226046165467776, 0.4971996832111851, 0.4464206629693032, 0.5274770020923482, 0.5435459628972305, 0.600197329138212, 0.6401230800537345, 0.4576652699022853, 0.5449883505954141, 0.5685107034080386, 0.47387910220727386, 0.5067602388992434, 0.45503282433315145, 0.5385951347456035, 0.5676103987177575, 0.5245161937053464, 0.46869550819847183, 0.5482020553936748, 0.45654335620115044, 0.484716422907286, 0.5066373309184555, 0.5095438042387856, 0.499566536546176, 0.48220312400352655, 0.61374794424499, 0.5422942458232916, 0.5202691111621465, 0.5820939546722681, 0.6417213118295253, 0.5767572025008013, 0.5665097563009409, 0.6469037799967262, 0.630469524367311, 0.580605833100368, 0.6492718111174852, 0.5592479869177165, 0.6583872803732274, 0.6700669914349802, 0.6911765308445776, 0.6705544221960523, 0.5704179798580922, 0.605517357478588, 0.664041418470143, 0.616522179469809, 0.6110747600782916, 0.6034859279107283, 0.6486069908481702, 0.7086476219278445], \"z\": [0.22808577638091165, 0.1507081077909985, 0.04489127034465819, 0.1970853816032442, 0.23749760854306534, 0.29530205277576554, 0.6509445549041193, 0.4543468124887142, 0.6362584783630235, 0.09507009249678022, 0.2242944676392005, 0.5168690990339174, 0.5314893165360943, 0.05952275506257376, 0.06393660631422403, 0.23059525698670383, 0.300098664569106, 0.4498162184161378, 0.4215338012257891, 0.5030661697803822, 0.4081615306519251, 0.6515837655350015, 0.6274174386371585, 0.6349295223253276, 0.563646071245399, 0.5412099150564665, 0.5960411292106209, 0.4899998494802206, 0.5482020553936748, 0.5557919118970527, 0.5362819998123164, 0.6359915430678484, 0.5413902920037097, 0.499566536546176, 0.5412484044937543, 0.5260696664957057, 0.5314483609068257, 0.5827014045016041, 0.5066373309184555, 0.49911657586740854, 0.5447151356952012, 0.43012777793219586, 0.5271067837010361, 0.53706663186845, 0.5907919003477428, 0.5149397122655918, 0.5213328691605832, 0.5376829456381357, 0.5248858099574012, 0.47589203763069277, 0.5191389075066212, 0.5428171098649587, 0.4805693313322127, 0.48485563888296157, 0.42080085265399664, 0.4655807695834603, 0.49811536906917253, 0.42907847086878953, 0.45480369765518375]}, {\"marker\": {\"line\": {\"width\": 1}, \"size\": 8}, \"mode\": \"markers\", \"name\": \"Cluster 0\", \"type\": \"scatter3d\", \"x\": [0.39360517815797497, 0.3018450067480046, 0.40080351204379094, 0.4472135954999579, 0.4713772711872174, 0.41080252783529914, 0.4096717546518834, 0.3658684374898035, 0.2561493793547083, 0.2302965555960349, 0.5271809323730215, 0.24235797938683576, 0.43004382554678733, 0.3222920373586763, 0.5111656508223583, 0.4843594796964828, 0.29330913524973357, 0.4421894195198187, 0.25837471468394674, 0.2676169317078552, 0.377312247375704, 0.2993255063983847, 0.5059079592516773, 0.4873993516923039, 0.49415414399847485, 0.40561610125071507, 0.32317606024211737, 0.28549913139769445, 0.3195809844425358, 0.3453118840627692, 0.3532776814491115, 0.29310571493700416, 0.24585101090503989, 0.2960679368817967, 0.3210468782323194, 0.25872157716507355, 0.266954167981901, 0.22052029913868892, 0.28703303578758654, 0.2745150993393978, 0.31479263578458255, 0.32945225045174753, 0.22243515732164576, 0.262431940540739, 0.2703580559876548, 0.2453489770416717, 0.24377729587331026, 0.30268135807189567, 0.24938530941662734, 0.2734738154763058, 0.23687491569557453, 0.2610632111626295, 0.2115510666578582], \"y\": [0.4951807080051943, 0.49049813596550745, 0.5937829808056162, 0.6168463386206317, 0.6082287370157644, 0.5228395808812898, 0.5682543693558382, 0.6233314120196652, 0.6201511289640306, 0.6141241482560931, 0.5884810407884892, 0.6122727900299009, 0.645065738320181, 0.6693757698987892, 0.61339878098683, 0.6538852975902518, 0.6886388392819832, 0.6283744382650055, 0.6643921234730059, 0.6933711412430794, 0.6436503043467892, 0.7137762075653789, 0.6401284382368162, 0.6465501604081583, 0.6621665529579563, 0.6996877746574836, 0.5717730296591308, 0.6446754579947939, 0.5672562473855011, 0.645187993906753, 0.6431465482791517, 0.6807616604988483, 0.6188663377954452, 0.6754049810115988, 0.6787848282626182, 0.6063786964806411, 0.634016148957015, 0.6064308226313945, 0.6906732423638801, 0.6297699337786185, 0.6295852715691651, 0.6762440930325344, 0.6425904544847545, 0.6823230454059214, 0.7029309455679024, 0.6683644546997264, 0.6369664827657462, 0.7146643176697537, 0.6499132306009076, 0.660895054067739, 0.6948330860403519, 0.6936822468035584, 0.6981185199709321], \"z\": [0.7745134150850476, 0.8174968932758457, 0.6976950024465991, 0.6476886555516632, 0.6386401738665526, 0.7469136869732711, 0.7136217661677968, 0.6910848263696289, 0.7414850455004713, 0.7548609322314478, 0.6130010841546761, 0.7525853044117531, 0.6316268687718439, 0.6693757698987892, 0.6020395443018887, 0.5812313756357793, 0.6631336970863542, 0.6400110019365797, 0.7013027969992841, 0.669042329269638, 0.6658451424277129, 0.6331885712273522, 0.5781805248590598, 0.5868686071397129, 0.5633357241582613, 0.5881433468135369, 0.754077473898274, 0.7091430037942733, 0.7590048380510225, 0.6815366132817813, 0.6793801566329067, 0.6713066374363644, 0.7460306537808107, 0.6754049810115988, 0.6604392923636285, 0.751909583635995, 0.7257816442007934, 0.7639453220161723, 0.6637638952587939, 0.7266576158984058, 0.7103013320267503, 0.6589045009034951, 0.733212185245425, 0.6823230454059214, 0.6578712695699599, 0.7022056929123707, 0.7313318876199307, 0.6305861626497827, 0.7179274058963514, 0.6988775284394482, 0.6790414249939803, 0.6713054001324759, 0.6840151155270748]}, {\"marker\": {\"line\": {\"width\": 1}, \"size\": 8}, \"mode\": \"markers\", \"name\": \"Cluster 1\", \"type\": \"scatter3d\", \"x\": [0.24302144758916638, 0.48507125007266594, 0.40037552816907873, 0.2893456933022473, 0.3267271374493981, 0.24765072198184565, 0.295601496049104, 0.2700085412216009, 0.22320526577729943, 0.4446345583408636, 0.23435368392848113, 0.21743634501273407, 0.22571115699066566, 0.295404106785876, 0.43782404888617954, 0.2904651716625649, 0.477336004426002, 0.6346287682519601, 0.5489290922099601, 0.29955698325493646, 0.26366049730292496, 0.5144879393721155, 0.2465869429454735, 0.6042327382166589, 0.30996520993903337, 0.30546920671260264, 0.49171966140998236, 0.3868635248329748, 0.4742198396700182, 0.4795088540294502, 0.5083235136002332, 0.4285554573026708, 0.39955782769405523, 0.5438687769648606, 0.22795805957520232, 0.4902667678943446, 0.42955654860784376, 0.3675383350990133, 0.2855095133549977, 0.41393586457153253, 0.23682934468380903, 0.3802133431114401, 0.5046641270528651, 0.544823145408073, 0.2347027612250088, 0.5314237136169695, 0.34058374681589454, 0.23965499535472734, 0.42088626617909897, 0.21502729242839574, 0.3595523035048248, 0.4614710442927705, 0.22411477615561334, 0.3655617924777757, 0.2602825277460424, 0.3066424757577331, 0.24992374096152994, 0.2796811039319006, 0.25336711786816823, 0.36191341818872363, 0.23669188723573936, 0.3292046512962847, 0.21392362618594385, 0.2256152078236138, 0.18408719125181047], \"y\": [0.7965703004311565, 0.7276068751089989, 0.7507041153170226, 0.7233642332556182, 0.7260603054431068, 0.7553347020446293, 0.7968388154367152, 0.7971680740828218, 0.740101670735256, 0.7488582035214544, 0.7894018827064628, 0.7851868014348731, 0.7721697475996457, 0.7330398205427292, 0.7719529282993166, 0.8840244354947628, 0.7881594491685149, 0.7637058058625282, 0.8292333095086631, 0.862724111774217, 0.9623608151556762, 0.8535822630491916, 0.9603912514718442, 0.795043076600867, 0.8413341412630906, 0.940845156674816, 0.7888002901785134, 0.8875104393227069, 0.8602127324246841, 0.8500384230522072, 0.8436007246982593, 0.9034412343137384, 0.9166326635334209, 0.7672434532182856, 0.9718212013469151, 0.8334535054203858, 0.8795681709589181, 0.8882176431559489, 0.7762289894339, 0.9003105054430833, 0.7358626066961209, 0.9188489125193136, 0.8540469842433102, 0.8266282206191453, 0.764957147696325, 0.8376678875657315, 0.8928817146254533, 0.7264542046690172, 0.8966707409902542, 0.7266439537235443, 0.8681872694384793, 0.8631217680290708, 0.808414013989891, 0.9183625518344122, 0.7446972321622879, 0.928946323619015, 0.8044420412199245, 0.9576959013425687, 0.753433797871132, 0.9240342592052518, 0.8115150419511064, 0.9217730236295971, 0.8423242781071539, 0.9659151084948466, 0.8406648400499345], \"z\": [0.5535488528419901, 0.48507125007266594, 0.5254928807219158, 0.6269156688215358, 0.6050502545359224, 0.6067442688555218, 0.5269417973049245, 0.5400170824432018, 0.6343728606302194, 0.49143819606095446, 0.5673826031952701, 0.5798302533672909, 0.5939767289228044, 0.6126899992595946, 0.46086741988018903, 0.36623869470497317, 0.38852930592814117, 0.11832061780968747, 0.10511408148701365, 0.4073974972267136, 0.06591512432573124, 0.08185035399101838, 0.12978260155024923, 0.053002871773391136, 0.4428074427700477, 0.14662521922204927, 0.36878974605748677, 0.25032345724486604, 0.18748226219512346, 0.21795857001338648, 0.17304630250220704, 0.01158257992709921, 0.011751700814531037, 0.3399179856030379, 0.05998896304610587, 0.2549387193050592, 0.20455073743230656, 0.27565375132425995, 0.5620968544176517, 0.13452915598574808, 0.6343643161173457, 0.10561481753095558, 0.12616603176321628, 0.14090253760553612, 0.5997959453528002, 0.12610054221419614, 0.294558916165098, 0.6440728000158298, 0.13724552158014097, 0.652496611506856, 0.34201316674849186, 0.20509824190789802, 0.5442787420922038, 0.15157440175907774, 0.6145559682892667, 0.20743461595376064, 0.538898066448299, 0.0678014797410668, 0.6067475717369293, 0.12320456789403358, 0.5342474026178117, 0.20483844969546602, 0.4946983855549952, 0.12690855440078277, 0.5093078957966756]}],\n",
              "                        {\"autosize\": true, \"font\": {\"color\": \"black\", \"family\": \"Gilroy\", \"size\": 12}, \"height\": 600, \"scene\": {\"xaxis\": {\"title\": {\"font\": {\"color\": \"black\"}, \"text\": \"x\"}}, \"yaxis\": {\"title\": {\"font\": {\"color\": \"black\"}, \"text\": \"y\"}}, \"zaxis\": {\"title\": {\"font\": {\"color\": \"black\"}, \"text\": \"z\"}}}, \"showlegend\": true, \"template\": {\"data\": {\"bar\": [{\"error_x\": {\"color\": \"#2a3f5f\"}, \"error_y\": {\"color\": \"#2a3f5f\"}, \"marker\": {\"line\": {\"color\": \"#E5ECF6\", \"width\": 0.5}}, \"type\": \"bar\"}], \"barpolar\": [{\"marker\": {\"line\": {\"color\": \"#E5ECF6\", \"width\": 0.5}}, \"type\": \"barpolar\"}], \"carpet\": [{\"aaxis\": {\"endlinecolor\": \"#2a3f5f\", \"gridcolor\": \"white\", \"linecolor\": \"white\", \"minorgridcolor\": \"white\", \"startlinecolor\": \"#2a3f5f\"}, \"baxis\": {\"endlinecolor\": \"#2a3f5f\", \"gridcolor\": \"white\", \"linecolor\": \"white\", \"minorgridcolor\": \"white\", \"startlinecolor\": \"#2a3f5f\"}, \"type\": \"carpet\"}], \"choropleth\": [{\"colorbar\": {\"outlinewidth\": 0, \"ticks\": \"\"}, \"type\": \"choropleth\"}], \"contour\": [{\"colorbar\": {\"outlinewidth\": 0, \"ticks\": \"\"}, \"colorscale\": [[0.0, \"#0d0887\"], [0.1111111111111111, \"#46039f\"], [0.2222222222222222, \"#7201a8\"], [0.3333333333333333, \"#9c179e\"], [0.4444444444444444, \"#bd3786\"], [0.5555555555555556, \"#d8576b\"], [0.6666666666666666, \"#ed7953\"], [0.7777777777777778, \"#fb9f3a\"], [0.8888888888888888, \"#fdca26\"], [1.0, \"#f0f921\"]], \"type\": \"contour\"}], \"contourcarpet\": [{\"colorbar\": {\"outlinewidth\": 0, \"ticks\": \"\"}, \"type\": \"contourcarpet\"}], \"heatmap\": [{\"colorbar\": {\"outlinewidth\": 0, \"ticks\": \"\"}, \"colorscale\": [[0.0, \"#0d0887\"], [0.1111111111111111, \"#46039f\"], [0.2222222222222222, \"#7201a8\"], [0.3333333333333333, \"#9c179e\"], [0.4444444444444444, \"#bd3786\"], [0.5555555555555556, \"#d8576b\"], [0.6666666666666666, \"#ed7953\"], [0.7777777777777778, \"#fb9f3a\"], [0.8888888888888888, \"#fdca26\"], [1.0, \"#f0f921\"]], \"type\": \"heatmap\"}], \"heatmapgl\": [{\"colorbar\": {\"outlinewidth\": 0, \"ticks\": \"\"}, \"colorscale\": [[0.0, \"#0d0887\"], [0.1111111111111111, \"#46039f\"], [0.2222222222222222, \"#7201a8\"], [0.3333333333333333, \"#9c179e\"], [0.4444444444444444, \"#bd3786\"], [0.5555555555555556, \"#d8576b\"], [0.6666666666666666, \"#ed7953\"], [0.7777777777777778, \"#fb9f3a\"], [0.8888888888888888, \"#fdca26\"], [1.0, \"#f0f921\"]], \"type\": \"heatmapgl\"}], \"histogram\": [{\"marker\": {\"colorbar\": {\"outlinewidth\": 0, \"ticks\": \"\"}}, \"type\": \"histogram\"}], \"histogram2d\": [{\"colorbar\": {\"outlinewidth\": 0, \"ticks\": \"\"}, \"colorscale\": [[0.0, \"#0d0887\"], [0.1111111111111111, \"#46039f\"], [0.2222222222222222, \"#7201a8\"], [0.3333333333333333, \"#9c179e\"], [0.4444444444444444, \"#bd3786\"], [0.5555555555555556, \"#d8576b\"], [0.6666666666666666, \"#ed7953\"], [0.7777777777777778, \"#fb9f3a\"], [0.8888888888888888, \"#fdca26\"], [1.0, \"#f0f921\"]], \"type\": \"histogram2d\"}], \"histogram2dcontour\": [{\"colorbar\": {\"outlinewidth\": 0, \"ticks\": \"\"}, \"colorscale\": [[0.0, \"#0d0887\"], [0.1111111111111111, \"#46039f\"], [0.2222222222222222, \"#7201a8\"], [0.3333333333333333, \"#9c179e\"], [0.4444444444444444, \"#bd3786\"], [0.5555555555555556, \"#d8576b\"], [0.6666666666666666, \"#ed7953\"], [0.7777777777777778, \"#fb9f3a\"], [0.8888888888888888, \"#fdca26\"], [1.0, \"#f0f921\"]], \"type\": \"histogram2dcontour\"}], \"mesh3d\": [{\"colorbar\": {\"outlinewidth\": 0, \"ticks\": \"\"}, \"type\": \"mesh3d\"}], \"parcoords\": [{\"line\": {\"colorbar\": {\"outlinewidth\": 0, \"ticks\": \"\"}}, \"type\": \"parcoords\"}], \"pie\": [{\"automargin\": true, \"type\": \"pie\"}], \"scatter\": [{\"marker\": {\"colorbar\": {\"outlinewidth\": 0, \"ticks\": \"\"}}, \"type\": \"scatter\"}], \"scatter3d\": [{\"line\": {\"colorbar\": {\"outlinewidth\": 0, \"ticks\": \"\"}}, \"marker\": {\"colorbar\": {\"outlinewidth\": 0, \"ticks\": \"\"}}, \"type\": \"scatter3d\"}], \"scattercarpet\": [{\"marker\": {\"colorbar\": {\"outlinewidth\": 0, \"ticks\": \"\"}}, \"type\": \"scattercarpet\"}], \"scattergeo\": [{\"marker\": {\"colorbar\": {\"outlinewidth\": 0, \"ticks\": \"\"}}, \"type\": \"scattergeo\"}], \"scattergl\": [{\"marker\": {\"colorbar\": {\"outlinewidth\": 0, \"ticks\": \"\"}}, \"type\": \"scattergl\"}], \"scattermapbox\": [{\"marker\": {\"colorbar\": {\"outlinewidth\": 0, \"ticks\": \"\"}}, \"type\": \"scattermapbox\"}], \"scatterpolar\": [{\"marker\": {\"colorbar\": {\"outlinewidth\": 0, \"ticks\": \"\"}}, \"type\": \"scatterpolar\"}], \"scatterpolargl\": [{\"marker\": {\"colorbar\": {\"outlinewidth\": 0, \"ticks\": \"\"}}, \"type\": \"scatterpolargl\"}], \"scatterternary\": [{\"marker\": {\"colorbar\": {\"outlinewidth\": 0, \"ticks\": \"\"}}, \"type\": \"scatterternary\"}], \"surface\": [{\"colorbar\": {\"outlinewidth\": 0, \"ticks\": \"\"}, \"colorscale\": [[0.0, \"#0d0887\"], [0.1111111111111111, \"#46039f\"], [0.2222222222222222, \"#7201a8\"], [0.3333333333333333, \"#9c179e\"], [0.4444444444444444, \"#bd3786\"], [0.5555555555555556, \"#d8576b\"], [0.6666666666666666, \"#ed7953\"], [0.7777777777777778, \"#fb9f3a\"], [0.8888888888888888, \"#fdca26\"], [1.0, \"#f0f921\"]], \"type\": \"surface\"}], \"table\": [{\"cells\": {\"fill\": {\"color\": \"#EBF0F8\"}, \"line\": {\"color\": \"white\"}}, \"header\": {\"fill\": {\"color\": \"#C8D4E3\"}, \"line\": {\"color\": \"white\"}}, \"type\": \"table\"}]}, \"layout\": {\"annotationdefaults\": {\"arrowcolor\": \"#2a3f5f\", \"arrowhead\": 0, \"arrowwidth\": 1}, \"coloraxis\": {\"colorbar\": {\"outlinewidth\": 0, \"ticks\": \"\"}}, \"colorscale\": {\"diverging\": [[0, \"#8e0152\"], [0.1, \"#c51b7d\"], [0.2, \"#de77ae\"], [0.3, \"#f1b6da\"], [0.4, \"#fde0ef\"], [0.5, \"#f7f7f7\"], [0.6, \"#e6f5d0\"], [0.7, \"#b8e186\"], [0.8, \"#7fbc41\"], [0.9, \"#4d9221\"], [1, \"#276419\"]], \"sequential\": [[0.0, \"#0d0887\"], [0.1111111111111111, \"#46039f\"], [0.2222222222222222, \"#7201a8\"], [0.3333333333333333, \"#9c179e\"], [0.4444444444444444, \"#bd3786\"], [0.5555555555555556, \"#d8576b\"], [0.6666666666666666, \"#ed7953\"], [0.7777777777777778, \"#fb9f3a\"], [0.8888888888888888, \"#fdca26\"], [1.0, \"#f0f921\"]], \"sequentialminus\": [[0.0, \"#0d0887\"], [0.1111111111111111, \"#46039f\"], [0.2222222222222222, \"#7201a8\"], [0.3333333333333333, \"#9c179e\"], [0.4444444444444444, \"#bd3786\"], [0.5555555555555556, \"#d8576b\"], [0.6666666666666666, \"#ed7953\"], [0.7777777777777778, \"#fb9f3a\"], [0.8888888888888888, \"#fdca26\"], [1.0, \"#f0f921\"]]}, \"colorway\": [\"#636efa\", \"#EF553B\", \"#00cc96\", \"#ab63fa\", \"#FFA15A\", \"#19d3f3\", \"#FF6692\", \"#B6E880\", \"#FF97FF\", \"#FECB52\"], \"font\": {\"color\": \"#2a3f5f\"}, \"geo\": {\"bgcolor\": \"white\", \"lakecolor\": \"white\", \"landcolor\": \"#E5ECF6\", \"showlakes\": true, \"showland\": true, \"subunitcolor\": \"white\"}, \"hoverlabel\": {\"align\": \"left\"}, \"hovermode\": \"closest\", \"mapbox\": {\"style\": \"light\"}, \"paper_bgcolor\": \"white\", \"plot_bgcolor\": \"#E5ECF6\", \"polar\": {\"angularaxis\": {\"gridcolor\": \"white\", \"linecolor\": \"white\", \"ticks\": \"\"}, \"bgcolor\": \"#E5ECF6\", \"radialaxis\": {\"gridcolor\": \"white\", \"linecolor\": \"white\", \"ticks\": \"\"}}, \"scene\": {\"xaxis\": {\"backgroundcolor\": \"#E5ECF6\", \"gridcolor\": \"white\", \"gridwidth\": 2, \"linecolor\": \"white\", \"showbackground\": true, \"ticks\": \"\", \"zerolinecolor\": \"white\"}, \"yaxis\": {\"backgroundcolor\": \"#E5ECF6\", \"gridcolor\": \"white\", \"gridwidth\": 2, \"linecolor\": \"white\", \"showbackground\": true, \"ticks\": \"\", \"zerolinecolor\": \"white\"}, \"zaxis\": {\"backgroundcolor\": \"#E5ECF6\", \"gridcolor\": \"white\", \"gridwidth\": 2, \"linecolor\": \"white\", \"showbackground\": true, \"ticks\": \"\", \"zerolinecolor\": \"white\"}}, \"shapedefaults\": {\"line\": {\"color\": \"#2a3f5f\"}}, \"ternary\": {\"aaxis\": {\"gridcolor\": \"white\", \"linecolor\": \"white\", \"ticks\": \"\"}, \"baxis\": {\"gridcolor\": \"white\", \"linecolor\": \"white\", \"ticks\": \"\"}, \"bgcolor\": \"#E5ECF6\", \"caxis\": {\"gridcolor\": \"white\", \"linecolor\": \"white\", \"ticks\": \"\"}}, \"title\": {\"x\": 0.05}, \"xaxis\": {\"automargin\": true, \"gridcolor\": \"white\", \"linecolor\": \"white\", \"ticks\": \"\", \"title\": {\"standoff\": 15}, \"zerolinecolor\": \"white\", \"zerolinewidth\": 2}, \"yaxis\": {\"automargin\": true, \"gridcolor\": \"white\", \"linecolor\": \"white\", \"ticks\": \"\", \"title\": {\"standoff\": 15}, \"zerolinecolor\": \"white\", \"zerolinewidth\": 2}}}, \"width\": 600},\n",
              "                        {\"responsive\": true}\n",
              "                    ).then(function(){\n",
              "                            \n",
              "var gd = document.getElementById('6a1bf99c-8ebc-4222-b777-76e1df07f148');\n",
              "var x = new MutationObserver(function (mutations, observer) {{\n",
              "        var display = window.getComputedStyle(gd).display;\n",
              "        if (!display || display === 'none') {{\n",
              "            console.log([gd, 'removed!']);\n",
              "            Plotly.purge(gd);\n",
              "            observer.disconnect();\n",
              "        }}\n",
              "}});\n",
              "\n",
              "// Listen for the removal of the full notebook cells\n",
              "var notebookContainer = gd.closest('#notebook-container');\n",
              "if (notebookContainer) {{\n",
              "    x.observe(notebookContainer, {childList: true});\n",
              "}}\n",
              "\n",
              "// Listen for the clearing of the current output cell\n",
              "var outputEl = gd.closest('.output');\n",
              "if (outputEl) {{\n",
              "    x.observe(outputEl, {childList: true});\n",
              "}}\n",
              "\n",
              "                        })\n",
              "                };\n",
              "                \n",
              "            </script>\n",
              "        </div>\n",
              "</body>\n",
              "</html>"
            ]
          },
          "metadata": {
            "tags": []
          }
        }
      ]
    },
    {
      "cell_type": "markdown",
      "metadata": {
        "id": "9JAtfAj6V0BS"
      },
      "source": [
        "Finally, you have to check whether the number of clusters you decided to form agree with the ones from the elbow method (for similarity and silhouette)."
      ]
    },
    {
      "cell_type": "code",
      "metadata": {
        "colab": {
          "base_uri": "https://localhost:8080/",
          "height": 404
        },
        "id": "KCisWvsLV0BS",
        "outputId": "eefe3c61-837b-4cd0-e990-34d94e58ed48"
      },
      "source": [
        "# Elbow Method\n",
        "\n",
        "import matplotlib.pyplot as plt\n",
        "import numpy as np\n",
        "data = df.to_numpy()\n",
        "wcss = []\n",
        "for n in range(2 , 11): # Amount of values to be tested for K\n",
        "    algorithm = (KMeans(n_clusters = n))\n",
        "    algorithm.fit(data)\n",
        "    wcss.append(algorithm.inertia_)\n",
        "plt.figure(figsize = (15 ,6))\n",
        "plt.plot(np.arange(2 , 11) , wcss , 'o', color='tab:blue')\n",
        "plt.plot(np.arange(2 , 11) , wcss , '-')\n",
        "plt.xlabel('K') , plt.ylabel('WCSS')\n",
        "plt.axvline(x=4 , c='r')\n",
        "plt.title('Elbow Method')\n",
        "plt.show()"
      ],
      "execution_count": null,
      "outputs": [
        {
          "output_type": "display_data",
          "data": {
            "image/png": "[encoded data removed]",
            "text/plain": [
              "<Figure size 1080x432 with 1 Axes>"
            ]
          },
          "metadata": {
            "tags": [],
            "needs_background": "light"
          }
        }
      ]
    },
    {
      "cell_type": "code",
      "metadata": {
        "id": "qboXg7HzpW_B",
        "colab": {
          "base_uri": "https://localhost:8080/",
          "height": 444
        },
        "outputId": "a208d8e1-59cb-4fa5-f5a6-b8aebee9997d"
      },
      "source": [
        "# Dendogram \n",
        "\n",
        "import scipy.cluster.hierarchy as shc\n",
        "plt.figure(figsize=(10, 7))\n",
        "plt.title(\"Dendogram\")\n",
        "plt.axhline(y=1.2 , color='k')\n",
        "plt.ylabel('Euclidean Distance')\n",
        "dend = shc.dendrogram(shc.linkage(df, method='complete'))\n",
        "\n",
        "# Hierarchical Clustering\n",
        "\n",
        "from sklearn.cluster import AgglomerativeClustering\n",
        "K=5\n",
        "cluster = AgglomerativeClustering(n_clusters=K, affinity='euclidean', linkage='complete')\n",
        "# cluster.fit_predict(df)"
      ],
      "execution_count": null,
      "outputs": [
        {
          "output_type": "display_data",
          "data": {
            "image/png": "[encoded data removed]",
            "text/plain": [
              "<Figure size 720x504 with 1 Axes>"
            ]
          },
          "metadata": {
            "tags": [],
            "needs_background": "light"
          }
        }
      ]
    },
    {
      "cell_type": "code",
      "metadata": {
        "colab": {
          "base_uri": "https://localhost:8080/",
          "height": 407
        },
        "id": "Jw7F_pI2ZUpU",
        "outputId": "7ad7eed3-436f-4d52-df6c-d2b745c66922"
      },
      "source": [
        "# Silhouette Method\n",
        "\n",
        "import scipy.cluster.hierarchy as sch # Dendograma\n",
        "from sklearn.metrics import silhouette_score \n",
        "range_of_clusters=range(2,11)\n",
        "scores=[]\n",
        "for k in range_of_clusters:\n",
        "    km = KMeans(n_clusters=k,init = 'random', n_init = 10 ,max_iter=500, tol=0.0001)\n",
        "    km.fit(data)\n",
        "    scores.append(silhouette_score(data , km.labels_))\n",
        "    \n",
        "# ploting\n",
        "plt.figure(figsize=(15,6)) \n",
        "plt.plot(range_of_clusters , scores , marker='o' )\n",
        "plt.axvline(x=4 , c='r')\n",
        "plt.title(\"Silhouette method 1\" , fontweight='bold')"
      ],
      "execution_count": null,
      "outputs": [
        {
          "output_type": "execute_result",
          "data": {
            "text/plain": [
              "Text(0.5, 1.0, 'Silhouette method 1')"
            ]
          },
          "metadata": {
            "tags": []
          },
          "execution_count": 96
        },
        {
          "output_type": "display_data",
          "data": {
            "image/png": "[encoded data removed]",
            "text/plain": [
              "<Figure size 1080x432 with 1 Axes>"
            ]
          },
          "metadata": {
            "tags": [],
            "needs_background": "light"
          }
        }
      ]
    },
    {
      "cell_type": "markdown",
      "metadata": {
        "id": "ViBREpcEg9NG"
      },
      "source": [
        "\n",
        "Final result"
      ]
    },
    {
      "cell_type": "code",
      "metadata": {
        "colab": {
          "base_uri": "https://localhost:8080/",
          "height": 617
        },
        "id": "KqYXwV6eZYbW",
        "outputId": "82c4f020-cef0-4043-98e6-f7dc0ca5d5d2"
      },
      "source": [
        "kmeans(df, 4,init = 'k-means++', n_init = 1000 ,max_iter=1000, tol=0.0001)\n",
        "plot_kmeans(df)"
      ],
      "execution_count": null,
      "outputs": [
        {
          "output_type": "display_data",
          "data": {
            "text/html": [
              "<html>\n",
              "<head><meta charset=\"utf-8\" /></head>\n",
              "<body>\n",
              "    <div>\n",
              "            <script src=\"https://cdnjs.cloudflare.com/ajax/libs/mathjax/2.7.5/MathJax.js?config=TeX-AMS-MML_SVG\"></script><script type=\"text/javascript\">if (window.MathJax) {MathJax.Hub.Config({SVG: {font: \"STIX-Web\"}});}</script>\n",
              "                <script type=\"text/javascript\">window.PlotlyConfig = {MathJaxConfig: 'local'};</script>\n",
              "        <script src=\"https://cdn.plot.ly/plotly-latest.min.js\"></script>    \n",
              "            <div id=\"7fee8c2c-9bd5-48bb-81a5-7faf8348f7ea\" class=\"plotly-graph-div\" style=\"height:600px; width:600px;\"></div>\n",
              "            <script type=\"text/javascript\">\n",
              "                \n",
              "                    window.PLOTLYENV=window.PLOTLYENV || {};\n",
              "                    \n",
              "                if (document.getElementById(\"7fee8c2c-9bd5-48bb-81a5-7faf8348f7ea\")) {\n",
              "                    Plotly.newPlot(\n",
              "                        '7fee8c2c-9bd5-48bb-81a5-7faf8348f7ea',\n",
              "                        [{\"marker\": {\"line\": {\"width\": 1}, \"size\": 8}, \"mode\": \"markers\", \"name\": \"Cluster 3\", \"type\": \"scatter3d\", \"x\": [0.4139246909027841, 0.24702463563420493, 0.28069660994298146, 0.5806832031806503, 0.27185366079467044, 0.233662144408083, 0.3736885524237636, 0.3279921004388584, 0.28882142091412805, 0.2606335062140006, 0.27743013758273716, 0.3284105591080858, 0.3093737190020968, 0.37279115676935987, 0.317380885407937, 0.462371155582649, 0.24326709409463318, 0.25713214798860795, 0.18111731788793334, 0.2334630710877745, 0.34909691014722527, 0.23258958968575236, 0.2343946720092216], \"y\": [0.3267826507127243, 0.17644616831014637, 0.19526720691685664, 0.318439175937776, 0.21006873788679079, 0.18286602605849975, 0.23666941653505028, 0.1780528545239517, 0.24068451742844002, 0.23693955110363693, 0.291301644461874, 0.21581265312817066, 0.29699877024201293, 0.3006380296527096, 0.3064367169455943, 0.3698969244661192, 0.3067280751627984, 0.36733163998372564, 0.3320484161278778, 0.3668705402807885, 0.39564316483352197, 0.4302907409186419, 0.3711248973479342], \"z\": [0.8496348918530832, 0.9528093088747904, 0.9397234332873726, 0.7492686492653552, 0.9391308281997706, 0.9549670249721653, 0.8968525258170326, 0.9277490840984852, 0.9266353920994941, 0.9359112268593659, 0.9155194540230326, 0.9195495655026402, 0.9033712594861226, 0.877863046585912, 0.8974218139120977, 0.8058468711583312, 0.9201842254883951, 0.893840323960399, 0.9257107358716593, 0.9005004170528446, 0.8494691480249148, 0.8722109613215714, 0.8985129093686828]}, {\"marker\": {\"line\": {\"width\": 1}, \"size\": 8}, \"mode\": \"markers\", \"name\": \"Cluster 1\", \"type\": \"scatter3d\", \"x\": [0.7602859212697055, 0.8791306287808246, 0.9576804340193746, 0.9431943262440974, 0.9183240863665194, 0.8404750732848711, 0.6509445549041193, 0.81469083618666, 0.6362584783630235, 0.874644850970378, 0.8651358037512019, 0.7268471705164464, 0.6857926664981863, 0.8928413259386064, 0.8471600336634683, 0.8070833994534634, 0.7414202301119089, 0.6228224562684984, 0.7828484879907511, 0.6707548930405096, 0.7142826786408689, 0.5923488777590923, 0.591220278715784, 0.6243473636199055, 0.6262734124948878, 0.6204113660403396, 0.6079619517948334, 0.7349997742203309, 0.6316241073014079, 0.694739889871316, 0.6909787305274077, 0.5820939546722681, 0.6687762430634061, 0.7077192601070826, 0.6888616057193236, 0.5886970077451945, 0.6507530949879499, 0.6243229333945758, 0.6359915430678484, 0.5823026718453099, 0.6087992693064014, 0.7028917346696859, 0.5510661829601742, 0.5604173549931653, 0.5602336986056181, 0.5597170785495563, 0.6445570018712665, 0.5267098242985818, 0.5248858099574012, 0.5438766144350775, 0.529954301413009, 0.616419429846648, 0.6343515173585208, 0.569178358688694, 0.6654525111737621, 0.640173558177258, 0.6226442113364656, 0.6286498526682265, 0.5394183390794041], \"y\": [0.6082287370157644, 0.45212432337299546, 0.28431137884950186, 0.2674730178901172, 0.31666347805742046, 0.4543108504242547, 0.39056673294247163, 0.36034402369794577, 0.43629152802035903, 0.4753504624839011, 0.448588935278401, 0.45226046165467776, 0.4971996832111851, 0.4464206629693032, 0.5274770020923482, 0.5435459628972305, 0.600197329138212, 0.6401230800537345, 0.4576652699022853, 0.5449883505954141, 0.5685107034080386, 0.47387910220727386, 0.5067602388992434, 0.45503282433315145, 0.5385951347456035, 0.5676103987177575, 0.5245161937053464, 0.46869550819847183, 0.5482020553936748, 0.45654335620115044, 0.484716422907286, 0.5066373309184555, 0.5095438042387856, 0.499566536546176, 0.48220312400352655, 0.61374794424499, 0.5422942458232916, 0.5202691111621465, 0.5820939546722681, 0.6417213118295253, 0.5767572025008013, 0.5665097563009409, 0.6469037799967262, 0.630469524367311, 0.580605833100368, 0.6492718111174852, 0.5592479869177165, 0.6583872803732274, 0.6700669914349802, 0.6911765308445776, 0.6705544221960523, 0.5704179798580922, 0.605517357478588, 0.664041418470143, 0.616522179469809, 0.6110747600782916, 0.6034859279107283, 0.6486069908481702, 0.7086476219278445], \"z\": [0.22808577638091165, 0.1507081077909985, 0.04489127034465819, 0.1970853816032442, 0.23749760854306534, 0.29530205277576554, 0.6509445549041193, 0.4543468124887142, 0.6362584783630235, 0.09507009249678022, 0.2242944676392005, 0.5168690990339174, 0.5314893165360943, 0.05952275506257376, 0.06393660631422403, 0.23059525698670383, 0.300098664569106, 0.4498162184161378, 0.4215338012257891, 0.5030661697803822, 0.4081615306519251, 0.6515837655350015, 0.6274174386371585, 0.6349295223253276, 0.563646071245399, 0.5412099150564665, 0.5960411292106209, 0.4899998494802206, 0.5482020553936748, 0.5557919118970527, 0.5362819998123164, 0.6359915430678484, 0.5413902920037097, 0.499566536546176, 0.5412484044937543, 0.5260696664957057, 0.5314483609068257, 0.5827014045016041, 0.5066373309184555, 0.49911657586740854, 0.5447151356952012, 0.43012777793219586, 0.5271067837010361, 0.53706663186845, 0.5907919003477428, 0.5149397122655918, 0.5213328691605832, 0.5376829456381357, 0.5248858099574012, 0.47589203763069277, 0.5191389075066212, 0.5428171098649587, 0.4805693313322127, 0.48485563888296157, 0.42080085265399664, 0.4655807695834603, 0.49811536906917253, 0.42907847086878953, 0.45480369765518375]}, {\"marker\": {\"line\": {\"width\": 1}, \"size\": 8}, \"mode\": \"markers\", \"name\": \"Cluster 0\", \"type\": \"scatter3d\", \"x\": [0.39360517815797497, 0.3018450067480046, 0.40080351204379094, 0.4472135954999579, 0.4713772711872174, 0.41080252783529914, 0.4096717546518834, 0.3658684374898035, 0.2561493793547083, 0.2302965555960349, 0.5271809323730215, 0.24235797938683576, 0.43004382554678733, 0.3222920373586763, 0.5111656508223583, 0.4843594796964828, 0.29330913524973357, 0.4421894195198187, 0.25837471468394674, 0.2676169317078552, 0.377312247375704, 0.2993255063983847, 0.5059079592516773, 0.4873993516923039, 0.49415414399847485, 0.40561610125071507, 0.32317606024211737, 0.28549913139769445, 0.3195809844425358, 0.3453118840627692, 0.3532776814491115, 0.29310571493700416, 0.24585101090503989, 0.2960679368817967, 0.3210468782323194, 0.25872157716507355, 0.266954167981901, 0.22052029913868892, 0.28703303578758654, 0.2745150993393978, 0.31479263578458255, 0.32945225045174753, 0.22243515732164576, 0.262431940540739, 0.2703580559876548, 0.2453489770416717, 0.24377729587331026, 0.30268135807189567, 0.24938530941662734, 0.2734738154763058, 0.23687491569557453, 0.2610632111626295, 0.2115510666578582], \"y\": [0.4951807080051943, 0.49049813596550745, 0.5937829808056162, 0.6168463386206317, 0.6082287370157644, 0.5228395808812898, 0.5682543693558382, 0.6233314120196652, 0.6201511289640306, 0.6141241482560931, 0.5884810407884892, 0.6122727900299009, 0.645065738320181, 0.6693757698987892, 0.61339878098683, 0.6538852975902518, 0.6886388392819832, 0.6283744382650055, 0.6643921234730059, 0.6933711412430794, 0.6436503043467892, 0.7137762075653789, 0.6401284382368162, 0.6465501604081583, 0.6621665529579563, 0.6996877746574836, 0.5717730296591308, 0.6446754579947939, 0.5672562473855011, 0.645187993906753, 0.6431465482791517, 0.6807616604988483, 0.6188663377954452, 0.6754049810115988, 0.6787848282626182, 0.6063786964806411, 0.634016148957015, 0.6064308226313945, 0.6906732423638801, 0.6297699337786185, 0.6295852715691651, 0.6762440930325344, 0.6425904544847545, 0.6823230454059214, 0.7029309455679024, 0.6683644546997264, 0.6369664827657462, 0.7146643176697537, 0.6499132306009076, 0.660895054067739, 0.6948330860403519, 0.6936822468035584, 0.6981185199709321], \"z\": [0.7745134150850476, 0.8174968932758457, 0.6976950024465991, 0.6476886555516632, 0.6386401738665526, 0.7469136869732711, 0.7136217661677968, 0.6910848263696289, 0.7414850455004713, 0.7548609322314478, 0.6130010841546761, 0.7525853044117531, 0.6316268687718439, 0.6693757698987892, 0.6020395443018887, 0.5812313756357793, 0.6631336970863542, 0.6400110019365797, 0.7013027969992841, 0.669042329269638, 0.6658451424277129, 0.6331885712273522, 0.5781805248590598, 0.5868686071397129, 0.5633357241582613, 0.5881433468135369, 0.754077473898274, 0.7091430037942733, 0.7590048380510225, 0.6815366132817813, 0.6793801566329067, 0.6713066374363644, 0.7460306537808107, 0.6754049810115988, 0.6604392923636285, 0.751909583635995, 0.7257816442007934, 0.7639453220161723, 0.6637638952587939, 0.7266576158984058, 0.7103013320267503, 0.6589045009034951, 0.733212185245425, 0.6823230454059214, 0.6578712695699599, 0.7022056929123707, 0.7313318876199307, 0.6305861626497827, 0.7179274058963514, 0.6988775284394482, 0.6790414249939803, 0.6713054001324759, 0.6840151155270748]}, {\"marker\": {\"line\": {\"width\": 1}, \"size\": 8}, \"mode\": \"markers\", \"name\": \"Cluster 2\", \"type\": \"scatter3d\", \"x\": [0.24302144758916638, 0.48507125007266594, 0.40037552816907873, 0.2893456933022473, 0.3267271374493981, 0.24765072198184565, 0.295601496049104, 0.2700085412216009, 0.22320526577729943, 0.4446345583408636, 0.23435368392848113, 0.21743634501273407, 0.22571115699066566, 0.295404106785876, 0.43782404888617954, 0.2904651716625649, 0.477336004426002, 0.6346287682519601, 0.5489290922099601, 0.29955698325493646, 0.26366049730292496, 0.5144879393721155, 0.2465869429454735, 0.6042327382166589, 0.30996520993903337, 0.30546920671260264, 0.49171966140998236, 0.3868635248329748, 0.4742198396700182, 0.4795088540294502, 0.5083235136002332, 0.4285554573026708, 0.39955782769405523, 0.5438687769648606, 0.22795805957520232, 0.4902667678943446, 0.42955654860784376, 0.3675383350990133, 0.2855095133549977, 0.41393586457153253, 0.23682934468380903, 0.3802133431114401, 0.5046641270528651, 0.544823145408073, 0.2347027612250088, 0.5314237136169695, 0.34058374681589454, 0.23965499535472734, 0.42088626617909897, 0.21502729242839574, 0.3595523035048248, 0.4614710442927705, 0.22411477615561334, 0.3655617924777757, 0.2602825277460424, 0.3066424757577331, 0.24992374096152994, 0.2796811039319006, 0.25336711786816823, 0.36191341818872363, 0.23669188723573936, 0.3292046512962847, 0.21392362618594385, 0.2256152078236138, 0.18408719125181047], \"y\": [0.7965703004311565, 0.7276068751089989, 0.7507041153170226, 0.7233642332556182, 0.7260603054431068, 0.7553347020446293, 0.7968388154367152, 0.7971680740828218, 0.740101670735256, 0.7488582035214544, 0.7894018827064628, 0.7851868014348731, 0.7721697475996457, 0.7330398205427292, 0.7719529282993166, 0.8840244354947628, 0.7881594491685149, 0.7637058058625282, 0.8292333095086631, 0.862724111774217, 0.9623608151556762, 0.8535822630491916, 0.9603912514718442, 0.795043076600867, 0.8413341412630906, 0.940845156674816, 0.7888002901785134, 0.8875104393227069, 0.8602127324246841, 0.8500384230522072, 0.8436007246982593, 0.9034412343137384, 0.9166326635334209, 0.7672434532182856, 0.9718212013469151, 0.8334535054203858, 0.8795681709589181, 0.8882176431559489, 0.7762289894339, 0.9003105054430833, 0.7358626066961209, 0.9188489125193136, 0.8540469842433102, 0.8266282206191453, 0.764957147696325, 0.8376678875657315, 0.8928817146254533, 0.7264542046690172, 0.8966707409902542, 0.7266439537235443, 0.8681872694384793, 0.8631217680290708, 0.808414013989891, 0.9183625518344122, 0.7446972321622879, 0.928946323619015, 0.8044420412199245, 0.9576959013425687, 0.753433797871132, 0.9240342592052518, 0.8115150419511064, 0.9217730236295971, 0.8423242781071539, 0.9659151084948466, 0.8406648400499345], \"z\": [0.5535488528419901, 0.48507125007266594, 0.5254928807219158, 0.6269156688215358, 0.6050502545359224, 0.6067442688555218, 0.5269417973049245, 0.5400170824432018, 0.6343728606302194, 0.49143819606095446, 0.5673826031952701, 0.5798302533672909, 0.5939767289228044, 0.6126899992595946, 0.46086741988018903, 0.36623869470497317, 0.38852930592814117, 0.11832061780968747, 0.10511408148701365, 0.4073974972267136, 0.06591512432573124, 0.08185035399101838, 0.12978260155024923, 0.053002871773391136, 0.4428074427700477, 0.14662521922204927, 0.36878974605748677, 0.25032345724486604, 0.18748226219512346, 0.21795857001338648, 0.17304630250220704, 0.01158257992709921, 0.011751700814531037, 0.3399179856030379, 0.05998896304610587, 0.2549387193050592, 0.20455073743230656, 0.27565375132425995, 0.5620968544176517, 0.13452915598574808, 0.6343643161173457, 0.10561481753095558, 0.12616603176321628, 0.14090253760553612, 0.5997959453528002, 0.12610054221419614, 0.294558916165098, 0.6440728000158298, 0.13724552158014097, 0.652496611506856, 0.34201316674849186, 0.20509824190789802, 0.5442787420922038, 0.15157440175907774, 0.6145559682892667, 0.20743461595376064, 0.538898066448299, 0.0678014797410668, 0.6067475717369293, 0.12320456789403358, 0.5342474026178117, 0.20483844969546602, 0.4946983855549952, 0.12690855440078277, 0.5093078957966756]}],\n",
              "                        {\"autosize\": true, \"font\": {\"color\": \"black\", \"family\": \"Gilroy\", \"size\": 12}, \"height\": 600, \"scene\": {\"xaxis\": {\"title\": {\"font\": {\"color\": \"black\"}, \"text\": \"x\"}}, \"yaxis\": {\"title\": {\"font\": {\"color\": \"black\"}, \"text\": \"y\"}}, \"zaxis\": {\"title\": {\"font\": {\"color\": \"black\"}, \"text\": \"z\"}}}, \"showlegend\": true, \"template\": {\"data\": {\"bar\": [{\"error_x\": {\"color\": \"#2a3f5f\"}, \"error_y\": {\"color\": \"#2a3f5f\"}, \"marker\": {\"line\": {\"color\": \"#E5ECF6\", \"width\": 0.5}}, \"type\": \"bar\"}], \"barpolar\": [{\"marker\": {\"line\": {\"color\": \"#E5ECF6\", \"width\": 0.5}}, \"type\": \"barpolar\"}], \"carpet\": [{\"aaxis\": {\"endlinecolor\": \"#2a3f5f\", \"gridcolor\": \"white\", \"linecolor\": \"white\", \"minorgridcolor\": \"white\", \"startlinecolor\": \"#2a3f5f\"}, \"baxis\": {\"endlinecolor\": \"#2a3f5f\", \"gridcolor\": \"white\", \"linecolor\": \"white\", \"minorgridcolor\": \"white\", \"startlinecolor\": \"#2a3f5f\"}, \"type\": \"carpet\"}], \"choropleth\": [{\"colorbar\": {\"outlinewidth\": 0, \"ticks\": \"\"}, \"type\": \"choropleth\"}], \"contour\": [{\"colorbar\": {\"outlinewidth\": 0, \"ticks\": \"\"}, \"colorscale\": [[0.0, \"#0d0887\"], [0.1111111111111111, \"#46039f\"], [0.2222222222222222, \"#7201a8\"], [0.3333333333333333, \"#9c179e\"], [0.4444444444444444, \"#bd3786\"], [0.5555555555555556, \"#d8576b\"], [0.6666666666666666, \"#ed7953\"], [0.7777777777777778, \"#fb9f3a\"], [0.8888888888888888, \"#fdca26\"], [1.0, \"#f0f921\"]], \"type\": \"contour\"}], \"contourcarpet\": [{\"colorbar\": {\"outlinewidth\": 0, \"ticks\": \"\"}, \"type\": \"contourcarpet\"}], \"heatmap\": [{\"colorbar\": {\"outlinewidth\": 0, \"ticks\": \"\"}, \"colorscale\": [[0.0, \"#0d0887\"], [0.1111111111111111, \"#46039f\"], [0.2222222222222222, \"#7201a8\"], [0.3333333333333333, \"#9c179e\"], [0.4444444444444444, \"#bd3786\"], [0.5555555555555556, \"#d8576b\"], [0.6666666666666666, \"#ed7953\"], [0.7777777777777778, \"#fb9f3a\"], [0.8888888888888888, \"#fdca26\"], [1.0, \"#f0f921\"]], \"type\": \"heatmap\"}], \"heatmapgl\": [{\"colorbar\": {\"outlinewidth\": 0, \"ticks\": \"\"}, \"colorscale\": [[0.0, \"#0d0887\"], [0.1111111111111111, \"#46039f\"], [0.2222222222222222, \"#7201a8\"], [0.3333333333333333, \"#9c179e\"], [0.4444444444444444, \"#bd3786\"], [0.5555555555555556, \"#d8576b\"], [0.6666666666666666, \"#ed7953\"], [0.7777777777777778, \"#fb9f3a\"], [0.8888888888888888, \"#fdca26\"], [1.0, \"#f0f921\"]], \"type\": \"heatmapgl\"}], \"histogram\": [{\"marker\": {\"colorbar\": {\"outlinewidth\": 0, \"ticks\": \"\"}}, \"type\": \"histogram\"}], \"histogram2d\": [{\"colorbar\": {\"outlinewidth\": 0, \"ticks\": \"\"}, \"colorscale\": [[0.0, \"#0d0887\"], [0.1111111111111111, \"#46039f\"], [0.2222222222222222, \"#7201a8\"], [0.3333333333333333, \"#9c179e\"], [0.4444444444444444, \"#bd3786\"], [0.5555555555555556, \"#d8576b\"], [0.6666666666666666, \"#ed7953\"], [0.7777777777777778, \"#fb9f3a\"], [0.8888888888888888, \"#fdca26\"], [1.0, \"#f0f921\"]], \"type\": \"histogram2d\"}], \"histogram2dcontour\": [{\"colorbar\": {\"outlinewidth\": 0, \"ticks\": \"\"}, \"colorscale\": [[0.0, \"#0d0887\"], [0.1111111111111111, \"#46039f\"], [0.2222222222222222, \"#7201a8\"], [0.3333333333333333, \"#9c179e\"], [0.4444444444444444, \"#bd3786\"], [0.5555555555555556, \"#d8576b\"], [0.6666666666666666, \"#ed7953\"], [0.7777777777777778, \"#fb9f3a\"], [0.8888888888888888, \"#fdca26\"], [1.0, \"#f0f921\"]], \"type\": \"histogram2dcontour\"}], \"mesh3d\": [{\"colorbar\": {\"outlinewidth\": 0, \"ticks\": \"\"}, \"type\": \"mesh3d\"}], \"parcoords\": [{\"line\": {\"colorbar\": {\"outlinewidth\": 0, \"ticks\": \"\"}}, \"type\": \"parcoords\"}], \"pie\": [{\"automargin\": true, \"type\": \"pie\"}], \"scatter\": [{\"marker\": {\"colorbar\": {\"outlinewidth\": 0, \"ticks\": \"\"}}, \"type\": \"scatter\"}], \"scatter3d\": [{\"line\": {\"colorbar\": {\"outlinewidth\": 0, \"ticks\": \"\"}}, \"marker\": {\"colorbar\": {\"outlinewidth\": 0, \"ticks\": \"\"}}, \"type\": \"scatter3d\"}], \"scattercarpet\": [{\"marker\": {\"colorbar\": {\"outlinewidth\": 0, \"ticks\": \"\"}}, \"type\": \"scattercarpet\"}], \"scattergeo\": [{\"marker\": {\"colorbar\": {\"outlinewidth\": 0, \"ticks\": \"\"}}, \"type\": \"scattergeo\"}], \"scattergl\": [{\"marker\": {\"colorbar\": {\"outlinewidth\": 0, \"ticks\": \"\"}}, \"type\": \"scattergl\"}], \"scattermapbox\": [{\"marker\": {\"colorbar\": {\"outlinewidth\": 0, \"ticks\": \"\"}}, \"type\": \"scattermapbox\"}], \"scatterpolar\": [{\"marker\": {\"colorbar\": {\"outlinewidth\": 0, \"ticks\": \"\"}}, \"type\": \"scatterpolar\"}], \"scatterpolargl\": [{\"marker\": {\"colorbar\": {\"outlinewidth\": 0, \"ticks\": \"\"}}, \"type\": \"scatterpolargl\"}], \"scatterternary\": [{\"marker\": {\"colorbar\": {\"outlinewidth\": 0, \"ticks\": \"\"}}, \"type\": \"scatterternary\"}], \"surface\": [{\"colorbar\": {\"outlinewidth\": 0, \"ticks\": \"\"}, \"colorscale\": [[0.0, \"#0d0887\"], [0.1111111111111111, \"#46039f\"], [0.2222222222222222, \"#7201a8\"], [0.3333333333333333, \"#9c179e\"], [0.4444444444444444, \"#bd3786\"], [0.5555555555555556, \"#d8576b\"], [0.6666666666666666, \"#ed7953\"], [0.7777777777777778, \"#fb9f3a\"], [0.8888888888888888, \"#fdca26\"], [1.0, \"#f0f921\"]], \"type\": \"surface\"}], \"table\": [{\"cells\": {\"fill\": {\"color\": \"#EBF0F8\"}, \"line\": {\"color\": \"white\"}}, \"header\": {\"fill\": {\"color\": \"#C8D4E3\"}, \"line\": {\"color\": \"white\"}}, \"type\": \"table\"}]}, \"layout\": {\"annotationdefaults\": {\"arrowcolor\": \"#2a3f5f\", \"arrowhead\": 0, \"arrowwidth\": 1}, \"coloraxis\": {\"colorbar\": {\"outlinewidth\": 0, \"ticks\": \"\"}}, \"colorscale\": {\"diverging\": [[0, \"#8e0152\"], [0.1, \"#c51b7d\"], [0.2, \"#de77ae\"], [0.3, \"#f1b6da\"], [0.4, \"#fde0ef\"], [0.5, \"#f7f7f7\"], [0.6, \"#e6f5d0\"], [0.7, \"#b8e186\"], [0.8, \"#7fbc41\"], [0.9, \"#4d9221\"], [1, \"#276419\"]], \"sequential\": [[0.0, \"#0d0887\"], [0.1111111111111111, \"#46039f\"], [0.2222222222222222, \"#7201a8\"], [0.3333333333333333, \"#9c179e\"], [0.4444444444444444, \"#bd3786\"], [0.5555555555555556, \"#d8576b\"], [0.6666666666666666, \"#ed7953\"], [0.7777777777777778, \"#fb9f3a\"], [0.8888888888888888, \"#fdca26\"], [1.0, \"#f0f921\"]], \"sequentialminus\": [[0.0, \"#0d0887\"], [0.1111111111111111, \"#46039f\"], [0.2222222222222222, \"#7201a8\"], [0.3333333333333333, \"#9c179e\"], [0.4444444444444444, \"#bd3786\"], [0.5555555555555556, \"#d8576b\"], [0.6666666666666666, \"#ed7953\"], [0.7777777777777778, \"#fb9f3a\"], [0.8888888888888888, \"#fdca26\"], [1.0, \"#f0f921\"]]}, \"colorway\": [\"#636efa\", \"#EF553B\", \"#00cc96\", \"#ab63fa\", \"#FFA15A\", \"#19d3f3\", \"#FF6692\", \"#B6E880\", \"#FF97FF\", \"#FECB52\"], \"font\": {\"color\": \"#2a3f5f\"}, \"geo\": {\"bgcolor\": \"white\", \"lakecolor\": \"white\", \"landcolor\": \"#E5ECF6\", \"showlakes\": true, \"showland\": true, \"subunitcolor\": \"white\"}, \"hoverlabel\": {\"align\": \"left\"}, \"hovermode\": \"closest\", \"mapbox\": {\"style\": \"light\"}, \"paper_bgcolor\": \"white\", \"plot_bgcolor\": \"#E5ECF6\", \"polar\": {\"angularaxis\": {\"gridcolor\": \"white\", \"linecolor\": \"white\", \"ticks\": \"\"}, \"bgcolor\": \"#E5ECF6\", \"radialaxis\": {\"gridcolor\": \"white\", \"linecolor\": \"white\", \"ticks\": \"\"}}, \"scene\": {\"xaxis\": {\"backgroundcolor\": \"#E5ECF6\", \"gridcolor\": \"white\", \"gridwidth\": 2, \"linecolor\": \"white\", \"showbackground\": true, \"ticks\": \"\", \"zerolinecolor\": \"white\"}, \"yaxis\": {\"backgroundcolor\": \"#E5ECF6\", \"gridcolor\": \"white\", \"gridwidth\": 2, \"linecolor\": \"white\", \"showbackground\": true, \"ticks\": \"\", \"zerolinecolor\": \"white\"}, \"zaxis\": {\"backgroundcolor\": \"#E5ECF6\", \"gridcolor\": \"white\", \"gridwidth\": 2, \"linecolor\": \"white\", \"showbackground\": true, \"ticks\": \"\", \"zerolinecolor\": \"white\"}}, \"shapedefaults\": {\"line\": {\"color\": \"#2a3f5f\"}}, \"ternary\": {\"aaxis\": {\"gridcolor\": \"white\", \"linecolor\": \"white\", \"ticks\": \"\"}, \"baxis\": {\"gridcolor\": \"white\", \"linecolor\": \"white\", \"ticks\": \"\"}, \"bgcolor\": \"#E5ECF6\", \"caxis\": {\"gridcolor\": \"white\", \"linecolor\": \"white\", \"ticks\": \"\"}}, \"title\": {\"x\": 0.05}, \"xaxis\": {\"automargin\": true, \"gridcolor\": \"white\", \"linecolor\": \"white\", \"ticks\": \"\", \"title\": {\"standoff\": 15}, \"zerolinecolor\": \"white\", \"zerolinewidth\": 2}, \"yaxis\": {\"automargin\": true, \"gridcolor\": \"white\", \"linecolor\": \"white\", \"ticks\": \"\", \"title\": {\"standoff\": 15}, \"zerolinecolor\": \"white\", \"zerolinewidth\": 2}}}, \"width\": 600},\n",
              "                        {\"responsive\": true}\n",
              "                    ).then(function(){\n",
              "                            \n",
              "var gd = document.getElementById('7fee8c2c-9bd5-48bb-81a5-7faf8348f7ea');\n",
              "var x = new MutationObserver(function (mutations, observer) {{\n",
              "        var display = window.getComputedStyle(gd).display;\n",
              "        if (!display || display === 'none') {{\n",
              "            console.log([gd, 'removed!']);\n",
              "            Plotly.purge(gd);\n",
              "            observer.disconnect();\n",
              "        }}\n",
              "}});\n",
              "\n",
              "// Listen for the removal of the full notebook cells\n",
              "var notebookContainer = gd.closest('#notebook-container');\n",
              "if (notebookContainer) {{\n",
              "    x.observe(notebookContainer, {childList: true});\n",
              "}}\n",
              "\n",
              "// Listen for the clearing of the current output cell\n",
              "var outputEl = gd.closest('.output');\n",
              "if (outputEl) {{\n",
              "    x.observe(outputEl, {childList: true});\n",
              "}}\n",
              "\n",
              "                        })\n",
              "                };\n",
              "                \n",
              "            </script>\n",
              "        </div>\n",
              "</body>\n",
              "</html>"
            ]
          },
          "metadata": {
            "tags": []
          }
        }
      ]
    },
    {
      "cell_type": "code",
      "metadata": {
        "id": "A_cD3tDxgrkh"
      },
      "source": [
        ""
      ],
      "execution_count": null,
      "outputs": []
    }
  ]
}