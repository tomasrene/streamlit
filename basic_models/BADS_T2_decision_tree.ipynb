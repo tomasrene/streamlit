{
  "nbformat": 4,
  "nbformat_minor": 0,
  "metadata": {
    "colab": {
      "name": "BADS_T2_decision_tree",
      "provenance": [],
      "toc_visible": true
    },
    "kernelspec": {
      "name": "python3",
      "display_name": "Python 3"
    },
    "language_info": {
      "name": "python"
    }
  },
  "cells": [
    {
      "cell_type": "markdown",
      "metadata": {
        "id": "Vh-nh6XC_dzn"
      },
      "source": [
        "# DECISION TREE\n",
        "The goal of this exercise is to explore the parameters of a decision tree. For that, we will build a default decision tree (with sklearn) and then by visually exploration decide how to set the parameters of the model.\n",
        "\n",
        "We're working with the following dataset: \n",
        "\n",
        "###- Previous dataset\n",
        "The BADS_T2_logreg_sampling.csv file, excluding country.\n"
      ]
    },
    {
      "cell_type": "markdown",
      "metadata": {
        "id": "jf5tKvee_ZIx"
      },
      "source": [
        "## VERSION 1\n",
        "In this version you have to build from scratch the functions and solve any problems that may arise. Compare with the results from sklearn."
      ]
    },
    {
      "cell_type": "markdown",
      "metadata": {
        "id": "9CCdb_gDDQkI"
      },
      "source": [
        "First, you have to import the datasets."
      ]
    },
    {
      "cell_type": "code",
      "metadata": {
        "id": "5DqAePKHF-3l"
      },
      "source": [
        "# import from Google Drive"
      ],
      "execution_count": null,
      "outputs": []
    },
    {
      "cell_type": "code",
      "metadata": {
        "id": "9ATUuNbHGq2D"
      },
      "source": [
        "# preprocessing for decision tree"
      ],
      "execution_count": null,
      "outputs": []
    },
    {
      "cell_type": "markdown",
      "metadata": {
        "id": "Qu5F27FxXDgA"
      },
      "source": [
        "Then you have to create the decision tree, visualize it and tune it."
      ]
    },
    {
      "cell_type": "code",
      "metadata": {
        "id": "oWHuHFirXCZO"
      },
      "source": [
        "# build the model"
      ],
      "execution_count": null,
      "outputs": []
    },
    {
      "cell_type": "code",
      "metadata": {
        "id": "uhq5iglqXCLe"
      },
      "source": [
        "# plot the tree"
      ],
      "execution_count": null,
      "outputs": []
    },
    {
      "cell_type": "code",
      "metadata": {
        "id": "EpoNhtrpXK0h"
      },
      "source": [
        "# create a model with optimized parameters"
      ],
      "execution_count": null,
      "outputs": []
    },
    {
      "cell_type": "markdown",
      "metadata": {
        "id": "5f6DRpqyE4U_"
      },
      "source": [
        "## SOLUTION\n",
        "Here you have the solution (try not to spoiler yourself)."
      ]
    },
    {
      "cell_type": "code",
      "metadata": {
        "colab": {
          "base_uri": "https://localhost:8080/"
        },
        "id": "tW7ofZuDXfIb",
        "outputId": "ef6d86cc-cf3e-4219-f9c2-5e4413f3a5ff"
      },
      "source": [
        "from google.colab import drive\n",
        "drive.mount(\"/content/drive\")"
      ],
      "execution_count": null,
      "outputs": [
        {
          "output_type": "stream",
          "text": [
            "Mounted at /content/drive\n"
          ],
          "name": "stdout"
        }
      ]
    },
    {
      "cell_type": "code",
      "metadata": {
        "id": "cYA2jevnY-EA"
      },
      "source": [
        "# IMPORTING\n",
        "import pandas as pd\n",
        "\n",
        "df = pd.read_csv(\"/content/drive/MyDrive/Data Science/Training/Exercises/Datasets/BADS_T2_logreg_sampling.csv\")\n",
        "X,y = df.iloc[:,:-1],df.transaccion"
      ],
      "execution_count": null,
      "outputs": []
    },
    {
      "cell_type": "code",
      "metadata": {
        "id": "Igq9R0lwZVLQ"
      },
      "source": [
        "# PREPROCESSING\n",
        "X = X.fillna(0)\n",
        "X = X.drop('pais',axis=1)\n",
        "X = pd.get_dummies(X)"
      ],
      "execution_count": null,
      "outputs": []
    },
    {
      "cell_type": "code",
      "metadata": {
        "colab": {
          "base_uri": "https://localhost:8080/"
        },
        "id": "Ss17EVaSZeh0",
        "outputId": "234f8aca-7f8c-4c81-9a4b-4d28910aff87"
      },
      "source": [
        "# MODEL\n",
        "from sklearn.tree import DecisionTreeClassifier, plot_tree\n",
        "from sklearn import tree\n",
        "dt = DecisionTreeClassifier()\n",
        "dt.fit(X,y)"
      ],
      "execution_count": null,
      "outputs": [
        {
          "output_type": "execute_result",
          "data": {
            "text/plain": [
              "DecisionTreeClassifier(ccp_alpha=0.0, class_weight=None, criterion='gini',\n",
              "                       max_depth=None, max_features=None, max_leaf_nodes=None,\n",
              "                       min_impurity_decrease=0.0, min_impurity_split=None,\n",
              "                       min_samples_leaf=1, min_samples_split=2,\n",
              "                       min_weight_fraction_leaf=0.0, presort='deprecated',\n",
              "                       random_state=None, splitter='best')"
            ]
          },
          "metadata": {
            "tags": []
          },
          "execution_count": 59
        }
      ]
    },
    {
      "cell_type": "code",
      "metadata": {
        "id": "pQfWBGnpZzna"
      },
      "source": [
        "# PLOT\n",
        "import graphviz\n",
        "\n",
        "dot_data = tree.export_graphviz(dt, filled=True,feature_names=X.columns)\n",
        "graph = graphviz.Source(dot_data, format=\"png\") \n",
        "graph"
      ],
      "execution_count": null,
      "outputs": []
    },
    {
      "cell_type": "code",
      "metadata": {
        "id": "4PxeMK-4gMtQ"
      },
      "source": [
        "#!pip install dtreeviz\n",
        "from dtreeviz.trees import dtreeviz\n",
        "viz = dtreeviz(dt, X, y, feature_names=X.columns)\n",
        "viz"
      ],
      "execution_count": null,
      "outputs": []
    },
    {
      "cell_type": "markdown",
      "metadata": {
        "id": "ycH15R_fTdS9"
      },
      "source": [
        "# XGBOOST\n",
        "The goal of this exercise is both to test XGBoost hyperparameters and compare its performance against basic models (logistic regression and decision trees) across two widely different datasets.\n",
        "\n",
        "We're working with the following datasets: \n",
        "\n",
        "###- Small one\n",
        "The BADS_T2_logreg_sampling.csv file.\n",
        "\n",
        "###- Big one\n",
        "A dataset coming from Telecom. It's in the same folder under the name BADS_T2_xgboost.csv\n",
        "The transaction column comes directly from the original dataset ;)"
      ]
    },
    {
      "cell_type": "markdown",
      "metadata": {
        "id": "W_N6cTx3WdXp"
      },
      "source": [
        "## VERSION 1"
      ]
    },
    {
      "cell_type": "markdown",
      "metadata": {
        "id": "R90uUunyT-54"
      },
      "source": [
        "First, you have to import the datasets"
      ]
    },
    {
      "cell_type": "code",
      "metadata": {
        "id": "kH5hFfEZizSC"
      },
      "source": [
        ""
      ],
      "execution_count": null,
      "outputs": []
    },
    {
      "cell_type": "markdown",
      "metadata": {
        "id": "xAvDW3diUAwj"
      },
      "source": [
        "Then you have to do some preprocessing"
      ]
    },
    {
      "cell_type": "code",
      "metadata": {
        "id": "cwbg31xtTcDw"
      },
      "source": [
        ""
      ],
      "execution_count": null,
      "outputs": []
    },
    {
      "cell_type": "markdown",
      "metadata": {
        "id": "kE9QUAlCVZ7M"
      },
      "source": [
        "### SMALL DATASET"
      ]
    },
    {
      "cell_type": "markdown",
      "metadata": {
        "id": "MpjcFbW6UDND"
      },
      "source": [
        "After that, the first thing is to test the 3 models (logistic regression, decision tree and XGBoost) with default parameters. You can use either F1 or Average precision score. You have to report the chosen metric both in test and train (80-20 split)."
      ]
    },
    {
      "cell_type": "code",
      "metadata": {
        "id": "pGcCPWBeVXAl"
      },
      "source": [
        ""
      ],
      "execution_count": null,
      "outputs": []
    },
    {
      "cell_type": "markdown",
      "metadata": {
        "id": "Sy0jNTzIVXxw"
      },
      "source": [
        "Finally, you can play around with the hyperparameters of XGBoost to achieve better results. It's suggested to try these values for the hyperparameters:\n",
        "\n",
        "- Max_depth: [3-6]\n",
        "- Gamma: [0-1]\n",
        "- Min_child_weight: [1-5]\n",
        "- Learning_rate: [0.01-0.3]\n",
        "- Reg_lambda: [1-10]\n"
      ]
    },
    {
      "cell_type": "code",
      "metadata": {
        "id": "H7aesFGoV56A"
      },
      "source": [
        ""
      ],
      "execution_count": null,
      "outputs": []
    },
    {
      "cell_type": "markdown",
      "metadata": {
        "id": "qEISbevtV6-8"
      },
      "source": [
        "### BIG DATASET"
      ]
    },
    {
      "cell_type": "markdown",
      "metadata": {
        "id": "kyADbQJTV8pg"
      },
      "source": [
        "Firstly, you have to run the default models for this dataset and compare the results with the smaller one."
      ]
    },
    {
      "cell_type": "code",
      "metadata": {
        "id": "Cc6ZugjxV7zq"
      },
      "source": [
        "df_bq = pd.read_csv(\"/content/drive/MyDrive/Data Science/Training/Exercises/Datasets/BADS_T2_logreg_sampling.csv\")"
      ],
      "execution_count": null,
      "outputs": []
    },
    {
      "cell_type": "markdown",
      "metadata": {
        "id": "GxVxlj8KWHg8"
      },
      "source": [
        "Now, you have to try the parameters found in the previous dataset and apply them in a model for this dataset."
      ]
    },
    {
      "cell_type": "code",
      "metadata": {
        "id": "sEfjBTmpWWJT"
      },
      "source": [
        ""
      ],
      "execution_count": null,
      "outputs": []
    },
    {
      "cell_type": "markdown",
      "metadata": {
        "id": "SRrk_CuWWW7L"
      },
      "source": [
        "(Optional) If you want, you can play around again with the parameters to find a better combination."
      ]
    },
    {
      "cell_type": "code",
      "metadata": {
        "id": "s7WONiGbWbzh"
      },
      "source": [
        ""
      ],
      "execution_count": null,
      "outputs": []
    },
    {
      "cell_type": "markdown",
      "metadata": {
        "id": "pEzmbqFqWgzW"
      },
      "source": [
        "## SOLUTION"
      ]
    },
    {
      "cell_type": "code",
      "metadata": {
        "id": "Gu-NIBUZWiCs",
        "colab": {
          "base_uri": "https://localhost:8080/"
        },
        "outputId": "6f70bf13-d0ae-4cec-b52f-d2b8d877cb00"
      },
      "source": [
        "from google.colab import drive\n",
        "drive.mount(\"/content/drive\")"
      ],
      "execution_count": null,
      "outputs": [
        {
          "output_type": "stream",
          "text": [
            "Mounted at /content/drive\n"
          ],
          "name": "stdout"
        }
      ]
    },
    {
      "cell_type": "code",
      "metadata": {
        "id": "d2oAxKRgohZ8"
      },
      "source": [
        "import pandas as pd\n",
        "import numpy as np\n",
        "df = pd.read_csv(\"/content/drive/MyDrive/Data Science/Training/Exercises/Datasets/BADS_T2_logreg_sampling.csv\")\n",
        "df = df.fillna(0)\n",
        "df.loc[:,\"transaccion\"] = np.where(df.loc[:,'transaccion']==0,0,1)"
      ],
      "execution_count": null,
      "outputs": []
    },
    {
      "cell_type": "code",
      "metadata": {
        "id": "UOWkCktAorwK"
      },
      "source": [
        "# DIVIDE X,Y\n",
        "X,y = df.iloc[:,:-1].copy(), df.iloc[:,-1].copy()\n",
        "\n",
        "# TRAIN AND TEST\n",
        "from sklearn.model_selection import train_test_split\n",
        "X_train, X_test, y_train, y_test = train_test_split(X, y, test_size=0.2, stratify = y)\n",
        "\n",
        "# CATEGORICAL\n",
        "from sklearn.preprocessing import OneHotEncoder\n",
        "oneHot = OneHotEncoder(handle_unknown='ignore').fit(X_train)\n",
        "X_train, X_test = oneHot.transform(X_train), oneHot.transform(X_test)\n",
        "\n",
        "# NORMALIZATION\n",
        "from sklearn.preprocessing import Normalizer\n",
        "normalizer = Normalizer().fit(X_train)\n",
        "X_train, X_test = normalizer.transform(X_train), normalizer.transform(X_test)"
      ],
      "execution_count": null,
      "outputs": []
    },
    {
      "cell_type": "code",
      "metadata": {
        "id": "dnHkLznNo56z"
      },
      "source": [
        "from sklearn.linear_model import LogisticRegression\n",
        "logreg = LogisticRegression()"
      ],
      "execution_count": null,
      "outputs": []
    },
    {
      "cell_type": "code",
      "metadata": {
        "id": "OUY9w1zFpAk_"
      },
      "source": [
        "from sklearn.tree import DecisionTreeClassifier\n",
        "dt = DecisionTreeClassifier()"
      ],
      "execution_count": null,
      "outputs": []
    },
    {
      "cell_type": "code",
      "metadata": {
        "id": "roYcWwN1pB4f"
      },
      "source": [
        "from xgboost import XGBClassifier\n",
        "xgb = XGBClassifier()"
      ],
      "execution_count": null,
      "outputs": []
    },
    {
      "cell_type": "code",
      "metadata": {
        "colab": {
          "base_uri": "https://localhost:8080/"
        },
        "id": "EhqSlOYdpDRX",
        "outputId": "ee765cf5-212d-4858-8387-595e8b6e12fc"
      },
      "source": [
        "logreg.fit(X_train,y_train)\n",
        "dt.fit(X_train,y_train)\n",
        "xgb.fit(X_train,y_train)"
      ],
      "execution_count": null,
      "outputs": [
        {
          "output_type": "stream",
          "text": [
            "/usr/local/lib/python3.7/dist-packages/sklearn/linear_model/_logistic.py:940: ConvergenceWarning: lbfgs failed to converge (status=1):\n",
            "STOP: TOTAL NO. of ITERATIONS REACHED LIMIT.\n",
            "\n",
            "Increase the number of iterations (max_iter) or scale the data as shown in:\n",
            "    https://scikit-learn.org/stable/modules/preprocessing.html\n",
            "Please also refer to the documentation for alternative solver options:\n",
            "    https://scikit-learn.org/stable/modules/linear_model.html#logistic-regression\n",
            "  extra_warning_msg=_LOGISTIC_SOLVER_CONVERGENCE_MSG)\n"
          ],
          "name": "stderr"
        },
        {
          "output_type": "execute_result",
          "data": {
            "text/plain": [
              "XGBClassifier(base_score=0.5, booster='gbtree', colsample_bylevel=1,\n",
              "              colsample_bynode=1, colsample_bytree=1, gamma=0,\n",
              "              learning_rate=0.1, max_delta_step=0, max_depth=3,\n",
              "              min_child_weight=1, missing=None, n_estimators=100, n_jobs=1,\n",
              "              nthread=None, objective='binary:logistic', random_state=0,\n",
              "              reg_alpha=0, reg_lambda=1, scale_pos_weight=1, seed=None,\n",
              "              silent=None, subsample=1, verbosity=1)"
            ]
          },
          "metadata": {
            "tags": []
          },
          "execution_count": 11
        }
      ]
    },
    {
      "cell_type": "code",
      "metadata": {
        "colab": {
          "base_uri": "https://localhost:8080/"
        },
        "id": "VKR2zE2BpFqz",
        "outputId": "45fbab73-c92a-4177-f035-42bd49e300f3"
      },
      "source": [
        "from sklearn.metrics import f1_score,average_precision_score\n",
        "\n",
        "models = {\"logreg\":logreg,\"dt\":dt,\"xgb\":xgb}\n",
        "results_f1 = []\n",
        "results_aps = []\n",
        "\n",
        "for name,model in models.items():\n",
        "  model.fit(X_train,y_train)\n",
        "  y_hat, y_proba = model.predict(X_test), model.predict_proba(X_test)[:,1]\n",
        "  y_hat_train,y_proba_train = model.predict(X_train),model.predict_proba(X_train)[:,1]\n",
        "  f1_train, aps_train = f1_score(y_train,y_hat_train),average_precision_score(y_train,y_proba_train)\n",
        "  f1_test, aps_test = f1_score(y_test,y_hat),average_precision_score(y_test,y_proba)\n",
        "  results_f1.append([name,f1_train,f1_test])\n",
        "  results_aps.append([name,aps_train,aps_test])"
      ],
      "execution_count": null,
      "outputs": [
        {
          "output_type": "stream",
          "text": [
            "/usr/local/lib/python3.7/dist-packages/sklearn/linear_model/_logistic.py:940: ConvergenceWarning: lbfgs failed to converge (status=1):\n",
            "STOP: TOTAL NO. of ITERATIONS REACHED LIMIT.\n",
            "\n",
            "Increase the number of iterations (max_iter) or scale the data as shown in:\n",
            "    https://scikit-learn.org/stable/modules/preprocessing.html\n",
            "Please also refer to the documentation for alternative solver options:\n",
            "    https://scikit-learn.org/stable/modules/linear_model.html#logistic-regression\n",
            "  extra_warning_msg=_LOGISTIC_SOLVER_CONVERGENCE_MSG)\n"
          ],
          "name": "stderr"
        }
      ]
    },
    {
      "cell_type": "code",
      "metadata": {
        "colab": {
          "base_uri": "https://localhost:8080/",
          "height": 142
        },
        "id": "YJ1lUVV1pHxB",
        "outputId": "25a5620a-8f53-4e2c-f2a7-57f3c1d8332b"
      },
      "source": [
        "pd.DataFrame(results_f1,columns=['model','train','test'])"
      ],
      "execution_count": null,
      "outputs": [
        {
          "output_type": "execute_result",
          "data": {
            "text/html": [
              "<div>\n",
              "<style scoped>\n",
              "    .dataframe tbody tr th:only-of-type {\n",
              "        vertical-align: middle;\n",
              "    }\n",
              "\n",
              "    .dataframe tbody tr th {\n",
              "        vertical-align: top;\n",
              "    }\n",
              "\n",
              "    .dataframe thead th {\n",
              "        text-align: right;\n",
              "    }\n",
              "</style>\n",
              "<table border=\"1\" class=\"dataframe\">\n",
              "  <thead>\n",
              "    <tr style=\"text-align: right;\">\n",
              "      <th></th>\n",
              "      <th>model</th>\n",
              "      <th>train</th>\n",
              "      <th>test</th>\n",
              "    </tr>\n",
              "  </thead>\n",
              "  <tbody>\n",
              "    <tr>\n",
              "      <th>0</th>\n",
              "      <td>logreg</td>\n",
              "      <td>0.256139</td>\n",
              "      <td>0.210187</td>\n",
              "    </tr>\n",
              "    <tr>\n",
              "      <th>1</th>\n",
              "      <td>dt</td>\n",
              "      <td>0.983422</td>\n",
              "      <td>0.300706</td>\n",
              "    </tr>\n",
              "    <tr>\n",
              "      <th>2</th>\n",
              "      <td>xgb</td>\n",
              "      <td>0.000000</td>\n",
              "      <td>0.000000</td>\n",
              "    </tr>\n",
              "  </tbody>\n",
              "</table>\n",
              "</div>"
            ],
            "text/plain": [
              "    model     train      test\n",
              "0  logreg  0.256139  0.210187\n",
              "1      dt  0.983422  0.300706\n",
              "2     xgb  0.000000  0.000000"
            ]
          },
          "metadata": {
            "tags": []
          },
          "execution_count": 17
        }
      ]
    },
    {
      "cell_type": "code",
      "metadata": {
        "colab": {
          "base_uri": "https://localhost:8080/",
          "height": 142
        },
        "id": "nNfOuACXpWg0",
        "outputId": "05f04934-7f31-42d5-a3d4-4e958fd77181"
      },
      "source": [
        "pd.DataFrame(results_aps,columns=['model','train','test'])"
      ],
      "execution_count": null,
      "outputs": [
        {
          "output_type": "execute_result",
          "data": {
            "text/html": [
              "<div>\n",
              "<style scoped>\n",
              "    .dataframe tbody tr th:only-of-type {\n",
              "        vertical-align: middle;\n",
              "    }\n",
              "\n",
              "    .dataframe tbody tr th {\n",
              "        vertical-align: top;\n",
              "    }\n",
              "\n",
              "    .dataframe thead th {\n",
              "        text-align: right;\n",
              "    }\n",
              "</style>\n",
              "<table border=\"1\" class=\"dataframe\">\n",
              "  <thead>\n",
              "    <tr style=\"text-align: right;\">\n",
              "      <th></th>\n",
              "      <th>model</th>\n",
              "      <th>train</th>\n",
              "      <th>test</th>\n",
              "    </tr>\n",
              "  </thead>\n",
              "  <tbody>\n",
              "    <tr>\n",
              "      <th>0</th>\n",
              "      <td>logreg</td>\n",
              "      <td>0.488637</td>\n",
              "      <td>0.424852</td>\n",
              "    </tr>\n",
              "    <tr>\n",
              "      <th>1</th>\n",
              "      <td>dt</td>\n",
              "      <td>0.999102</td>\n",
              "      <td>0.108978</td>\n",
              "    </tr>\n",
              "    <tr>\n",
              "      <th>2</th>\n",
              "      <td>xgb</td>\n",
              "      <td>0.303574</td>\n",
              "      <td>0.298463</td>\n",
              "    </tr>\n",
              "  </tbody>\n",
              "</table>\n",
              "</div>"
            ],
            "text/plain": [
              "    model     train      test\n",
              "0  logreg  0.488637  0.424852\n",
              "1      dt  0.999102  0.108978\n",
              "2     xgb  0.303574  0.298463"
            ]
          },
          "metadata": {
            "tags": []
          },
          "execution_count": 18
        }
      ]
    },
    {
      "cell_type": "code",
      "metadata": {
        "id": "qboXg7HzpW_B"
      },
      "source": [
        ""
      ],
      "execution_count": null,
      "outputs": []
    }
  ]
}